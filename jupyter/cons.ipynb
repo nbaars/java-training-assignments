{
 "cells": [
  {
   "cell_type": "markdown",
   "id": "f78c635ef06a4b12",
   "metadata": {
    "collapsed": false
   },
   "source": [
    "## Classes\n",
    "\n",
    "In Java, everything is a class. A class is a blueprint for creating objects. It defines the structure and behaviour of the objects. A class can have the following parts:\n",
    "- Fields: variables that hold the state of the object\n",
    "- Methods: functions that define the behaviour of the object\n",
    "- Constructors: special methods that are called when an object is created\n",
    "- Static initializer blocks: blocks of code that are executed when the class is loaded\n",
    "- Instance initializer blocks: blocks of code that are executed when an object is created\n",
    "- Static fields: fields that are shared by all instances of the class\n",
    "- Static methods: methods that can be called without creating an object\n",
    "\n",
    "Let's see an example of a class:"
   ]
  },
  {
   "cell_type": "markdown",
   "source": [
    "# Building blocks of Java \n",
    "\n",
    "In this section, we will learn about the building blocks of Java. We will learn about classes, objects, fields, methods, constructors, inheritance, abstract classes, interfaces, and exceptions.\n"
   ],
   "metadata": {
    "collapsed": false
   },
   "id": "eccea422-35a9-448b-8feb-4db062e99f90"
  },
  {
   "cell_type": "code",
   "execution_count": 2,
   "id": "6c329bbf1a500d82",
   "metadata": {
    "ExecuteTime": {
     "end_time": "2024-01-09T09:45:01.429670Z",
     "start_time": "2024-01-09T09:45:01.147492Z"
    },
    "collapsed": false
   },
   "outputs": [
    {
     "name": "stdout",
     "output_type": "stream",
     "text": [
      "Hello from Person\n"
     ]
    }
   ],
   "source": [
    "class Person {\n",
    "    void print() {\n",
    "        System.out.println(\"Hello from Person\"); \n",
    "    }\n",
    "}\n",
    "\n",
    "Person p = new Person();\n",
    "p.print();\n"
   ]
  },
  {
   "cell_type": "markdown",
   "id": "b78bddc46b530a97",
   "metadata": {
    "collapsed": false
   },
   "source": [
    "### Fields \n",
    "\n",
    "A class can have the following fields: \n",
    "\n",
    "- static fields: shared by all instances of the class\n",
    "- instance fields: each instance of the class has its own copy of the field"
   ]
  },
  {
   "cell_type": "code",
   "execution_count": 6,
   "id": "a71627e6-eee3-4620-be03-48cf3bcb7fb5",
   "metadata": {
    "ExecuteTime": {
     "end_time": "2023-12-27T13:35:16.886893Z",
     "start_time": "2023-12-27T13:35:16.842047Z"
    }
   },
   "outputs": [
    {
     "ename": "CompilationException",
     "evalue": "",
     "output_type": "error",
     "traceback": [
      "\u001B[1m\u001B[30m|   \u001B[1m\u001B[30m\u001B[0m\u001B[1m\u001B[30m\u001B[41mPerson.name\u001B[0m\u001B[1m\u001B[30m;\u001B[0m",
      "\u001B[1m\u001B[31mnon-static variable name cannot be referenced from a static context\u001B[0m",
      ""
     ]
    }
   ],
   "source": [
    "class Person {\n",
    "    static String slogan = \"I love Java\";\n",
    "    String name = \"John\";\n",
    "    int age = 32;\n",
    "}\n",
    "\n",
    "new Person().name;\n",
    "Person.slogan;\n",
    "Person.name;\n",
    "\n"
   ]
  },
  {
   "cell_type": "markdown",
   "id": "e1d2577a-0881-47a3-bd9a-fc52eaa890f8",
   "metadata": {
    "collapsed": false
   },
   "source": [
    "### Constructors"
   ]
  },
  {
   "cell_type": "markdown",
   "id": "60d14e9b6deb6dd2",
   "metadata": {
    "collapsed": false
   },
   "source": [
    "To be able to create objects of a class, we need a constructor. It is a special method that is called when an object is created."
   ]
  },
  {
   "cell_type": "code",
   "execution_count": 7,
   "id": "ee65e5a29b6a0e3b",
   "metadata": {
    "ExecuteTime": {
     "end_time": "2023-12-27T12:22:39.537354Z",
     "start_time": "2023-12-27T12:22:39.515331Z"
    },
    "collapsed": false
   },
   "outputs": [
    {
     "data": {
      "text/plain": [
       "John"
      ]
     },
     "execution_count": 7,
     "metadata": {},
     "output_type": "execute_result"
    }
   ],
   "source": [
    "class Person {\n",
    "    String name;\n",
    "    int age;\n",
    "\n",
    "    Person() {\n",
    "        name = \"John\";\n",
    "        age = 32;\n",
    "    }\n",
    "}\n",
    "\n",
    "new Person().name;\n"
   ]
  },
  {
   "cell_type": "code",
   "execution_count": 12,
   "id": "7fc8e657bb7b1fbe",
   "metadata": {
    "ExecuteTime": {
     "end_time": "2023-12-27T12:23:19.377449Z",
     "start_time": "2023-12-27T12:23:19.319408Z"
    },
    "collapsed": false
   },
   "outputs": [
    {
     "data": {
      "text/plain": [
       "Test"
      ]
     },
     "execution_count": 12,
     "metadata": {},
     "output_type": "execute_result"
    }
   ],
   "source": [
    "class Person {\n",
    "    String name;\n",
    "    int age;\n",
    "\n",
    "    Person(String name, int age) {\n",
    "        this.name = name;\n",
    "        this.age = age;\n",
    "    }   \n",
    "}\n",
    "\n",
    "new Person(\"Test\", 32).name;"
   ]
  },
  {
   "cell_type": "code",
   "execution_count": null,
   "id": "9d778c4a-fe1d-461e-8f1b-2854b6140437",
   "metadata": {},
   "outputs": [],
   "source": []
  },
  {
   "cell_type": "markdown",
   "id": "8dc8f4d796900673",
   "metadata": {
    "collapsed": false
   },
   "source": [
    "#### Multiple constructors"
   ]
  },
  {
   "cell_type": "code",
   "execution_count": 22,
   "id": "f9f9b53bd37234d6",
   "metadata": {
    "ExecuteTime": {
     "end_time": "2023-12-27T12:26:06.604292Z",
     "start_time": "2023-12-27T12:26:06.560714Z"
    },
    "collapsed": false
   },
   "outputs": [
    {
     "name": "stdout",
     "output_type": "stream",
     "text": [
      "null\n"
     ]
    }
   ],
   "source": [
    "class Person {\n",
    "    String name;\n",
    "    int age = 0;\n",
    "\n",
    "    Person() {\n",
    "        //this.name = \"John\";\n",
    "        this.age = 32;\n",
    "    }\n",
    "    \n",
    "    Person(String name) {\n",
    "      this.name = name;\n",
    "    }\n",
    "    \n",
    "    Person(String name, int age) {\n",
    "        this.name = name;\n",
    "        this.age = age;\n",
    "    }  \n",
    "}\n",
    "\n",
    "System.out.println(new Person().name);"
   ]
  },
  {
   "cell_type": "markdown",
   "id": "ff507568de164cd9",
   "metadata": {
    "collapsed": false
   },
   "source": [
    "#### Forwarding a constructor call to other constructor"
   ]
  },
  {
   "cell_type": "code",
   "execution_count": 33,
   "id": "1d052a8ecd7a464",
   "metadata": {
    "ExecuteTime": {
     "end_time": "2023-12-27T12:28:29.790115Z",
     "start_time": "2023-12-27T12:28:29.746796Z"
    },
    "collapsed": false
   },
   "outputs": [
    {
     "data": {
      "text/plain": [
       "true"
      ]
     },
     "execution_count": 33,
     "metadata": {},
     "output_type": "execute_result"
    }
   ],
   "source": [
    "class Person {\n",
    "    String name;\n",
    "    int age;\n",
    "    boolean m;\n",
    "\n",
    "    Person() {\n",
    "       this(\"John\"); \n",
    "    }\n",
    "    \n",
    "    Person(String name) {\n",
    "       this(name, 20); \n",
    "    }\n",
    "    \n",
    "    Person(String name, int age) {\n",
    "       this.name = name;\n",
    "       this.age = age;\n",
    "    }  \n",
    "}\n",
    "\n",
    "Person p = new Person(\"John\");\n",
    "p instanceof Person\n"
   ]
  },
  {
   "cell_type": "markdown",
   "id": "addde786b74ab3e1",
   "metadata": {
    "collapsed": false
   },
   "source": [
    "### Methods\n",
    "\n",
    "The full method signature consists of the following parts:\n",
    "\n",
    "- Access modifier: optionally we can specify from wherein the code one can access the method\n",
    "- Return type: the type of the value returned by the method, otherwise void\n",
    "- Method identifier: the name we give to the method\n",
    "- Parameter list: an optional comma-separated list of inputs for the method\n",
    "- Exception list: an optional list of exceptions the method can throw\n",
    "- Body: definition of the logic (can be empty)\n",
    "\n"
   ]
  },
  {
   "cell_type": "code",
   "execution_count": 45,
   "id": "78650d6ffc869afa",
   "metadata": {
    "ExecuteTime": {
     "end_time": "2023-12-27T13:36:12.800938Z",
     "start_time": "2023-12-27T13:36:12.718995Z"
    },
    "collapsed": false
   },
   "outputs": [
    {
     "data": {
      "text/plain": [
       "REPL.$JShell$12W$Person@6613578"
      ]
     },
     "execution_count": 45,
     "metadata": {},
     "output_type": "execute_result"
    }
   ],
   "source": [
    "class Person {\n",
    "    String name;\n",
    "    int age;\n",
    "\n",
    "    Person(String name, int age) {\n",
    "        this.name = name;\n",
    "        this.age = age;\n",
    "    }  \n",
    "    \n",
    "    String getName() {\n",
    "        return \"\" + age;\n",
    "    }\n",
    "    \n",
    "    int getAge() {\n",
    "        return age;\n",
    "    }\n",
    "    \n",
    "    void setName(String name) {\n",
    "        this.name = name;\n",
    "    }\n",
    "\n",
    "    // public String toString() {\n",
    "    //   return \"[\" + age + name + \"]\";\n",
    "    // }\n",
    "}\n",
    "\n",
    "Person person = new Person(\"John\", 32);\n",
    "person.setName(\"Jack\");\n",
    "person;\n",
    "\n"
   ]
  },
  {
   "cell_type": "code",
   "execution_count": null,
   "id": "bb98f28a-c133-470a-a25d-4dc2c565821d",
   "metadata": {},
   "outputs": [],
   "source": []
  },
  {
   "cell_type": "markdown",
   "id": "241f0643605b809a",
   "metadata": {
    "collapsed": false
   },
   "source": [
    "#### Static methods"
   ]
  },
  {
   "cell_type": "code",
   "execution_count": 60,
   "id": "30358c1111c1cdc9",
   "metadata": {
    "ExecuteTime": {
     "end_time": "2023-12-27T13:07:10.869217Z",
     "start_time": "2023-12-27T13:07:10.813744Z"
    },
    "collapsed": false
   },
   "outputs": [
    {
     "data": {
      "text/plain": [
       "true"
      ]
     },
     "execution_count": 60,
     "metadata": {},
     "output_type": "execute_result"
    }
   ],
   "source": [
    "class Person {\n",
    "    static String c = \"\";\n",
    "    String name;\n",
    "    int age;\n",
    "\n",
    "    Person(String name, int age) {\n",
    "        this.name = name;\n",
    "        this.age = age;\n",
    "    }  \n",
    "\n",
    "    public static boolean isEmpty() {\n",
    "        return c.isBlank();\n",
    "      //  return false;\n",
    "    }\n",
    "    \n",
    "    \n",
    "    String getName() {\n",
    "        return name;\n",
    "    }\n",
    "    \n",
    "    static Person createPerson(String name, int age) {\n",
    "        return new Person(name, age);\n",
    "    }\n",
    "   \n",
    "}\n",
    "new Person(\"\", 1).getName();\n",
    "Person person = Person.createPerson(\"    \", 32);\n",
    "person.getName();\n",
    "person.isEmpty();"
   ]
  },
  {
   "cell_type": "code",
   "execution_count": null,
   "id": "07b47d96-9d0c-487d-a18b-f73948948e8f",
   "metadata": {},
   "outputs": [],
   "source": []
  },
  {
   "cell_type": "markdown",
   "id": "289dbe6caa9de5d8",
   "metadata": {
    "collapsed": false
   },
   "source": [
    "#### Overloading methods\n",
    "\n",
    "This means that we can have multiple methods with the same name, but different parameter lists. This is called the method signature."
   ]
  },
  {
   "cell_type": "code",
   "execution_count": 63,
   "id": "aa9a34edc5c5bae5",
   "metadata": {
    "ExecuteTime": {
     "end_time": "2023-12-27T13:14:42.347539Z",
     "start_time": "2023-12-27T13:14:41.888300Z"
    },
    "collapsed": false
   },
   "outputs": [
    {
     "name": "stdout",
     "output_type": "stream",
     "text": [
      "John is 32 years old.\n",
      "Mr. John is 32 years old.\n"
     ]
    }
   ],
   "source": [
    "class Person {\n",
    "    String name;\n",
    "    int age;\n",
    "\n",
    "    Person(String name, int age) {\n",
    "        this.name = name;\n",
    "        this.age = age;\n",
    "    }  \n",
    "    \n",
    "    String getName() {\n",
    "        return name;\n",
    "    }\n",
    "    \n",
    "    void print() {\n",
    "        System.out.println(name + \" is \" + age + \" years old.\"); \n",
    "    }\n",
    "    \n",
    "    void print(String prefix) {\n",
    "        System.out.println(prefix + \". \" + name + \" is \" + age + \" years old.\"); \n",
    "    }\n",
    "\n",
    "    void print(Object prefix) {\n",
    "\n",
    "    }\n",
    "}\n",
    "\n",
    "Person person = new Person(\"John\", 32);\n",
    "person.print();\n",
    "person.print(\"Mr\");"
   ]
  },
  {
   "cell_type": "markdown",
   "id": "de2b432775aea266",
   "metadata": {
    "collapsed": false
   },
   "source": [
    "### Scoping \n",
    "\n",
    "A classes / fields / methods can have the following scopes:\n",
    "\n",
    "- public: the method can be accessed from anywhere\n",
    "- protected: the method can be accessed from the same package or from a subclass\n",
    "- default: the method can be accessed from the same package\n",
    "- private: the method can be accessed only from the same class"
   ]
  },
  {
   "cell_type": "code",
   "execution_count": 77,
   "id": "ca9ce8d4694c3ea0",
   "metadata": {
    "ExecuteTime": {
     "end_time": "2023-12-27T13:33:07.818792Z",
     "start_time": "2023-12-27T13:33:07.689626Z"
    },
    "collapsed": false
   },
   "outputs": [
    {
     "name": "stdout",
     "output_type": "stream",
     "text": [
      "default method\n"
     ]
    }
   ],
   "source": [
    "class Test {\n",
    "\n",
    "    private String name;\n",
    "    private static Test person = new Test(\"John\");\n",
    "\n",
    "    public Test(String name) {\n",
    "        this.name = name;\n",
    "    } \n",
    "\n",
    "    public Test(String name, String lastName, String address, String postalCode, S) {\n",
    "        this.name = name;\n",
    "        this.lastName = lastName;\n",
    "    }\n",
    "\n",
    "    public static Test getInstance() {\n",
    "        return person;\n",
    "    }\n",
    "\n",
    "    public static Test createPersonOnlyWithNameWithoutAge(String name) {\n",
    "        return new Test(name);\n",
    "    }\n",
    "    \n",
    "    public void publicMethod() {\n",
    "        System.out.println(\"public method\");\n",
    "    }\n",
    "    \n",
    "    protected void protectedMethod() {\n",
    "        System.out.println(\"protected method\");\n",
    "    }\n",
    "    \n",
    "    void defaultMethod() {\n",
    "        System.out.println(\"default method\");\n",
    "    }\n",
    "    \n",
    "    private void privateMethod() {\n",
    "        System.out.println(\"private method\");\n",
    "    }\n",
    "}\n",
    "\n",
    "Test test = Test.getInstance();\n",
    "new Test(name = \"a\",\"da\")\n",
    "test.defaultMethod();\n",
    "//Test test = Test.of(\"John\");\n",
    "//test.publicMethod();\n",
    "//test.protectedMethod();\n",
    "//test.defaultMethod();\n",
    "//test.privateMethod();"
   ]
  },
  {
   "cell_type": "markdown",
   "id": "2db96ac285aeaeba",
   "metadata": {
    "collapsed": false
   },
   "source": [
    "### Varargs\n",
    "\n",
    "We can use the varargs syntax to specify that a method can take a variable number of arguments. The varargs parameter must be the last parameter in the method signature. Varargs are like arrays, but they are more flexible."
   ]
  },
  {
   "cell_type": "code",
   "execution_count": 87,
   "id": "837bf535a40044bd",
   "metadata": {
    "ExecuteTime": {
     "end_time": "2024-01-01T16:55:27.030407Z",
     "start_time": "2024-01-01T16:55:26.987388Z"
    },
    "collapsed": false
   },
   "outputs": [
    {
     "ename": "CompilationException",
     "evalue": "",
     "output_type": "error",
     "traceback": [
      "\u001B[1m\u001B[30m|   \u001B[1m\u001B[30m\u001B[0m\u001B[1m\u001B[30m\u001B[41mprint\u001B[0m\u001B[1m\u001B[30m(\"Megan\", \"Jack\");\u001B[0m",
      "\u001B[1m\u001B[31mreference to print is ambiguous\u001B[0m",
      "\u001B[1m\u001B[31m  both method print(java.lang.String,java.lang.String...) in  and method print(java.lang.String...) in  match\u001B[0m",
      ""
     ]
    }
   ],
   "source": [
    "\n",
    "\n",
    "static void print(String n, String... names) {\n",
    "  for (String name : names) {\n",
    "    System.out.println(name);\n",
    "  }\n",
    "}\n",
    "\n",
    "static void print(String... names) {\n",
    "}\n",
    "\n",
    "print(\"Megan\", \"Jack\");"
   ]
  },
  {
   "cell_type": "markdown",
   "id": "611da59bc5ba7d07",
   "metadata": {
    "collapsed": false
   },
   "source": [
    "## Inheritance\n",
    "\n",
    "Java supports single inheritance, which means that a class can only extend one other class. However, a class can implement multiple interfaces. This is called multiple inheritance."
   ]
  },
  {
   "cell_type": "code",
   "execution_count": 103,
   "id": "3bf7dba2ae2807ee",
   "metadata": {
    "ExecuteTime": {
     "end_time": "2023-12-27T13:37:56.157682Z",
     "start_time": "2023-12-27T13:37:56.119551Z"
    },
    "collapsed": false
   },
   "outputs": [
    {
     "ename": "CompilationException",
     "evalue": "",
     "output_type": "error",
     "traceback": [
      "\u001B[1m\u001B[30m|   \u001B[1m\u001B[30m\u001B[0m\u001B[1m\u001B[30m\u001B[41ma.bark\u001B[0m\u001B[1m\u001B[30m();\u001B[0m",
      "\u001B[1m\u001B[31mcannot find symbol\u001B[0m",
      "\u001B[1m\u001B[31m  symbol:   method bark()\u001B[0m",
      ""
     ]
    }
   ],
   "source": [
    "class Animal {\n",
    "}\n",
    "\n",
    "class Dog extends Animal { \n",
    "    void bark() {\n",
    "        System.out.println(\"Woof!\");\n",
    "    }\n",
    "}\n",
    "\n",
    "class Cat extends Animal { \n",
    "    void meow() {\n",
    "        System.out.println(\"Meow!\");\n",
    "    }\n",
    "}\n",
    "\n",
    "Animal a = new Dog();\n",
    "a.bark();"
   ]
  },
  {
   "cell_type": "code",
   "execution_count": null,
   "id": "86417727-bdf9-4790-a945-5d65ae318321",
   "metadata": {},
   "outputs": [],
   "source": []
  },
  {
   "cell_type": "code",
   "execution_count": null,
   "id": "cc300887-fb43-4c0c-a71c-217478727535",
   "metadata": {},
   "outputs": [],
   "source": []
  },
  {
   "cell_type": "markdown",
   "id": "fee61babc9d28b84",
   "metadata": {
    "collapsed": false
   },
   "source": [
    "### Overriding methods\n",
    "\n",
    "We can override methods from the superclass. This means that we can provide a different implementation for the method in the subclass."
   ]
  },
  {
   "cell_type": "code",
   "execution_count": 105,
   "id": "6847591c433e4029",
   "metadata": {
    "ExecuteTime": {
     "end_time": "2023-12-27T13:44:38.284320Z",
     "start_time": "2023-12-27T13:44:38.251682Z"
    },
    "collapsed": false
   },
   "outputs": [
    {
     "name": "stdout",
     "output_type": "stream",
     "text": [
      "Animal sound\n",
      "Woof!\n"
     ]
    }
   ],
   "source": [
    "class Animal {\n",
    "    \n",
    "    void makeSound() {\n",
    "        System.out.println(\"Animal sound\");\n",
    "    }\n",
    "}\n",
    "\n",
    "class Dog extends Animal { \n",
    "    void makeSound() {\n",
    "        super.makeSound();\n",
    "        System.out.println(\"Woof!\");\n",
    "    }\n",
    "}\n",
    "\n",
    "Animal animal = new Dog();\n",
    "animal.makeSound();"
   ]
  },
  {
   "cell_type": "markdown",
   "id": "fd4045c59afda327",
   "metadata": {
    "collapsed": false
   },
   "source": [
    "### Final method to prevent overriding\n",
    "\n",
    "We can use the final keyword to prevent overriding a method in the subclass."
   ]
  },
  {
   "cell_type": "code",
   "execution_count": 106,
   "id": "c2abd613c2755022",
   "metadata": {
    "ExecuteTime": {
     "end_time": "2023-12-27T13:49:10.407765Z",
     "start_time": "2023-12-27T13:49:10.341896Z"
    },
    "collapsed": false
   },
   "outputs": [
    {
     "ename": "CompilationException",
     "evalue": "",
     "output_type": "error",
     "traceback": [
      "\u001B[1m\u001B[30m|   \u001B[1m\u001B[30m    \u001B[0m\u001B[1m\u001B[30m\u001B[41mvoid makeSound() {\u001B[0m",
      "\u001B[1m\u001B[30m|   \u001B[1m\u001B[30m\u001B[41m        System.out.println(\"Woof!\"); //Will not work\u001B[0m",
      "\u001B[1m\u001B[30m|   \u001B[1m\u001B[30m\u001B[41m    }\u001B[0m",
      "\u001B[1m\u001B[31mmakeSound() in Dog cannot override makeSound() in Animal\u001B[0m",
      "\u001B[1m\u001B[31m  overridden method is final\u001B[0m",
      ""
     ]
    }
   ],
   "source": [
    "class Animal {    \n",
    "    final void makeSound() {\n",
    "        System.out.println(\"Animal sound\");\n",
    "    }\n",
    "}\n",
    "\n",
    "class Dog extends Animal { \n",
    "    void makeSound() {\n",
    "        System.out.println(\"Woof!\"); //Will not work\n",
    "    }\n",
    "}"
   ]
  },
  {
   "cell_type": "code",
   "execution_count": null,
   "id": "53e72a3c-4f0a-4e91-82f4-05feb3c9fd2d",
   "metadata": {},
   "outputs": [],
   "source": []
  },
  {
   "cell_type": "markdown",
   "id": "d06c07997e30e71",
   "metadata": {
    "collapsed": false
   },
   "source": [
    "### Super \n",
    "\n",
    "In the subclass, we can call the superclass methods using the super keyword."
   ]
  },
  {
   "cell_type": "code",
   "execution_count": 98,
   "id": "1cb59468b184e8a5",
   "metadata": {
    "ExecuteTime": {
     "end_time": "2023-12-27T13:46:05.636392Z",
     "start_time": "2023-12-27T13:46:05.572296Z"
    },
    "collapsed": false
   },
   "outputs": [
    {
     "name": "stdout",
     "output_type": "stream",
     "text": [
      "Animal sound\n",
      "Woof!\n"
     ]
    }
   ],
   "source": [
    "class Animal {    \n",
    "    void makeSound() {\n",
    "        System.out.println(\"Animal sound\");\n",
    "    }\n",
    "}\n",
    "\n",
    "class Dog extends Animal { \n",
    "    void makeSound() {\n",
    "        super.makeSound();\n",
    "        System.out.println(\"Woof!\");\n",
    "    }\n",
    "}\n",
    "\n",
    "new Dog().makeSound();"
   ]
  },
  {
   "cell_type": "markdown",
   "id": "781567c440e75172",
   "metadata": {
    "collapsed": false
   },
   "source": [
    "### Super with constructors\n",
    "\n",
    "Also in the subclass, we can call the superclass constructor using the super keyword."
   ]
  },
  {
   "cell_type": "code",
   "execution_count": 116,
   "id": "750ba5582a5d550d",
   "metadata": {
    "ExecuteTime": {
     "end_time": "2023-12-27T13:48:00.009252Z",
     "start_time": "2023-12-27T13:47:59.968073Z"
    },
    "collapsed": false
   },
   "outputs": [
    {
     "data": {
      "text/plain": [
       "0"
      ]
     },
     "execution_count": 116,
     "metadata": {},
     "output_type": "execute_result"
    }
   ],
   "source": [
    "class Animal {\n",
    "    String name;\n",
    "    int age;\n",
    "\n",
    "    \n",
    "    Animal(String name) {\n",
    "        this.name = name;\n",
    "    }\n",
    "\n",
    "    Animal(String name, int age) {\n",
    "        this.name = name;\n",
    "        this.age = age;\n",
    "    }\n",
    "\n",
    "    public int getAge() {\n",
    "        return age;\n",
    "    }\n",
    "    \n",
    "    public String getName() {\n",
    "        return name;\n",
    "    }\n",
    "}\n",
    "\n",
    "class Dog extends Animal {\n",
    "    Dog(String name, int age) {\n",
    "      super(name);\n",
    "    }\n",
    "}\n",
    "\n",
    "new Dog(\"Woofy\", 1).getAge();"
   ]
  },
  {
   "cell_type": "code",
   "execution_count": null,
   "id": "2c5b747415f1177f",
   "metadata": {
    "collapsed": false
   },
   "outputs": [],
   "source": [
    "## Abstract classes\n",
    "\n",
    "Abstract classes are classes that cannot be instantiated. They are used to define common behaviour for subclasses. They can have abstract methods, which means that the subclasses need to implement them."
   ]
  },
  {
   "cell_type": "code",
   "execution_count": 120,
   "id": "385b0f40416c259d",
   "metadata": {
    "ExecuteTime": {
     "end_time": "2023-12-27T13:38:52.334093Z",
     "start_time": "2023-12-27T13:38:52.211698Z"
    },
    "collapsed": false
   },
   "outputs": [
    {
     "name": "stdout",
     "output_type": "stream",
     "text": [
      "Meow!\n"
     ]
    },
    {
     "data": {
      "text/plain": [
       "class REPL.$JShell$143M$1"
      ]
     },
     "execution_count": 120,
     "metadata": {},
     "output_type": "execute_result"
    }
   ],
   "source": [
    "abstract class Animal {\n",
    "    String name;\n",
    "    \n",
    "    abstract void makeSound();\n",
    "}\n",
    "\n",
    "class Dog extends Animal { \n",
    "    void makeSound() {\n",
    "        System.out.println(\"Woof!\");\n",
    "    }\n",
    "}\n",
    "\n",
    "class Cat extends Animal { \n",
    "    void makeSound() {\n",
    "        System.out.println(\"Meow!\");\n",
    "    }\n",
    "}\n",
    "class MainForm_OkButtonClicked extends ActionEvent { \n",
    "\n",
    "}\n",
    "//Animal a = new Animal();\n",
    "\n",
    "new Cat().makeSound();\n",
    "\n",
    "Animal a = button.addAction(new ActionEvent() {\n",
    "  void makeSound() {}\n",
    "});\n",
    "a.getClass();"
   ]
  },
  {
   "cell_type": "markdown",
   "id": "56df5c582f559402",
   "metadata": {
    "collapsed": false
   },
   "source": [
    "## Object\n",
    "\n",
    "Every class in Java extends the `Object` class. This means that every class has the following methods:\n",
    "- equals: checks if two objects are equal\n",
    "- hashCode: returns the hash code of the object\n",
    "- toString: returns a string representation of the object\n",
    "- clone: creates a copy of the object\n",
    "- getClass: returns the class of the object\n"
   ]
  },
  {
   "cell_type": "code",
   "execution_count": 123,
   "id": "4eed58f9fe326fb2",
   "metadata": {
    "ExecuteTime": {
     "end_time": "2023-12-27T14:12:41.981051Z",
     "start_time": "2023-12-27T14:12:41.427110Z"
    },
    "collapsed": false
   },
   "outputs": [
    {
     "name": "stdout",
     "output_type": "stream",
     "text": [
      "true\n",
      "false\n",
      "true\n",
      "false\n",
      "1552500498\n",
      "REPL.$JShell$12BL$Person@5c894712\n",
      "class REPL.$JShell$12BL$Person\n"
     ]
    },
    {
     "data": {
      "text/plain": [
       "false"
      ]
     },
     "execution_count": 123,
     "metadata": {},
     "output_type": "execute_result"
    }
   ],
   "source": [
    "class Person extends Object {\n",
    "    String name;\n",
    "    int age;\n",
    "\n",
    "    Person(String name, int age) {\n",
    "        this.name = name;\n",
    "        this.age = age;\n",
    "    }  \n",
    "    \n",
    "    String getName() {\n",
    "        return name;\n",
    "    }\n",
    "}\n",
    "\n",
    "Person john = new Person(\"John\", 32);\n",
    "Person megan = new Person(\"Megan\", 28);\n",
    "\n",
    "System.out.println(john == john);\n",
    "System.out.println(john == megan);\n",
    "System.out.println(john.equals(john));\n",
    "System.out.println(john.equals(megan));\n",
    "System.out.println(john.hashCode());\n",
    "System.out.println(john.toString());\n",
    "System.out.println(john.getClass());\n",
    "Person john1 = new Person(\"John\", 32);\n",
    "Person john2 = new Person(\"John\", 32);\n",
    "john1 == john2;"
   ]
  },
  {
   "cell_type": "markdown",
   "id": "370a4c7ef9cac811",
   "metadata": {
    "collapsed": false
   },
   "source": [
    "### Implement a better equals method\n",
    "\n",
    "The default implementation of the equals method checks if the two objects are the same. We can override this method to check if the objects have the same values."
   ]
  },
  {
   "cell_type": "code",
   "execution_count": 126,
   "id": "a3f5a35f6e6eef5",
   "metadata": {
    "ExecuteTime": {
     "end_time": "2023-12-27T14:17:39.011168Z",
     "start_time": "2023-12-27T14:17:38.885846Z"
    },
    "collapsed": false
   },
   "outputs": [
    {
     "name": "stdout",
     "output_type": "stream",
     "text": [
      "false\n",
      "false\n",
      "John is 31 years old.\n"
     ]
    }
   ],
   "source": [
    "class Person extends Object {\n",
    "    String name;\n",
    "    int age;\n",
    "\n",
    "    Person(String name, int age) {\n",
    "        this.name = name;\n",
    "        this.age = age;\n",
    "    }  \n",
    "    \n",
    "    String getName() {\n",
    "        return name;\n",
    "    }\n",
    "    \n",
    "    public boolean equals(Object obj) {\n",
    "        if (obj == this) {\n",
    "            return true;\n",
    "        }\n",
    "        \n",
    "        if (!(obj instanceof Person)) {\n",
    "            return false;\n",
    "        }\n",
    "        \n",
    "        Person person = (Person) obj;\n",
    "        return person.getName().equals(name);\n",
    "    }\n",
    "    \n",
    "    public String toString() {\n",
    "        return name + \" is \" + age + \" years old.\";\n",
    "    }\n",
    "}\n",
    "\n",
    "Person john1 = new Person(\"John\", 31);\n",
    "Person john2 = new Person(\"John\", 32);\n",
    "Person megan = new Person(\"Megan\", 28);\n",
    "\n",
    "System.out.println(john1.equals(\"john\"));\n",
    "System.out.println(john1.equals(megan));\n",
    "System.out.println(john1.toString());"
   ]
  },
  {
   "cell_type": "markdown",
   "id": "756cbed5237f00be",
   "metadata": {
    "collapsed": false
   },
   "source": [
    "## Exceptions\n",
    "\n",
    "In Java, we can have checked and unchecked exceptions. Checked exceptions are the ones that we need to handle in our code, otherwise the code will not compile. Unchecked exceptions are the ones that we do not need to handle, but we can if we want to.\n"
   ]
  },
  {
   "cell_type": "code",
   "execution_count": 127,
   "id": "2c4529de49d3e9c1",
   "metadata": {
    "ExecuteTime": {
     "end_time": "2023-12-27T14:19:21.074401Z",
     "start_time": "2023-12-27T14:19:21.005394Z"
    },
    "collapsed": false
   },
   "outputs": [
    {
     "ename": "EvalException",
     "evalue": "Name cannot be null",
     "output_type": "error",
     "traceback": [
      "\u001B[1m\u001B[31m---------------------------------------------------------------------------\u001B[0m",
      "\u001B[1m\u001B[31mjava.lang.IllegalArgumentException: Name cannot be null\u001B[0m",
      "\u001B[1m\u001B[31m\tat Person.<init>(#12:7)\u001B[0m",
      "\u001B[1m\u001B[31m\tat .(#204:1)\u001B[0m"
     ]
    }
   ],
   "source": [
    "class Person {\n",
    "    String name;\n",
    "    int age;\n",
    "\n",
    "    Person(String name, int age) {\n",
    "        if (name == null) {\n",
    "            throw new IllegalArgumentException(\"Name cannot be null\");\n",
    "        }\n",
    "        if (age < 0) {\n",
    "            throw new IllegalArgumentException(\"Age cannot be negative\");\n",
    "        }\n",
    "        \n",
    "        this.name = name;\n",
    "        this.age = age;\n",
    "    }  \n",
    "    \n",
    "    String getName() {\n",
    "        return name;\n",
    "    }\n",
    "}\n",
    "\n",
    "new Person(null, 32);"
   ]
  },
  {
   "cell_type": "code",
   "execution_count": null,
   "id": "a488d5af-1a1c-41ad-910b-29e919acb018",
   "metadata": {},
   "outputs": [],
   "source": []
  },
  {
   "cell_type": "markdown",
   "id": "37a4360b2486170a",
   "metadata": {
    "collapsed": false
   },
   "source": [
    "### Defining a custom exception\n",
    "\n",
    "We can define our own exceptions by extending the Exception class. We can also extend the RuntimeException class to create unchecked exceptions. A checked exception must be thrown in the method signature, while an unchecked exception does not need to be thrown. A checked exception must be handled in the code, while an unchecked exception does not need to be handled."
   ]
  },
  {
   "cell_type": "code",
   "execution_count": 132,
   "id": "3ac300e5c8f6f5c",
   "metadata": {
    "ExecuteTime": {
     "end_time": "2023-12-27T17:26:56.884587Z",
     "start_time": "2023-12-27T17:26:56.494819Z"
    },
    "collapsed": false
   },
   "outputs": [
    {
     "name": "stderr",
     "output_type": "stream",
     "text": [
      "REPL.$JShell$205$NameCannotBeNullException: Name cannot be null\n",
      "\tat REPL.$JShell$12BR$Person.<init>($JShell$12BR.java:23)\n",
      "\tat REPL.$JShell$208.do_it$($JShell$208.java:18)\n",
      "\tat java.base/jdk.internal.reflect.NativeMethodAccessorImpl.invoke0(Native Method)\n",
      "\tat java.base/jdk.internal.reflect.NativeMethodAccessorImpl.invoke(NativeMethodAccessorImpl.java:77)\n",
      "\tat java.base/jdk.internal.reflect.DelegatingMethodAccessorImpl.invoke(DelegatingMethodAccessorImpl.java:43)\n",
      "\tat java.base/java.lang.reflect.Method.invoke(Method.java:568)\n",
      "\tat io.github.spencerpark.ijava.execution.IJavaExecutionControl.lambda$execute$1(IJavaExecutionControl.java:95)\n",
      "\tat java.base/java.util.concurrent.FutureTask.run(FutureTask.java:264)\n",
      "\tat java.base/java.util.concurrent.ThreadPoolExecutor.runWorker(ThreadPoolExecutor.java:1136)\n",
      "\tat java.base/java.util.concurrent.ThreadPoolExecutor$Worker.run(ThreadPoolExecutor.java:635)\n",
      "\tat java.base/java.lang.Thread.run(Thread.java:833)\n"
     ]
    },
    {
     "name": "stdout",
     "output_type": "stream",
     "text": [
      "Name cannot be null\n",
      "Age cannot be negative\n"
     ]
    }
   ],
   "source": [
    "class NameCannotBeNullException extends Exception {\n",
    "    NameCannotBeNullException(String message) {\n",
    "        super(message);\n",
    "    }\n",
    "}\n",
    "\n",
    "class Person {\n",
    "    final String name;\n",
    "    final int age;\n",
    "\n",
    "    Person(String name, int age) throws NameCannotBeNullException {\n",
    "        if (name == null) {\n",
    "            throw new NullPointerException(\"Name cannot be null\");\n",
    "            throw new NameCannotBeNullException(\"Name cannot be null\");\n",
    "        }\n",
    "        \n",
    "        if (age < 0) {\n",
    "            throw new IllegalArgumentException(\"Age cannot be negative\");\n",
    "        }\n",
    "        \n",
    "        this.name = name;\n",
    "        this.age = age;\n",
    "    }  \n",
    "\n",
    "    public boolean isMarried() {\n",
    "       if ( age < 18) {\n",
    "           throw new IllegalArgumentException(\"Not allowed\");\n",
    "       } \n",
    "       return true/false;\n",
    "    }\n",
    "    \n",
    "    String getName() {\n",
    "        return name;\n",
    "    }\n",
    "    public void setName(String n) {\n",
    "        this.name = n;\n",
    "    }\n",
    "}\n",
    "\n",
    "try {\n",
    "  Person p = new Person(null, 32);\n",
    "} catch (NameCannotBeNullException e) {\n",
    "    e.printStackTrace();\n",
    "  System.out.println(e.getMessage());\n",
    "}\n",
    "\n",
    "try {\n",
    "  Person p = new Person(\"John\", -32);\n",
    "} catch (Throwable t) {\n",
    "     System.out.println(e.getMessage());\n",
    "}\n",
    "\n",
    "// System.out.println(new Person(\"John\", -32));\n"
   ]
  },
  {
   "cell_type": "code",
   "execution_count": null,
   "id": "94e29a63-4cf1-402e-af8b-7aded7168403",
   "metadata": {},
   "outputs": [],
   "source": []
  },
  {
   "cell_type": "code",
   "execution_count": null,
   "id": "f8b498fb-c520-4b83-93cd-0036aa712f62",
   "metadata": {},
   "outputs": [],
   "source": []
  },
  {
   "cell_type": "markdown",
   "id": "cdbbcd1295b1df36",
   "metadata": {
    "collapsed": false
   },
   "source": [
    "## Interfaces\n",
    "\n",
    "An interface is a contract that defines the behaviour of a class. It can contain abstract methods, default methods, static methods, and static fields. A class can implement multiple interfaces.\n"
   ]
  },
  {
   "cell_type": "code",
   "execution_count": 2,
   "id": "d844b3033493e4ba",
   "metadata": {
    "ExecuteTime": {
     "end_time": "2023-12-27T17:28:12.646497Z",
     "start_time": "2023-12-27T17:28:12.578741Z"
    },
    "collapsed": false
   },
   "outputs": [
    {
     "name": "stdout",
     "output_type": "stream",
     "text": [
      "Meow!\n"
     ]
    }
   ],
   "source": [
    "interface Animal {\n",
    "    void makeSound();\n",
    "}\n",
    "\n",
    "class Cat implements Animal {\n",
    "    public void makeSound() {\n",
    "        System.out.println(\"Meow!\");\n",
    "    }\n",
    "}\n",
    "\n",
    "class Dog implements Animal {\n",
    "    public void makeSound() {\n",
    "        System.out.println(\"Woof!\");\n",
    "    }\n",
    "}\n",
    "\n",
    "Animal cat = new Cat();\n",
    "cat.makeSound();"
   ]
  },
  {
   "cell_type": "code",
   "execution_count": null,
   "id": "3fc2d24d00c06988",
   "metadata": {
    "collapsed": false
   },
   "outputs": [],
   "source": [
    "### Multiple interfaces\n",
    "\n",
    "A class can implement multiple interfaces."
   ]
  },
  {
   "cell_type": "code",
   "execution_count": 4,
   "id": "3c11b0d5ccde2f52",
   "metadata": {
    "ExecuteTime": {
     "end_time": "2023-12-27T17:29:06.170802Z",
     "start_time": "2023-12-27T17:29:06.126947Z"
    },
    "collapsed": false
   },
   "outputs": [
    {
     "name": "stdout",
     "output_type": "stream",
     "text": [
      "Eating...\n"
     ]
    }
   ],
   "source": [
    "interface Animal {\n",
    "    void makeSound();\n",
    "}\n",
    "\n",
    "interface Mammal {\n",
    "    void eat();\n",
    "}\n",
    "\n",
    "class Cat implements Animal, Mammal {\n",
    "    public void makeSound() {\n",
    "        System.out.println(\"Meow!\");\n",
    "    }\n",
    "    \n",
    "    public void eat() {\n",
    "        System.out.println(\"Eating...\");\n",
    "    }\n",
    "}\n",
    "\n",
    "new Cat().eat();"
   ]
  },
  {
   "cell_type": "markdown",
   "id": "d8a85ab6c338bd85",
   "metadata": {
    "collapsed": false
   },
   "source": [
    "### Default methods in interfaces\n",
    "\n",
    "We can define default methods in interfaces. This means that the implementing classes do not need to implement them.\n",
    "The default methods can be overridden in the implementing classes.\n"
   ]
  },
  {
   "cell_type": "code",
   "execution_count": 135,
   "id": "ec6d7f8562a7e38f",
   "metadata": {
    "collapsed": false
   },
   "outputs": [],
   "source": [
    "interface Animal {\n",
    "    void makeSound();\n",
    "    \n",
    "    default void eat() {\n",
    "        System.out.println(makeSound());\n",
    "    }\n",
    "}\n",
    "\n",
    "class Cat implements Animal {\n",
    "    public void makeSound() {\n",
    "        System.out.println(\"Meow!\");\n",
    "    }\n",
    "}\n",
    "\n"
   ]
  },
  {
   "cell_type": "code",
   "execution_count": null,
   "id": "0de52dd6-521f-4fcb-aa68-efc079e46b2d",
   "metadata": {},
   "outputs": [],
   "source": []
  },
  {
   "cell_type": "markdown",
   "id": "909f1add23c4fa75",
   "metadata": {
    "collapsed": false
   },
   "source": [
    "### Casting\n",
    "\n",
    "We can cast an object to an interface if the object implements the interface."
   ]
  },
  {
   "cell_type": "code",
   "execution_count": 139,
   "id": "455c0a6604f59468",
   "metadata": {
    "ExecuteTime": {
     "end_time": "2023-12-29T11:48:56.972387Z",
     "start_time": "2023-12-29T11:48:56.926668Z"
    },
    "collapsed": false
   },
   "outputs": [
    {
     "name": "stdout",
     "output_type": "stream",
     "text": [
      "Meow!\n"
     ]
    },
    {
     "ename": "EvalException",
     "evalue": "class REPL.$JShell$138M$Cat cannot be cast to class REPL.$JShell$137Y$Dog (REPL.$JShell$138M$Cat and REPL.$JShell$137Y$Dog are in unnamed module of loader jdk.jshell.execution.DefaultLoaderDelegate$RemoteClassLoader @7334aada)",
     "output_type": "error",
     "traceback": [
      "\u001B[1m\u001B[31m---------------------------------------------------------------------------\u001B[0m",
      "\u001B[1m\u001B[31mjava.lang.ClassCastException: class REPL.$JShell$138M$Cat cannot be cast to class REPL.$JShell$137Y$Dog (REPL.$JShell$138M$Cat and REPL.$JShell$137Y$Dog are in unnamed module of loader jdk.jshell.execution.DefaultLoaderDelegate$RemoteClassLoader @7334aada)\u001B[0m",
      "\u001B[1m\u001B[31m\tat .(#218:1)\u001B[0m"
     ]
    }
   ],
   "source": [
    "class Animal {\n",
    "    void makeSound() {\n",
    "        System.out.println(\"Animal sound\");\n",
    "    }\n",
    "}\n",
    "\n",
    "class Dog extends Animal { \n",
    "    void makeSound() {\n",
    "        System.out.println(\"Woof!\");\n",
    "    }\n",
    "}\n",
    "\n",
    "class Cat extends Animal { \n",
    "    void makeSound() {\n",
    "        System.out.println(\"Meow!\");\n",
    "    }\n",
    "\n",
    "    void print() {\n",
    "        System.out.println(\"Test\");\n",
    "    }\n",
    "}\n",
    "\n",
    "Animal animal = new Cat();\n",
    "Cat cat = (Cat) animal;\n",
    "cat.makeSound();\n",
    "//animal.print();\n",
    "\n",
    "Dog dog = (Dog) animal; //Will not work"
   ]
  },
  {
   "cell_type": "code",
   "execution_count": 79,
   "id": "6d06cd49ef77a06b",
   "metadata": {
    "ExecuteTime": {
     "end_time": "2024-01-01T12:11:05.944016Z",
     "start_time": "2024-01-01T12:11:05.855054Z"
    },
    "collapsed": false
   },
   "outputs": [
    {
     "name": "stdout",
     "output_type": "stream",
     "text": [
      "Meow!\n"
     ]
    }
   ],
   "source": [
    "interface Animal {\n",
    "    void makeSound();\n",
    "}\n",
    "\n",
    "var animal = new Animal() {          //Anonymous class\n",
    "    public void makeSound() {\n",
    "        System.out.println(\"Meow!\");\n",
    "    }\n",
    "};\n",
    "animal.makeSound();"
   ]
  },
  {
   "cell_type": "markdown",
   "id": "ca0ce743f5063358",
   "metadata": {
    "collapsed": false
   },
   "source": [
    "## Enums\n",
    "\n",
    "An enum is a special type of class that represents a group of constants. We can use enums to create our own data types. Enums can have fields, constructors, and methods. Enums cannot be extended."
   ]
  },
  {
   "cell_type": "code",
   "execution_count": null,
   "id": "f76758ebbc2c52f0",
   "metadata": {
    "collapsed": false
   },
   "outputs": [],
   "source": [
    "enum Day {\n",
    "    MONDAY, TUESDAY, WEDNESDAY, THURSDAY, FRIDAY, SATURDAY, SUNDAY\n",
    "}"
   ]
  },
  {
   "cell_type": "markdown",
   "id": "acde018da114005b",
   "metadata": {
    "collapsed": false
   },
   "source": [
    "### Enums with fields and methods"
   ]
  },
  {
   "cell_type": "code",
   "execution_count": null,
   "id": "e15a51dd0e0ef6ef",
   "metadata": {
    "collapsed": false
   },
   "outputs": [],
   "source": [
    "enum Day {\n",
    "    MONDAY(\"Monday\", 1), TUESDAY(\"Tuesday\", 2), WEDNESDAY(\"Wednesday\", 3), THURSDAY(\"Thursday\", 4), FRIDAY(\"Friday\", 5), SATURDAY(\"Saturday\", 6), SUNDAY(\"Sunday\", 7);\n",
    "    \n",
    "    private String name;\n",
    "    private int number;\n",
    "    \n",
    "    Day(String name, int number) {\n",
    "        this.name = name;\n",
    "        this.number = number;\n",
    "    }\n",
    "    \n",
    "    public String getName() {\n",
    "        return name;\n",
    "    }\n",
    "    \n",
    "    public int getNumber() {\n",
    "        return number;\n",
    "    }\n",
    "}"
   ]
  },
  {
   "cell_type": "markdown",
   "id": "e5d99a58-94fc-43a2-ae90-1fcc0f02d634",
   "metadata": {
    "collapsed": false
   },
   "source": [
    "### Enums with switch statement"
   ]
  },
  {
   "cell_type": "code",
   "execution_count": 145,
   "id": "5c9999108efc5da4",
   "metadata": {
    "ExecuteTime": {
     "end_time": "2023-12-27T17:35:11.024753Z",
     "start_time": "2023-12-27T17:35:10.943571Z"
    },
    "collapsed": false
   },
   "outputs": [
    {
     "ename": "CompilationException",
     "evalue": "",
     "output_type": "error",
     "traceback": [
      "\u001B[1m\u001B[30m|   \u001B[1m\u001B[30mSystem.out.println(\u001B[0m\u001B[1m\u001B[30m\u001B[41mswitch (day) {\u001B[0m",
      "\u001B[1m\u001B[30m|   \u001B[1m\u001B[30m\u001B[41m    case MONDAY, TUESDAY, WEDNESDAY, THURSDAY, FRIDAY -> \"Weekday\";\u001B[0m",
      "\u001B[1m\u001B[30m|   \u001B[1m\u001B[30m\u001B[41m    case SATURDAY, SUNDAY -> \"Weekend\";\u001B[0m",
      "\u001B[1m\u001B[30m|   \u001B[1m\u001B[30m\u001B[41m}\u001B[0m\u001B[1m\u001B[30m);\u001B[0m",
      "\u001B[1m\u001B[31mthe switch expression does not cover all possible input values\u001B[0m",
      ""
     ]
    }
   ],
   "source": [
    "enum Day {\n",
    "    MONDAY, TUESDAY, WEDNESDAY, THURSDAY, FRIDAY, SATURDAY, SUNDAY, BLUEDAY\n",
    "}\n",
    "\n",
    "Day day = Day.BLUEDAY;\n",
    "System.out.println(switch (day) {\n",
    "    case MONDAY, TUESDAY, WEDNESDAY, THURSDAY, FRIDAY -> \"Weekday\";\n",
    "    case SATURDAY, SUNDAY -> \"Weekend\";\n",
    "});"
   ]
  },
  {
   "cell_type": "markdown",
   "id": "9474213226fce62d",
   "metadata": {
    "collapsed": false
   },
   "source": [
    "## Records\n",
    "\n",
    "A record is a special type of class that is used to represent data. It is a compact way of creating classes that are used to store data. A record can have fields, constructors, and methods. A record cannot be extended."
   ]
  },
  {
   "cell_type": "code",
   "execution_count": 148,
   "id": "c77dd287c0eb72cf",
   "metadata": {
    "collapsed": false
   },
   "outputs": [
    {
     "ename": "CompilationException",
     "evalue": "",
     "output_type": "error",
     "traceback": [
      "\u001B[1m\u001B[30m|   \u001B[1m\u001B[30m        \u001B[0m\u001B[1m\u001B[30m\u001B[41mthis.name\u001B[0m\u001B[1m\u001B[30m = name;\u001B[0m",
      "\u001B[1m\u001B[31mcannot assign a value to final variable name\u001B[0m",
      ""
     ]
    }
   ],
   "source": [
    "record Person(String name, int age) {\n",
    "\n",
    "    public void setName(String name) {\n",
    "        this.name = name; //does not work \n",
    "    }\n",
    "}\n",
    "\n",
    "class P { \n",
    "    private String name;\n",
    "\n",
    "   \n",
    "        \n",
    "}\n",
    "    \n",
    "\n",
    "Person person = new Person(\"John\", 32);\n",
    "person.setName(\"Test\");\n",
    "person.name(); //NOTE: the name() method is generated automatically\n",
    "person.toString();"
   ]
  },
  {
   "cell_type": "markdown",
   "id": "ac1057a127bf5609",
   "metadata": {
    "collapsed": false
   },
   "source": [
    "### Record with constructor and methods\n",
    "\n",
    "We can define our own constructors and methods in a record."
   ]
  },
  {
   "cell_type": "code",
   "execution_count": 7,
   "id": "dee0192f7c7def38",
   "metadata": {
    "ExecuteTime": {
     "end_time": "2023-12-27T17:37:46.629321Z",
     "start_time": "2023-12-27T17:37:46.546419Z"
    },
    "collapsed": false
   },
   "outputs": [
    {
     "data": {
      "text/plain": [
       "true"
      ]
     },
     "execution_count": 7,
     "metadata": {},
     "output_type": "execute_result"
    }
   ],
   "source": [
    "record Person(String name, int age) {\n",
    "    public Person {  //Compact constructor\n",
    "        if (age < 0) {\n",
    "            throw new IllegalArgumentException(\"Age cannot be negative\");\n",
    "        } //NOTE: the fields are initialized automatically\n",
    "    }\n",
    "    \n",
    "    boolean isAdult() {\n",
    "        return age >= 18;\n",
    "    }\n",
    "}\n",
    "\n",
    "Person person = new Person(\"John\", 32);\n",
    "person.isAdult();"
   ]
  },
  {
   "cell_type": "code",
   "execution_count": 10,
   "id": "125f41f6596ab8ca",
   "metadata": {
    "ExecuteTime": {
     "end_time": "2023-12-27T17:43:49.896048Z",
     "start_time": "2023-12-27T17:43:49.834366Z"
    },
    "collapsed": false
   },
   "outputs": [
    {
     "data": {
      "text/plain": [
       "John"
      ]
     },
     "execution_count": 10,
     "metadata": {},
     "output_type": "execute_result"
    }
   ],
   "source": [
    "record Person(String name, int age) {\n",
    "    public Person(String name, int age) { // Conanical constructor\n",
    "        if (age < 0) {\n",
    "            throw new IllegalArgumentException(\"Age cannot be negative\");\n",
    "        }\n",
    "        this.name = name;\n",
    "        this.age = age;\n",
    "    }\n",
    "}\n",
    "\n",
    "Person person = new Person(\"John\", 32);\n",
    "person.name();\n",
    "\n"
   ]
  },
  {
   "cell_type": "markdown",
   "id": "e25e256523bed6c4",
   "metadata": {
    "collapsed": false
   },
   "source": [
    "### Scoping of records\n",
    "\n",
    "A record can be defined on the fly in a method. In this case, the record is only visible in the method."
   ]
  },
  {
   "cell_type": "code",
   "execution_count": 13,
   "id": "ad575b252834f140",
   "metadata": {
    "ExecuteTime": {
     "end_time": "2023-12-29T10:01:54.526363Z",
     "start_time": "2023-12-29T10:01:54.447892Z"
    },
    "collapsed": false
   },
   "outputs": [],
   "source": [
    "class Person {\n",
    "    String name;\n",
    "    int age;\n",
    "\n",
    "    Person(String name, int age, String street, String city) {\n",
    "        this.name = name;\n",
    "        this.age = age;\n",
    "\n",
    "        record Address(String street, String city) { }\n",
    "        Address address = new Address(street, city); \n",
    "    }\n",
    "}\n"
   ]
  },
  {
   "cell_type": "markdown",
   "id": "52fc22daae451320",
   "metadata": {
    "collapsed": false
   },
   "source": []
  },
  {
   "cell_type": "markdown",
   "id": "7402d2591494c36c",
   "metadata": {
    "collapsed": false
   },
   "source": [
    "## Important Java packages\n",
    "\n",
    "In these sections we will focus on the most important Java packages. We will learn about the following packages:\n",
    "- java.util\n",
    "- java.lang\n",
    "- java.io\n",
    "- java.nio\n",
    "- java.net"
   ]
  },
  {
   "cell_type": "markdown",
   "id": "b641c4fcfe968015",
   "metadata": {
    "collapsed": false
   },
   "source": [
    "### java.util\n",
    "\n",
    "Java has a rich set of collections, like lists, sets, maps, queues, and deques. We can use these collections to store data. We can use generics to specify the type of the elements in the collection. "
   ]
  },
  {
   "cell_type": "code",
   "execution_count": 154,
   "id": "fab5d470aaa696f5",
   "metadata": {
    "ExecuteTime": {
     "end_time": "2023-12-30T13:19:17.323363Z",
     "start_time": "2023-12-30T13:19:17.253779Z"
    },
    "collapsed": false
   },
   "outputs": [
    {
     "ename": "EvalException",
     "evalue": "null",
     "output_type": "error",
     "traceback": [
      "\u001B[1m\u001B[31m---------------------------------------------------------------------------\u001B[0m",
      "\u001B[1m\u001B[31mjava.lang.UnsupportedOperationException: null\u001B[0m",
      "\u001B[1m\u001B[31m\tat java.base/java.util.ImmutableCollections.uoe(ImmutableCollections.java:142)\u001B[0m",
      "\u001B[1m\u001B[31m\tat java.base/java.util.ImmutableCollections$AbstractImmutableCollection.add(ImmutableCollections.java:147)\u001B[0m",
      "\u001B[1m\u001B[31m\tat .(#245:1)\u001B[0m"
     ]
    }
   ],
   "source": [
    "import java.util.List;\n",
    "\n",
    "List names = List.of(\"John\", \"Megan\", \"Jack\");\n",
    "names.get(0);\n",
    "names.size();\n",
    "\n",
    "//Returns immutable list\n",
    "names.add(\"Mike\");"
   ]
  },
  {
   "cell_type": "code",
   "execution_count": null,
   "id": "13340319-e959-45f3-8d2d-2c2bf3709055",
   "metadata": {},
   "outputs": [],
   "source": []
  },
  {
   "cell_type": "code",
   "execution_count": 157,
   "id": "564022df7161f158",
   "metadata": {
    "ExecuteTime": {
     "end_time": "2023-12-30T13:19:48.154479Z",
     "start_time": "2023-12-30T13:19:48.105275Z"
    },
    "collapsed": false
   },
   "outputs": [
    {
     "data": {
      "text/plain": [
       "[John, Megan, John, Mike]"
      ]
     },
     "execution_count": 157,
     "metadata": {},
     "output_type": "execute_result"
    }
   ],
   "source": [
    "import java.util.List;\n",
    "import java.util.ArrayList;\n",
    "\n",
    "List names = new ArrayList();\n",
    "names.add(\"John\");\n",
    "names.add(\"Megan\");\n",
    "names.add(\"John\");\n",
    "\n",
    "names;\n",
    "names.add(\"Mike\");\n",
    "names;"
   ]
  },
  {
   "cell_type": "markdown",
   "id": "8224dbe63157f1ce",
   "metadata": {
    "collapsed": false
   },
   "source": [
    "#### Sets\n",
    "\n",
    "A set is a collection that does not allow duplicates. We can use the Set interface to create sets. We can use the HashSet class to create a set that does not guarantee the order of the elements. We can use the LinkedHashSet class to create a set that guarantees the order of the elements. We can use the TreeSet class to create a set that sorts the elements."
   ]
  },
  {
   "cell_type": "code",
   "execution_count": 158,
   "id": "8273a5b04d9a54dd",
   "metadata": {
    "ExecuteTime": {
     "end_time": "2023-12-30T13:18:30.744452Z",
     "start_time": "2023-12-30T13:18:30.674172Z"
    },
    "collapsed": false
   },
   "outputs": [
    {
     "ename": "EvalException",
     "evalue": "duplicate element: John",
     "output_type": "error",
     "traceback": [
      "\u001B[1m\u001B[31m---------------------------------------------------------------------------\u001B[0m",
      "\u001B[1m\u001B[31mjava.lang.IllegalArgumentException: duplicate element: John\u001B[0m",
      "\u001B[1m\u001B[31m\tat java.base/java.util.ImmutableCollections$SetN.<init>(ImmutableCollections.java:918)\u001B[0m",
      "\u001B[1m\u001B[31m\tat java.base/java.util.Set.of(Set.java:524)\u001B[0m",
      "\u001B[1m\u001B[31m\tat .(#263:1)\u001B[0m"
     ]
    }
   ],
   "source": [
    "import java.util.Set;\n",
    "import java.util.HashSet;\n",
    "\n",
    "Set.of(\"John\", \"Megan\", \"Jack\", \"John\");\n"
   ]
  },
  {
   "cell_type": "markdown",
   "id": "c0f7a6db98bf0307",
   "metadata": {
    "collapsed": false
   },
   "source": [
    "#### Hashmap\n",
    "\n",
    "A hashmap is a collection that stores key-value pairs. We can use the Map interface to create hashmaps. We can use the HashMap class to create a hashmap that does not guarantee the order of the elements. We can use the LinkedHashMap class to create a hashmap that guarantees the order of the elements. We can use the TreeMap class to create a hashmap that sorts the elements."
   ]
  },
  {
   "cell_type": "code",
   "execution_count": 31,
   "id": "81bec65586dd699f",
   "metadata": {
    "ExecuteTime": {
     "end_time": "2023-12-30T13:21:01.231640Z",
     "start_time": "2023-12-30T13:21:01.170891Z"
    },
    "collapsed": false
   },
   "outputs": [
    {
     "data": {
      "text/plain": [
       "{Jack=30, John=32, Megan=28}"
      ]
     },
     "execution_count": 31,
     "metadata": {},
     "output_type": "execute_result"
    }
   ],
   "source": [
    "import java.util.Map;\n",
    "\n",
    "\n",
    "Map.of(\"John\", 32, \"Megan\", 28, \"Jack\", 30);"
   ]
  },
  {
   "cell_type": "markdown",
   "id": "88b2c92cf8aba501",
   "metadata": {
    "collapsed": false
   },
   "source": [
    "- For hashmaps, the keys must be unique. If we try to add a duplicate key, the value will be overwritten.\n",
    "- For hashmaps, the distribution of the keys is important. If the keys are not distributed evenly, the performance of the hashmap will be poor.\n",
    "- For hashmaps, the keys must have a good hash function. If the hash function is not good, the performance of the hashmap will be poor. Remember `hashCode()` and `equals()` methods.\n"
   ]
  },
  {
   "cell_type": "markdown",
   "id": "89dd7dbe1ed7ee02",
   "metadata": {
    "collapsed": false
   },
   "source": [
    "<img src=\"https://i0.wp.com/oshyshkov.com/wp-content/uploads/2021/07/separate_chaining.png?w=900&ssl=1\">"
   ]
  },
  {
   "cell_type": "markdown",
   "id": "1117b1fe5aca5bf",
   "metadata": {
    "collapsed": false
   },
   "source": []
  },
  {
   "cell_type": "markdown",
   "id": "82f4627fa67bd0a2",
   "metadata": {
    "collapsed": false
   },
   "source": [
    "#### Generics\n",
    "\n",
    "We can use generics to specify the type of the elements in a collection. This means that we can create a collection that stores only strings, or only integers, or only objects of a specific class. We can use those collections to store data of a specific type. This is useful because we can avoid casting the elements of the collection to the correct type."
   ]
  },
  {
   "cell_type": "code",
   "execution_count": 159,
   "id": "daab40d40298bcc3",
   "metadata": {
    "ExecuteTime": {
     "end_time": "2024-01-02T17:52:24.866263Z",
     "start_time": "2024-01-02T17:52:24.478682Z"
    },
    "collapsed": false
   },
   "outputs": [
    {
     "data": {
      "text/plain": [
       "[Dog, Cat]"
      ]
     },
     "execution_count": 159,
     "metadata": {},
     "output_type": "execute_result"
    }
   ],
   "source": [
    "interface Animal {\n",
    "}\n",
    "\n",
    "class Dog implements Animal {\n",
    "  public String toString() {\n",
    "    return \"Dog\";\n",
    "  }\n",
    "}\n",
    "\n",
    "class Cat implements Animal {\n",
    "  public String toString() {\n",
    "    return \"Cat\";\n",
    "  }\n",
    "}\n",
    "\n",
    "List<Animal> animals = new ArrayList();\n",
    "animals.add(new Dog());\n",
    "animals.add(new Cat());\n",
    "animals;"
   ]
  },
  {
   "cell_type": "markdown",
   "id": "d53b3aa46a03a3fe",
   "metadata": {
    "collapsed": false
   },
   "source": [
    "It is important to note that generics are only used at compile time. At runtime, the type information is erased. This is called type erasure. This means that we cannot use generics to check the type of the elements in a collection at runtime.\n",
    "\n",
    "One other thing is that the polymorphism does not work with generics. "
   ]
  },
  {
   "cell_type": "code",
   "execution_count": 160,
   "id": "b09cbe64ccbef107",
   "metadata": {
    "ExecuteTime": {
     "end_time": "2024-01-02T17:52:39.052891Z",
     "start_time": "2024-01-02T17:52:39.033574Z"
    },
    "collapsed": false
   },
   "outputs": [
    {
     "ename": "CompilationException",
     "evalue": "",
     "output_type": "error",
     "traceback": [
      "\u001B[1m\u001B[30m|   \u001B[1m\u001B[30mList<Animal> animals = \u001B[0m\u001B[1m\u001B[30m\u001B[41mdogs\u001B[0m\u001B[1m\u001B[30m;\u001B[0m",
      "\u001B[1m\u001B[31mincompatible types: java.util.List<Dog> cannot be converted to java.util.List<Animal>\u001B[0m",
      ""
     ]
    }
   ],
   "source": [
    "List<Dog> dogs = new ArrayList<Dog>();\n",
    "List<Animal> animals = dogs;            //This does not compile\n",
    "animals.add(new Cat());                 //Otherwise we could add a Cat to the dogs list\n",
    "Dog dog = dogs.get(1);                  //?"
   ]
  },
  {
   "cell_type": "code",
   "execution_count": 161,
   "id": "7518888b1b56f541",
   "metadata": {
    "ExecuteTime": {
     "end_time": "2023-12-31T14:52:06.949683Z",
     "start_time": "2023-12-31T14:52:06.930460Z"
    },
    "collapsed": false
   },
   "outputs": [
    {
     "ename": "EvalException",
     "evalue": "REPL.$JShell$138N$Cat",
     "output_type": "error",
     "traceback": [
      "\u001B[1m\u001B[31m---------------------------------------------------------------------------\u001B[0m",
      "\u001B[1m\u001B[31mjava.lang.ArrayStoreException: REPL.$JShell$138N$Cat\u001B[0m",
      "\u001B[1m\u001B[31m\tat .(#269:1)\u001B[0m"
     ]
    }
   ],
   "source": [
    "Dog[] dogs = new Dog[10];\n",
    "f(dogs)[0];\n",
    "\n",
    "public Animal[] f(Animal[] animals) {\n",
    "    animal[0] = new Cat();\n",
    "    return animals;\n",
    "}\n",
    "Animal[] animals = dogs;\n",
    "animals[0] = new Cat();  //this does compile throws ArrayStoreException at runtime"
   ]
  },
  {
   "cell_type": "markdown",
   "id": "e357967b448b4e96",
   "metadata": {
    "collapsed": false
   },
   "source": [
    "Suppose this would work, somewhere in the code we could add a `Cat` to the `animals` list, which is not unreasonable as the type is `List<Animal>`. The one passing the `dogs` only thinks there are Dogs inside the list. This would break the type safety of the `dogs` list. Therefore, this is not allowed. "
   ]
  },
  {
   "cell_type": "markdown",
   "id": "4635f0c3c8ecfd1c",
   "metadata": {
    "collapsed": false
   },
   "source": [
    "To conclude: Arrays are reifiable and covariant --> Generics are erased and invariant.\n",
    "\n",
    "Generics are erased and invariant. Therefore, generics can't provide runtime type safety, but they provide compile-time type safety.\n",
    "\n",
    "Reifiable means their type information is fully available at runtime.\n",
    "Covariant means that the subtyping relationship between the generic types is preserved. For example, if `Dog` is a subtype of `Animal`, then `List<Dog>` is a subtype of `List<Animal>`. This is not true for generics. For example, `List<Dog>` is not a subtype of `List<Animal>`.\n",
    "\n",
    "Don't worry the compiler/IDE will scream at you if you try to do something wrong with generics. And it will give a hint on how to fix it. \n"
   ]
  },
  {
   "cell_type": "markdown",
   "id": "4f3f8e1c6d976b19",
   "metadata": {
    "collapsed": false
   },
   "source": [
    "#### Generify a class\n"
   ]
  },
  {
   "cell_type": "code",
   "execution_count": 162,
   "id": "a2e0f1c34d39e407",
   "metadata": {
    "ExecuteTime": {
     "end_time": "2024-01-01T09:31:28.645849Z",
     "start_time": "2024-01-01T09:31:28.551301Z"
    },
    "collapsed": false
   },
   "outputs": [
    {
     "data": {
      "text/plain": [
       "John"
      ]
     },
     "execution_count": 162,
     "metadata": {},
     "output_type": "execute_result"
    }
   ],
   "source": [
    "class Cache {\n",
    "    Map cache = new HashMap(); \n",
    "    \n",
    "    void put(String key, Object value) {\n",
    "        cache.put(key, value);\n",
    "    }\n",
    "    \n",
    "    Object get(String key) {\n",
    "        return cache.get(key);\n",
    "    }\n",
    "}\n",
    "\n",
    "Cache cache = new Cache();\n",
    "cache.put(\"John\", \"John\");\n",
    "\n",
    "String value = (String) cache.get(\"John\"); //With generics we can avoid casting\n",
    "value;"
   ]
  },
  {
   "cell_type": "code",
   "execution_count": 163,
   "id": "9affdc7f08e9704d",
   "metadata": {
    "ExecuteTime": {
     "end_time": "2024-01-01T09:31:42.564739Z",
     "start_time": "2024-01-01T09:31:42.501415Z"
    },
    "collapsed": false
   },
   "outputs": [
    {
     "ename": "CompilationException",
     "evalue": "",
     "output_type": "error",
     "traceback": [
      "\u001B[1m\u001B[30m|   \u001B[1m\u001B[30mstringCache.put(\"John\", \u001B[0m\u001B[1m\u001B[30m\u001B[41m\"John\"\u001B[0m\u001B[1m\u001B[30m);\u001B[0m",
      "\u001B[1m\u001B[31mincompatible types: java.lang.String cannot be converted to java.lang.Integer\u001B[0m",
      ""
     ]
    }
   ],
   "source": [
    "import java.util.Map;\n",
    "\n",
    "class Cache<T> {\n",
    "    Map<String, T> cache = new HashMap(); \n",
    "    \n",
    "    void put(String key, T value) {\n",
    "        cache.put(key, value);\n",
    "    }\n",
    "    \n",
    "    T get(String key) {\n",
    "        return cache.get(key);\n",
    "    }\n",
    "}\n",
    "\n",
    "Cache<String> stringCache = new Cache();\n",
    "stringCache.put(\"John\", \"John\");\n",
    "\n",
    "String value = stringCache.get(\"John\");\n",
    "value;\n",
    "\n"
   ]
  },
  {
   "cell_type": "markdown",
   "id": "65c0ebfbfc22852c",
   "metadata": {
    "collapsed": false
   },
   "source": [
    "### Wildcards\n",
    "\n",
    "Wildcards are used to specify unknown types. We can use wildcards to specify that a method can take a list of any type. \n",
    "Let's look at our `Animal` example above, suppose we have the following method:"
   ]
  },
  {
   "cell_type": "code",
   "execution_count": 168,
   "id": "f542148fbafe932b",
   "metadata": {
    "ExecuteTime": {
     "end_time": "2024-01-02T17:49:59.567654Z",
     "start_time": "2024-01-02T17:49:59.500587Z"
    },
    "collapsed": false
   },
   "outputs": [
    {
     "name": "stdout",
     "output_type": "stream",
     "text": [
      "Meow!\n"
     ]
    }
   ],
   "source": [
    "interface Animal {\n",
    "  void makeSound();\n",
    "}\n",
    "\n",
    "class Dog implements Animal {\n",
    "  public void makeSound() {\n",
    "    System.out.println(\"Woof!\");\n",
    "  }\n",
    "}\n",
    "\n",
    "class Cat implements Animal {\n",
    "  public void makeSound() {\n",
    "    System.out.println(\"Meow!\");\n",
    "  }\n",
    "}\n",
    "\n",
    "class Noise {\n",
    "   \n",
    " void makeNoise(List<Animal> animals) {\n",
    "    for (Animal animal : animals) {\n",
    "        animal.makeSound();\n",
    "    }\n",
    " }\n",
    "}\n",
    "\n",
    "//List<Dog> dogs = new ArrayList<>();\n",
    "//dogs.add(new Dog());\n",
    "//new Noise().makeNoise(dogs);\n",
    "\n",
    "//This does work: List<Dog> is a subtype of List<Animal>\n",
    "List<Animal> animals = new ArrayList<>();\n",
    "animals.add(new Cat());\n",
    "new Noise().makeNoise(animals);\n"
   ]
  },
  {
   "cell_type": "code",
   "execution_count": null,
   "id": "2da50c8e-8110-4bed-abaf-0246c0cd8c8e",
   "metadata": {},
   "outputs": [],
   "source": []
  },
  {
   "cell_type": "code",
   "execution_count": null,
   "id": "dfa9c1b6-62da-4398-a3e0-4f093713d90b",
   "metadata": {},
   "outputs": [],
   "source": []
  },
  {
   "cell_type": "markdown",
   "id": "aa4a17b4a1eb6048",
   "metadata": {
    "collapsed": false
   },
   "source": [
    "This will not compile, because `List<Dog>` is not a subtype of `List<Animal>`. This is because generics are invariant. This means that we cannot use a collection of type `List<Animal>` to store objects of type `Dog`. We can only use a collection of type `List<Dog>` to store objects of type `Dog`. This is because generics are erased at runtime. This means that we cannot use generics to check the type of the elements in a collection at runtime. One solution to try is:"
   ]
  },
  {
   "cell_type": "code",
   "execution_count": 169,
   "id": "1c8b238674688eea",
   "metadata": {
    "ExecuteTime": {
     "end_time": "2024-01-02T06:02:55.699645Z",
     "start_time": "2024-01-02T06:02:55.661285Z"
    },
    "collapsed": false
   },
   "outputs": [
    {
     "ename": "CompilationException",
     "evalue": "",
     "output_type": "error",
     "traceback": [
      "\u001B[1m\u001B[30m|   \u001B[1m\u001B[30m \u001B[0m\u001B[1m\u001B[30m\u001B[41mvoid makeNoise(List<Cat> animals) {\u001B[0m",
      "\u001B[1m\u001B[30m|   \u001B[1m\u001B[30m\u001B[41m    for (Animal animal : animals) {\u001B[0m",
      "\u001B[1m\u001B[30m|   \u001B[1m\u001B[30m\u001B[41m        animal.makeSound();\u001B[0m",
      "\u001B[1m\u001B[30m|   \u001B[1m\u001B[30m\u001B[41m    }\u001B[0m",
      "\u001B[1m\u001B[30m|   \u001B[1m\u001B[30m\u001B[41m }\u001B[0m",
      "\u001B[1m\u001B[31mname clash: makeNoise(java.util.List<Cat>) and makeNoise(java.util.List<Dog>) have the same erasure\u001B[0m",
      ""
     ]
    }
   ],
   "source": [
    "interface Animal {\n",
    "  void makeSound();\n",
    "}\n",
    "\n",
    "class Dog implements Animal {\n",
    "  public void makeSound() {\n",
    "    System.out.println(\"Woof!\");\n",
    "  }\n",
    "}\n",
    "\n",
    "class Cat implements Animal {\n",
    "  public void makeSound() {\n",
    "    System.out.println(\"Meow!\");\n",
    "  }\n",
    "}\n",
    "\n",
    "class Noise {\n",
    "\n",
    "        \n",
    " void makeNoise(List<Dog> animals) {\n",
    "    for (Animal animal : animals) {\n",
    "        animal.makeSound();\n",
    "    }\n",
    " }\n",
    " \n",
    " void makeNoise(List<Cat> animals) {\n",
    "    for (Animal animal : animals) {\n",
    "        animal.makeSound();\n",
    "    }\n",
    " }\n",
    "}\n",
    "\n",
    "List<Dog> dogs = new ArrayList<Dog>();\n",
    "dogs.add(new Dog());\n",
    "new Noise().makeNoise(dogs);"
   ]
  },
  {
   "cell_type": "markdown",
   "id": "41d66e247caad7df",
   "metadata": {
    "collapsed": false
   },
   "source": [
    "This will not compile, due to type erasure. Type erasure means that the type information is erased at runtime. This means that we cannot use generics to check the type of the elements in a collection at runtime. Basically means that we cannot overload methods with generics.  \n",
    " \n",
    "This would be an **unpractical restriction**. We want to be able to pass a list of `Dog` to a method that expects a list of `Animal`. We can solve this by using the PECS principle. PECS stands for Producer Extends Consumer Super. This means that we can use the extends keyword for the producer and the super keyword for the consumer. In our example we can use the extends keyword for the producer, because we only read from the list. We can use the super keyword for the consumer, because we only write to the list. This means that we can use the following method:"
   ]
  },
  {
   "cell_type": "code",
   "execution_count": 171,
   "id": "9ce114ecff9a7c06",
   "metadata": {
    "ExecuteTime": {
     "end_time": "2024-01-02T06:49:37.046220Z",
     "start_time": "2024-01-02T06:49:36.857547Z"
    },
    "collapsed": false
   },
   "outputs": [
    {
     "ename": "CompilationException",
     "evalue": "",
     "output_type": "error",
     "traceback": [
      "\u001B[1m\u001B[30m|   \u001B[1m\u001B[30m     animals.add(\u001B[0m\u001B[1m\u001B[30m\u001B[41mnew Cat()\u001B[0m\u001B[1m\u001B[30m);\u001B[0m",
      "\u001B[1m\u001B[31mincompatible types: Cat cannot be converted to capture#1 of ? extends Animal\u001B[0m",
      ""
     ]
    }
   ],
   "source": [
    "interface Animal {\n",
    "  void makeSound();\n",
    "}\n",
    "\n",
    "class Dog implements Animal {\n",
    "  public void makeSound() {\n",
    "    System.out.println(\"Woof!\");\n",
    "  }\n",
    "}\n",
    "\n",
    "class Cat implements Animal {\n",
    "  public void makeSound() {\n",
    "    System.out.println(\"Meow!\");\n",
    "  }\n",
    "}\n",
    "\n",
    "class Noise {\n",
    "   \n",
    " void makeNoise(List<? extends Animal> animals) { //? extends Animal is a wildcard type, meaning that we can pass a list of Animal or a list of Dog or a list of Cat to this method.\n",
    "     animals.add(new Cat());\n",
    "     for (Animal animal : animals) {\n",
    "        animal.makeSound();\n",
    "    }\n",
    " }\n",
    "}\n",
    "\n",
    "List<Dog> dogs = new ArrayList<Dog>();\n",
    "dogs.add(new Dog());\n",
    "new Noise().makeNoise(dogs);\n",
    "List<Cat> cats = new ArrayList<Cat>();\n",
    "cats.add(new Cat());\n",
    "new Noise().makeNoise(cats);\n",
    "\n",
    "\n",
    "List<Dog> dogs = new ArrayList<Dog>();\n",
    "dogs.add(new Dog());\n",
    "List<? extends Animal> animals = dogs;  //? extends Animal is a wildcard type, meaning that we can pass a list of Animal or a list of Dog or a list of Cat to this method.\n",
    "new Noise().makeNoise(animals);\n"
   ]
  },
  {
   "cell_type": "markdown",
   "id": "b20f064c9c2c5775",
   "metadata": {
    "collapsed": false
   },
   "source": [
    "Why is the `List<? extends Animal> animal = dogs` on line 34 ok? Because we can't add anything to the list. We can only read from the list. We can't add anything to the list, because we don't know what type of list it is. It could be a list of `Animal`, but it could also be a list of `Dog` or a list of `Cat`. We don't know. Therefore, we can't add anything to the list. We can only read from the list."
   ]
  },
  {
   "cell_type": "markdown",
   "id": "58fd44ab240dcd0b",
   "metadata": {
    "collapsed": false
   },
   "source": [
    "Be aware: `List<? extends Animal>` is NOT a declaration of the type of object the list can hold. It means: a list of a type T, which I won't tell you what it is, but I know that `T extends Animal`. They are all the same type, but we don't know what that type is. It expresses the types of lists that the list is capable of referencing. \n",
    "\n",
    "In other words: `List<? extends Animal>` could be a `List<Animal>`, but it could also be a `List<Dog>` or a `List<Cat>`. We don't know. Therefore, we can't add anything to the list. We can only read from the list.\n",
    "\n",
    "These are existential types: there exists a type T for which the List is a List<T>, but you don't exactly know what T is."
   ]
  },
  {
   "cell_type": "markdown",
   "id": "9a07ecc68528e0fa",
   "metadata": {
    "collapsed": false
   },
   "source": [
    "### What about writing to a list?\n",
    "\n",
    "We can use the super keyword to write to a list. This means that we can use the following method:"
   ]
  },
  {
   "cell_type": "code",
   "execution_count": 35,
   "id": "53854f510e00d59f",
   "metadata": {
    "ExecuteTime": {
     "end_time": "2024-01-02T06:24:14.001398Z",
     "start_time": "2024-01-02T06:24:13.651129Z"
    },
    "collapsed": false
   },
   "outputs": [
    {
     "data": {
      "text/plain": [
       "[REPL.$JShell$18D$Dog@720a72bb, REPL.$JShell$19D$Cat@790f08d0]"
      ]
     },
     "execution_count": 35,
     "metadata": {},
     "output_type": "execute_result"
    }
   ],
   "source": [
    "interface Animal {\n",
    "  boolean makesSound();\n",
    "}\n",
    "\n",
    "class Dog implements Animal {\n",
    "  public boolean makesSound() {\n",
    "    return true; \n",
    "  }\n",
    "}\n",
    "\n",
    "class Cat implements Animal {\n",
    "  public boolean makesSound() {\n",
    "    return true; \n",
    "  }\n",
    "}\n",
    "\n",
    "class Goldfish implements Animal {\n",
    "  public boolean makesSound() {\n",
    "    return false; \n",
    "  }\n",
    "}\n",
    "\n",
    "static List<Animal> findAnimalsThatMakeSound(List<Animal> animals) {\n",
    "    List<Animal> result = new ArrayList<>();\n",
    "    for (Animal animal : animals) {\n",
    "          if (animal.makesSound()) {\n",
    "                result.add(animal);\n",
    "          } \n",
    "    }\n",
    "    return result;\n",
    "}\n",
    "\n",
    "findAnimalsThatMakeSound(List.of(new Dog(), new Cat(), new Goldfish()));"
   ]
  },
  {
   "cell_type": "markdown",
   "id": "6e78fb6e1819c25d",
   "metadata": {
    "collapsed": false
   },
   "source": [
    "In a nutshell, three easy rules to remember:\n",
    "\n",
    "- Use the `<? extends T>` wildcard if you need to retrieve object of type `T` from a collection.\n",
    "- Use the `<? super T>` wildcard if you need to put objects of type `T` in a collection.\n",
    "- If you need to satisfy both things, well, don’t use any wildcard. As simple as that."
   ]
  },
  {
   "cell_type": "markdown",
   "id": "af9257af506c5dcc",
   "metadata": {
    "collapsed": false
   },
   "source": []
  },
  {
   "cell_type": "markdown",
   "id": "2a651c1b69d7b105",
   "metadata": {
    "collapsed": false
   },
   "source": [
    "#### Java Time API\n",
    "\n",
    "In the java.util package we also have a DateTime API. In Java 8 a complete rewrite appeared of this package. The old API was not very good. The new API is much better. It is immutable, thread-safe, and has a fluent API. It is also much easier to use. The new API is located in the java.time package. The new API is based on the ISO 8601 standard. The new API has the following classes:\n",
    "\n",
    "- Instant: represents a point in time\n",
    "- LocalDate: represents a date without time\n",
    "- LocalTime: represents a time without date\n",
    "- LocalDateTime: represents a date and time\n",
    "- ZonedDateTime: represents a date and time with a timezone\n",
    "- Duration: represents a time duration\n",
    "- Period: represents a date duration\n",
    "- DateTimeFormatter: formats a date and time"
   ]
  },
  {
   "cell_type": "code",
   "execution_count": 58,
   "id": "641138d32b8e4587",
   "metadata": {
    "ExecuteTime": {
     "end_time": "2023-12-31T17:32:56.234829Z",
     "start_time": "2023-12-31T17:32:56.091836Z"
    },
    "collapsed": false
   },
   "outputs": [
    {
     "data": {
      "text/plain": [
       "2023-12-31T17:32:56.189335Z"
      ]
     },
     "execution_count": 58,
     "metadata": {},
     "output_type": "execute_result"
    }
   ],
   "source": [
    "import java.time.Instant;\n",
    "\n",
    "Instant.now(); //Represents a moment in time in UTC"
   ]
  },
  {
   "cell_type": "code",
   "execution_count": null,
   "id": "b7546ea8e49651c6",
   "metadata": {
    "collapsed": false
   },
   "outputs": [],
   "source": [
    "import java.time.LocalDate;\n",
    "\n",
    "LocalDate.now(); //Represents a date without time"
   ]
  },
  {
   "cell_type": "code",
   "execution_count": 66,
   "id": "fee542a15a3ae666",
   "metadata": {
    "ExecuteTime": {
     "end_time": "2023-12-31T18:03:10.331097Z",
     "start_time": "2023-12-31T18:03:10.276876Z"
    },
    "collapsed": false
   },
   "outputs": [
    {
     "name": "stdout",
     "output_type": "stream",
     "text": [
      "2023-12-31T19:03:10.314081\n"
     ]
    },
    {
     "data": {
      "text/plain": [
       "2023-12-31T20:03:10.329251"
      ]
     },
     "execution_count": 66,
     "metadata": {},
     "output_type": "execute_result"
    }
   ],
   "source": [
    "import java.time.LocalDateTime;\n",
    "import java.time.ZoneId;\n",
    "\n",
    "System.out.println(LocalDateTime.now()); //Represents a date and time\n",
    "LocalDateTime.now(ZoneId.of(\"Europe/Kiev\")); \n",
    "\n",
    "//Represents a date and time with a timezone. LocalDateTime represents a date and a time-of-day.\n",
    "//But lacking a time zone or offset from UTC, this class cannot represent a moment."
   ]
  },
  {
   "cell_type": "code",
   "execution_count": 64,
   "id": "7acc17dec580aced",
   "metadata": {
    "ExecuteTime": {
     "end_time": "2023-12-31T17:47:21.830023Z",
     "start_time": "2023-12-31T17:47:21.790098Z"
    },
    "collapsed": false
   },
   "outputs": [
    {
     "data": {
      "text/plain": [
       "2023-12-31T18:47:21.827536+01:00[Europe/Amsterdam]"
      ]
     },
     "execution_count": 64,
     "metadata": {},
     "output_type": "execute_result"
    }
   ],
   "source": [
    "import java.time.ZonedDateTime;\n",
    "\n",
    "ZonedDateTime.now(); //represents a moment in time with a time zone"
   ]
  },
  {
   "cell_type": "code",
   "execution_count": 67,
   "id": "2133440415e9263d",
   "metadata": {
    "ExecuteTime": {
     "end_time": "2023-12-31T18:04:12.319842Z",
     "start_time": "2023-12-31T18:04:12.287263Z"
    },
    "collapsed": false
   },
   "outputs": [
    {
     "data": {
      "text/plain": [
       "2023-12-31T19:04:12.316465+01:00"
      ]
     },
     "execution_count": 67,
     "metadata": {},
     "output_type": "execute_result"
    }
   ],
   "source": [
    "import java.time.OffsetDateTime;\n",
    "\n",
    "OffsetDateTime.now(); //represents a moment in time with an offset from UTC"
   ]
  },
  {
   "cell_type": "markdown",
   "id": "4fab8ff22755876c",
   "metadata": {
    "collapsed": false
   },
   "source": [
    "<img src=\"https://miro.medium.com/v2/resize:fit:1284/format:webp/1*oLWFZxDFfi1fJz09KJiLDg.jpeg  \">"
   ]
  },
  {
   "cell_type": "code",
   "execution_count": 65,
   "id": "5373f3a404324336",
   "metadata": {
    "ExecuteTime": {
     "end_time": "2023-12-31T17:53:01.574001Z",
     "start_time": "2023-12-31T17:53:01.533097Z"
    },
    "collapsed": false
   },
   "outputs": [
    {
     "data": {
      "text/plain": [
       "PT24H"
      ]
     },
     "execution_count": 65,
     "metadata": {},
     "output_type": "execute_result"
    }
   ],
   "source": [
    "import java.time.Duration;\n",
    "\n",
    "Duration.ofDays(1);"
   ]
  },
  {
   "cell_type": "markdown",
   "id": "45455ae3e94d2d31",
   "metadata": {
    "collapsed": false
   },
   "source": [
    "Golden rule: pick one in your application and stick to it. Don't mix them. If you don't need a time zone and storing everything in UTC. Then use Instant. If you need a time zone, then use ZonedDateTime. If you need a date and time with an offset from UTC, then use OffsetDateTime. "
   ]
  }
 ],
 "metadata": {
  "kernelspec": {
   "display_name": "Java",
   "language": "java",
   "name": "java"
  },
  "language_info": {
   "codemirror_mode": "java",
   "file_extension": ".jshell",
   "mimetype": "text/x-java-source",
   "name": "Java",
   "pygments_lexer": "java",
   "version": "17.0.7+7"
  }
 },
 "nbformat": 4,
 "nbformat_minor": 5
}
