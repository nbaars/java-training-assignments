{
 "cells": [
  {
   "cell_type": "markdown",
   "id": "eccea422-35a9-448b-8feb-4db062e99f90",
   "metadata": {},
   "source": [
    "# Java Streams: Functional programming in Java \n",
    "\n",
    "In this section we will look at functional programming in Java. We will look at the following topics:\n",
    "- Functional interfaces\n",
    "- Lambda expressions\n",
    "- Method references\n",
    "- Streams\n",
    "- Optional\n",
    "- Collectors\n"
   ]
  },
  {
   "cell_type": "markdown",
   "id": "44a3a506a45ebcaf",
   "metadata": {
    "collapsed": false,
    "jupyter": {
     "outputs_hidden": false
    }
   },
   "source": [
    "## Functional interfaces\n",
    "\n",
    "Functional interfaces are interfaces with only **one abstract method**. They are used to define lambda expressions. Java has a lot of predefined functional interfaces like `Predicate`, `Consumer`, `Supplier`, `Function` etc. Let's look at some examples: \n"
   ]
  },
  {
   "cell_type": "code",
   "execution_count": null,
   "id": "7f58d32ccf358cdd",
   "metadata": {
    "collapsed": false,
    "jupyter": {
     "outputs_hidden": false
    }
   },
   "outputs": [],
   "source": [
    "@FunctionalInterface              //Optional to add this annotation\n",
    "public interface Predicate<T> {\n",
    "\n",
    "    /**\n",
    "     * Evaluates this predicate on the given argument.\n",
    "     *\n",
    "     * @param t the input argument\n",
    "     * @return {@code true} if the input argument matches the predicate,\n",
    "     * otherwise {@code false}\n",
    "     */\n",
    "    boolean test(T t);\n",
    "}"
   ]
  },
  {
   "cell_type": "code",
   "execution_count": 1,
   "id": "64dc18d513f940f7",
   "metadata": {
    "ExecuteTime": {
     "end_time": "2024-01-11T08:16:05.985282Z",
     "start_time": "2024-01-11T08:16:05.696853Z"
    },
    "collapsed": false,
    "jupyter": {
     "outputs_hidden": false
    }
   },
   "outputs": [
    {
     "data": {
      "text/plain": [
       "true"
      ]
     },
     "execution_count": 1,
     "metadata": {},
     "output_type": "execute_result"
    }
   ],
   "source": [
    "import java.util.function.*;\n",
    "\n",
    "new Predicate<String>() {\n",
    "    @Override\n",
    "    public boolean test(String s) {\n",
    "        return s.startsWith(\"Hello\");\n",
    "    }\n",
    "}.test(\"Hello World\");\n"
   ]
  },
  {
   "cell_type": "markdown",
   "id": "3d051f376bffe5d4",
   "metadata": {
    "collapsed": false,
    "jupyter": {
     "outputs_hidden": false
    }
   },
   "source": [
    "## Lambda expressions\n",
    "\n",
    "Lambda expressions are anonymous functions. They are used to define functional interfaces. Let's look at some examples:"
   ]
  },
  {
   "cell_type": "code",
   "execution_count": 2,
   "id": "6218e780a585b5b3",
   "metadata": {
    "ExecuteTime": {
     "end_time": "2024-01-05T15:14:19.686557Z",
     "start_time": "2024-01-05T15:14:19.192881Z"
    },
    "collapsed": false,
    "jupyter": {
     "outputs_hidden": false
    }
   },
   "outputs": [
    {
     "data": {
      "text/plain": [
       "true"
      ]
     },
     "execution_count": 2,
     "metadata": {},
     "output_type": "execute_result"
    }
   ],
   "source": [
    "import java.util.function.*;\n",
    "\n",
    "Predicate<String> predicate = s -> s.startsWith(\"Hello\");\n",
    "predicate.test(\"Hello World\");\n",
    "//predicate.test(\"World\");\n"
   ]
  },
  {
   "cell_type": "code",
   "execution_count": 3,
   "id": "bcfdedbc0f4c4a15",
   "metadata": {
    "ExecuteTime": {
     "end_time": "2024-01-05T15:26:13.115571Z",
     "start_time": "2024-01-05T15:26:12.973560Z"
    },
    "collapsed": false,
    "jupyter": {
     "outputs_hidden": false
    }
   },
   "outputs": [
    {
     "name": "stdout",
     "output_type": "stream",
     "text": [
      "Hello World\n"
     ]
    }
   ],
   "source": [
    "interface MyInterface {\n",
    "    void doSomething(String s);\n",
    "}\n",
    "\n",
    "MyInterface myInterface = s -> System.out.println(s);\n",
    "myInterface.doSomething(\"Hello World\");"
   ]
  },
  {
   "cell_type": "code",
   "execution_count": 4,
   "id": "604456e245f02e84",
   "metadata": {
    "ExecuteTime": {
     "end_time": "2024-01-01T12:21:50.431147Z",
     "start_time": "2024-01-01T12:21:50.335194Z"
    },
    "collapsed": false,
    "jupyter": {
     "outputs_hidden": false
    }
   },
   "outputs": [
    {
     "data": {
      "text/plain": [
       "true"
      ]
     },
     "execution_count": 4,
     "metadata": {},
     "output_type": "execute_result"
    }
   ],
   "source": [
    "Predicate<Integer> predicate = i -> i > 10;\n",
    "predicate.test(11);"
   ]
  },
  {
   "cell_type": "code",
   "execution_count": null,
   "id": "2a47dc3e-c1db-4f91-bc88-9c2a9d42c30d",
   "metadata": {},
   "outputs": [],
   "source": []
  },
  {
   "cell_type": "code",
   "execution_count": 5,
   "id": "bcd7a6b2a238129e",
   "metadata": {
    "ExecuteTime": {
     "end_time": "2024-01-01T12:22:19.667564Z",
     "start_time": "2024-01-01T12:22:19.607846Z"
    },
    "collapsed": false,
    "jupyter": {
     "outputs_hidden": false
    }
   },
   "outputs": [
    {
     "data": {
      "text/plain": [
       "true"
      ]
     },
     "execution_count": 5,
     "metadata": {},
     "output_type": "execute_result"
    }
   ],
   "source": [
    "Predicate<Integer> predicate1 = i -> i > 10;\n",
    "Predicate<Integer> predicate2 = i -> i < 20;\n",
    "predicate1.and(predicate2).test(15);\n"
   ]
  },
  {
   "cell_type": "code",
   "execution_count": 7,
   "id": "840a800921f3ca54",
   "metadata": {
    "ExecuteTime": {
     "end_time": "2024-01-01T12:52:44.791243Z",
     "start_time": "2024-01-01T12:52:44.721130Z"
    },
    "collapsed": false,
    "jupyter": {
     "outputs_hidden": false
    }
   },
   "outputs": [
    {
     "ename": "CompilationException",
     "evalue": "",
     "output_type": "error",
     "traceback": [
      "\u001b[1m\u001b[30m|   \u001b[1m\u001b[30mPredicate<Integer> predicate1 = i -> \u001b[0m\u001b[1m\u001b[30m\u001b[41m\u001b[0m\u001b[1m\u001b[30mreturn i > 10;\u001b[0m",
      "\u001b[1m\u001b[31millegal start of expression\u001b[0m",
      ""
     ]
    }
   ],
   "source": [
    "Predicate<Integer> predicate1 = i -> i > 10;\n",
    "Predicate<Integer> predicate2 = i -> i < 20;\n",
    "predicate1.negate().or(predicate2).negate().test(9);\n",
    "\n",
    "predicate1.negate().or(predicate2.negate()).test(9);"
   ]
  },
  {
   "cell_type": "markdown",
   "id": "41d9091d1de8fd98",
   "metadata": {
    "collapsed": false,
    "jupyter": {
     "outputs_hidden": false
    }
   },
   "source": [
    "### A lambda expression can have a body\n"
   ]
  },
  {
   "cell_type": "code",
   "execution_count": 10,
   "id": "cf17088a3e25040a",
   "metadata": {
    "ExecuteTime": {
     "end_time": "2024-01-01T19:14:38.761385Z",
     "start_time": "2024-01-01T19:14:38.686755Z"
    },
    "collapsed": false,
    "jupyter": {
     "outputs_hidden": false
    }
   },
   "outputs": [
    {
     "name": "stdout",
     "output_type": "stream",
     "text": [
      "Hello World\n"
     ]
    },
    {
     "data": {
      "text/plain": [
       "true"
      ]
     },
     "execution_count": 10,
     "metadata": {},
     "output_type": "execute_result"
    }
   ],
   "source": [
    "Predicate<Integer> predicate = i -> {\n",
    "    System.out.println(\"Hello World\");\n",
    "    return i > 10;\n",
    "};\n",
    "predicate.test(11);"
   ]
  },
  {
   "cell_type": "markdown",
   "id": "8153bf04213bc6d2",
   "metadata": {
    "collapsed": false,
    "jupyter": {
     "outputs_hidden": false
    }
   },
   "source": [
    "#### Passing lambda expressions as arguments"
   ]
  },
  {
   "cell_type": "code",
   "execution_count": 32,
   "id": "6be371651db82148",
   "metadata": {
    "ExecuteTime": {
     "end_time": "2024-01-01T12:56:56.455473Z",
     "start_time": "2024-01-01T12:56:56.362311Z"
    },
    "collapsed": false,
    "jupyter": {
     "outputs_hidden": false
    }
   },
   "outputs": [
    {
     "name": "stdout",
     "output_type": "stream",
     "text": [
      "Hello World\n",
      "Hello World\n",
      "Hello World\n"
     ]
    }
   ],
   "source": [
    "import java.util.function.*;\n",
    "\n",
    "static void printIf(Predicate<String> predicate, String str) {\n",
    "    if (predicate.test(str)) {\n",
    "        System.out.println(str);\n",
    "    }\n",
    "}\n",
    "\n",
    "Predicate<String> one = new Predicate<String>() {\n",
    "    @Override\n",
    "    public boolean test(String s) {\n",
    "        return s.startsWith(\"Hello\");\n",
    "    }\n",
    "};\n",
    "Predicate<String> two = s -> s.startsWith(\"Hello\");\n",
    "\n",
    "printIf(one, \"Hello World\");\n",
    "printIf(two, \"Hello World\");\n",
    "printIf(s -> s.startsWith(\"Hello\"), \"Hello World\");"
   ]
  },
  {
   "cell_type": "markdown",
   "id": "a796487a12e3fa6a",
   "metadata": {
    "collapsed": false,
    "jupyter": {
     "outputs_hidden": false
    }
   },
   "source": [
    "## Important \n",
    "\n",
    "Behind the syntactic sugar of lambda expressions, Java still wraps these into functional interfaces. So, Java treats a lambda expression as an Object, which is the true first-class citizen in Java.\n",
    "\n",
    "TIP: IDE will automatically help you when you write `new Predicate()...` and offers help to rewrite it to a lambda."
   ]
  },
  {
   "cell_type": "markdown",
   "id": "e1d2577a-0881-47a3-bd9a-fc52eaa890f8",
   "metadata": {},
   "source": [
    "### Different functional interfaces\n",
    "\n",
    "<img src=\"https://i.imgur.com/rtjKUji.png\">\n",
    "\n",
    "#### Consumer\n",
    "\n",
    "A Consumer is a functional interface that takes an argument and returns nothing. It is used to perform some operations on the argument. Let's look at some examples:\n"
   ]
  },
  {
   "cell_type": "code",
   "execution_count": 11,
   "id": "99551361cc3017b8",
   "metadata": {
    "ExecuteTime": {
     "end_time": "2024-01-01T13:47:02.020070Z",
     "start_time": "2024-01-01T13:47:01.966073Z"
    },
    "collapsed": false,
    "jupyter": {
     "outputs_hidden": false
    }
   },
   "outputs": [
    {
     "name": "stdout",
     "output_type": "stream",
     "text": [
      "Hello World\n"
     ]
    }
   ],
   "source": [
    "Consumer<String> consumer = s -> System.out.println(s);\n",
    "consumer.accept(\"Hello World\");"
   ]
  },
  {
   "cell_type": "code",
   "execution_count": 13,
   "id": "b2ff53ed3a68dc2",
   "metadata": {
    "ExecuteTime": {
     "end_time": "2024-01-01T13:48:14.051019Z",
     "start_time": "2024-01-01T13:48:13.997129Z"
    },
    "collapsed": false,
    "jupyter": {
     "outputs_hidden": false
    }
   },
   "outputs": [
    {
     "name": "stdout",
     "output_type": "stream",
     "text": [
      "Hello World\n",
      "HELLO WORLD\n"
     ]
    }
   ],
   "source": [
    "Consumer<String> consumer = s -> System.out.println(s);\n",
    "Consumer<String> consumer2 = s -> System.out.println(s.toUpperCase());\n",
    "consumer.andThen(consumer2).accept(\"Hello World\");"
   ]
  },
  {
   "cell_type": "code",
   "execution_count": 14,
   "id": "d7bf24569ac51bfa",
   "metadata": {
    "ExecuteTime": {
     "end_time": "2024-01-01T13:51:48.133234Z",
     "start_time": "2024-01-01T13:51:48.052309Z"
    },
    "collapsed": false,
    "jupyter": {
     "outputs_hidden": false
    }
   },
   "outputs": [
    {
     "name": "stdout",
     "output_type": "stream",
     "text": [
      "Hello\n",
      "World\n",
      "HELLO\n",
      "WORLD\n",
      "5\n",
      "5\n"
     ]
    }
   ],
   "source": [
    "List<String> list = List.of(\"Hello\", \"World\");\n",
    "\n",
    "static void loopList(List<String> list, Consumer<String> consumer) {\n",
    "    for (String s : list) {\n",
    "        consumer.accept(s);\n",
    "    }\n",
    "}\n",
    "loopList(list, s -> s.upperCase());\n",
    "loopList(list, s -> System.out.println(s));\n",
    "loopList(list, s -> System.out.println(s.toUpperCase()));\n",
    "loopList(list, s -> System.out.println(s.length()));"
   ]
  },
  {
   "cell_type": "markdown",
   "id": "daf6c210bc7692fa",
   "metadata": {
    "collapsed": false,
    "jupyter": {
     "outputs_hidden": false
    }
   },
   "source": [
    "### Supplier\n",
    "\n",
    "A Supplier is a functional interface that takes no arguments and returns a value. It is used to supply values. Let's look at some examples:"
   ]
  },
  {
   "cell_type": "code",
   "execution_count": 16,
   "id": "802110c25f1547bb",
   "metadata": {
    "ExecuteTime": {
     "end_time": "2024-01-01T14:06:39.437703Z",
     "start_time": "2024-01-01T14:06:39.370779Z"
    },
    "collapsed": false,
    "jupyter": {
     "outputs_hidden": false
    }
   },
   "outputs": [
    {
     "data": {
      "text/plain": [
       "Hello World"
      ]
     },
     "execution_count": 16,
     "metadata": {},
     "output_type": "execute_result"
    }
   ],
   "source": [
    "Supplier<String> supplier = () -> \"Hello World\";\n",
    "\n",
    "String s = supplier.get();\n",
    "s;"
   ]
  },
  {
   "cell_type": "markdown",
   "id": "fb1b5ff428c8da11",
   "metadata": {
    "collapsed": false,
    "jupyter": {
     "outputs_hidden": false
    }
   },
   "source": [
    "Supplier can be used for lazy evaluation like this:"
   ]
  },
  {
   "cell_type": "code",
   "execution_count": null,
   "id": "41601894db20b673",
   "metadata": {
    "collapsed": false,
    "jupyter": {
     "outputs_hidden": false
    }
   },
   "outputs": [],
   "source": [
    "Supplier<String> supplier = () -> {\n",
    "    System.out.println(\"Hello World\");\n",
    "    return \"Hello World\";\n",
    "};"
   ]
  },
  {
   "cell_type": "markdown",
   "id": "4c57c4436d8fe396",
   "metadata": {
    "collapsed": false,
    "jupyter": {
     "outputs_hidden": false
    }
   },
   "source": [
    "### Caching supplier\n",
    "\n",
    "Let's code an example for a caching supplier, and make sure that the supplier is only called once:"
   ]
  },
  {
   "cell_type": "code",
   "execution_count": 17,
   "id": "c8c53d15bacc0fcd",
   "metadata": {
    "ExecuteTime": {
     "end_time": "2024-01-01T19:47:18.082745Z",
     "start_time": "2024-01-01T19:47:17.971599Z"
    },
    "collapsed": false,
    "jupyter": {
     "outputs_hidden": false
    }
   },
   "outputs": [
    {
     "name": "stdout",
     "output_type": "stream",
     "text": [
      "Calling Supplier\n",
      "Hello World\n"
     ]
    },
    {
     "data": {
      "text/plain": [
       "Hello World"
      ]
     },
     "execution_count": 17,
     "metadata": {},
     "output_type": "execute_result"
    }
   ],
   "source": [
    "import java.util.function.*;\n",
    "\n",
    "class LazySupplier<T> implements Supplier<T> {\n",
    "\n",
    "    private final Supplier<T> supplier;\n",
    "    private T value;\n",
    "\n",
    "    public LazySupplier(Supplier<T> supplier) {\n",
    "        this.supplier = supplier;\n",
    "    }\n",
    "\n",
    "    @Override\n",
    "    public T get() {\n",
    "        if (value == null) {\n",
    "            //computation which takes 5 minutes\n",
    "            value = supplier.get();\n",
    "        }\n",
    "        return value;\n",
    "    }\n",
    "}\n",
    "\n",
    "var lazy = new LazySupplier<>(() -> {\n",
    "    System.out.println(\"Calling Supplier\");\n",
    "    return \"Hello World\";\n",
    "});\n",
    "System.out.println(lazy.get());\n",
    "lazy.get();\n"
   ]
  },
  {
   "cell_type": "markdown",
   "id": "f3164fe1df6290dc",
   "metadata": {
    "collapsed": false,
    "jupyter": {
     "outputs_hidden": false
    }
   },
   "source": [
    "### Function\n",
    "\n",
    "A `Function` is a functional interface that takes an argument and returns a value. It is used to transform values. The signature of the function is `T -> R`.\n",
    "\n",
    "Let's look at some examples:"
   ]
  },
  {
   "cell_type": "code",
   "execution_count": 8,
   "id": "314969a2cc37e624",
   "metadata": {
    "ExecuteTime": {
     "end_time": "2024-01-01T19:48:28.037888Z",
     "start_time": "2024-01-01T19:48:28.014274Z"
    },
    "collapsed": false,
    "jupyter": {
     "outputs_hidden": false
    }
   },
   "outputs": [
    {
     "data": {
      "text/plain": [
       "HELLO WORLD"
      ]
     },
     "execution_count": 8,
     "metadata": {},
     "output_type": "execute_result"
    }
   ],
   "source": [
    "import java.util.function.*;\n",
    "\n",
    "Function<String, String> identity = s -> s\n",
    "Function<String, String> function = s -> s.toUpperCase();\n",
    "function.apply(\"Hello World\");\n"
   ]
  },
  {
   "cell_type": "markdown",
   "id": "29c5d774c48f7daa",
   "metadata": {
    "collapsed": false,
    "jupyter": {
     "outputs_hidden": false
    }
   },
   "source": [
    "### Chaining functions\n"
   ]
  },
  {
   "cell_type": "code",
   "execution_count": 18,
   "id": "772997a1a912a06",
   "metadata": {
    "ExecuteTime": {
     "end_time": "2024-01-02T18:53:05.847801Z",
     "start_time": "2024-01-02T18:53:05.726330Z"
    },
    "collapsed": false,
    "jupyter": {
     "outputs_hidden": false
    }
   },
   "outputs": [
    {
     "name": "stdout",
     "output_type": "stream",
     "text": [
      "\"Hello World\"\n",
      "toUpperCase\n",
      "removeQuotes\n",
      "removeQuotes\n",
      "toUpperCase\n"
     ]
    },
    {
     "data": {
      "text/plain": [
       "HELLO WORLD"
      ]
     },
     "execution_count": 18,
     "metadata": {},
     "output_type": "execute_result"
    }
   ],
   "source": [
    "Function<String, String> toUpperCase = s -> {\n",
    "  System.out.println(\"toUpperCase\");\n",
    "  return s.toUpperCase();\n",
    "};\n",
    "Function<String, String> removeQuotes = s -> {\n",
    "  System.out.println(\"removeQuotes\");\n",
    "  return s.replaceAll(\"\\\"\", \"\");\n",
    "};\n",
    "\n",
    "System.out.println(\"\\\"Hello World\\\"\");\n",
    "toUpperCase.andThen(removeQuotes).apply(\"\\\"Hello World\\\"\");\n",
    "toUpperCase.compose(removeQuotes).apply(\"\\\"Hello World\\\"\");"
   ]
  },
  {
   "cell_type": "markdown",
   "id": "e1fcb2f35d259d05",
   "metadata": {
    "collapsed": false,
    "jupyter": {
     "outputs_hidden": false
    }
   },
   "source": [
    "### BiFunction\n",
    "\n",
    "A `BiFunction` is a functional interface that takes two arguments and returns a value. It is used to transform values. The signature of the function is `(T, U) -> R`.\n",
    "Let's look at some examples:"
   ]
  },
  {
   "cell_type": "code",
   "execution_count": 13,
   "id": "5b77fe7082ad3927",
   "metadata": {
    "ExecuteTime": {
     "end_time": "2024-01-01T19:51:57.486301Z",
     "start_time": "2024-01-01T19:51:57.437928Z"
    },
    "collapsed": false,
    "jupyter": {
     "outputs_hidden": false
    }
   },
   "outputs": [
    {
     "data": {
      "text/plain": [
       "HelloWorld"
      ]
     },
     "execution_count": 13,
     "metadata": {},
     "output_type": "execute_result"
    }
   ],
   "source": [
    "import java.util.function.*;\n",
    "\n",
    "BiFunction<String, String, String> concatenate = (s1, s2) -> s1 + s2;\n",
    "concatenate.apply(\"Hello\", \"World\");"
   ]
  },
  {
   "cell_type": "markdown",
   "id": "771864a22926850e",
   "metadata": {
    "collapsed": false,
    "jupyter": {
     "outputs_hidden": false
    }
   },
   "source": [
    "## Streams\n",
    "\n",
    "Stream in Java give a functional approach to process collections. A sequence of objects, known as a stream, provides support for a variety of methods that can be sequentially applied to achieve the intended outcome.\n",
    "\n"
   ]
  },
  {
   "cell_type": "markdown",
   "id": "2900f7b8-8a50-4ed5-8dfc-11dd4c480cb2",
   "metadata": {},
   "source": [
    "<img src=\"https://media.geeksforgeeks.org/wp-content/uploads/20210706120537/JavaStream.png\"/>"
   ]
  },
  {
   "cell_type": "markdown",
   "id": "24b93488-9ee1-4ed7-8d98-37e76855af7b",
   "metadata": {},
   "source": [
    "- Stream takes the input from a collection (does not hold any elements itself)\n",
    "- Stream does not manipulate the collection itself\n",
    "- Each operation is done by lazy evaluation (remember lambdas) and returns a new stream"
   ]
  },
  {
   "cell_type": "code",
   "execution_count": 24,
   "id": "a7abb6f8-c714-4663-be4f-7eb9991c8192",
   "metadata": {},
   "outputs": [
    {
     "data": {
      "text/plain": [
       "4"
      ]
     },
     "execution_count": 24,
     "metadata": {},
     "output_type": "execute_result"
    }
   ],
   "source": [
    "import java.util.*;\n",
    "import java.util.stream.*;\n",
    "\n",
    "List<Integer> numbers = List.of(1, 2, 3, 4, 5, 6, 7, 8, 9);\n",
    "\n",
    "//List<Integer> evenNumbers = \n",
    "    \n",
    "    numbers.stream()\n",
    "    .filter(i -> i % 2 == 0)\n",
    "    .map(i -> i * 2)\n",
    "    .count();\n",
    "//evenNumbers;\n",
    "\n"
   ]
  },
  {
   "cell_type": "markdown",
   "id": "69da46c4-0569-468d-b1dc-9ac95cbcf3f0",
   "metadata": {},
   "source": [
    "## Intermediate operations\n",
    "\n",
    "These are the operations that return a `Stream`, for example: `filter`, `map`, `flatMap`, `sorted`. And you can combine those:\n"
   ]
  },
  {
   "cell_type": "code",
   "execution_count": 28,
   "id": "ce144ea356ad4099",
   "metadata": {
    "ExecuteTime": {
     "end_time": "2024-01-03T08:20:01.438523Z",
     "start_time": "2024-01-03T08:20:01.361104Z"
    },
    "collapsed": false,
    "jupyter": {
     "outputs_hidden": false
    }
   },
   "outputs": [
    {
     "name": "stdout",
     "output_type": "stream",
     "text": [
      "Cat[name=Felix, age=5]\n",
      "Cat[name=Tom, age=12]\n"
     ]
    },
    {
     "data": {
      "text/plain": [
       "[Tom]"
      ]
     },
     "execution_count": 28,
     "metadata": {},
     "output_type": "execute_result"
    }
   ],
   "source": [
    "record Cat(String name, int age) {} \n",
    "\n",
    "List<Cat> cats = List.of(new Cat(\"Felix\", 5), new Cat(\"Tom\", 12));\n",
    "\n",
    "//Let's say we want to find all the cats above the age of 10 and return their names\n",
    "Predicate<Cat> above10 = cat -> cat.age() >= 10;\n",
    "Function<Cat, String> name = cat -> cat.name();\n",
    "Stream<Cat>    filteredAgeStream = cats.stream().filter(above10);         \n",
    "Stream<String> onlyNameStream    = filteredAgeStream.map(name);\n",
    "\n",
    "\n",
    "onlyNameStream.toList();  //short for collect(Collectors.toList())\n",
    "\n",
    "//In one go:\n",
    "cats.forEach(cat -> System.out.println(cat));\n",
    "cats.stream()\n",
    "    .filter(cat -> cat.age() >= 10)\n",
    "    .map(cat -> cat.name())\n",
    "    .toList(); \n",
    "    \n",
    "// Try to imagine to do this with for loops :-)"
   ]
  },
  {
   "cell_type": "markdown",
   "id": "cfed9be628d536d3",
   "metadata": {
    "collapsed": false,
    "jupyter": {
     "outputs_hidden": false
    }
   },
   "source": [
    "The `filter` function takes a `Predicate` as a lambda and is implemented as follows in one of the `Stream` subclasses:\n",
    "\n",
    "```java\n",
    "    @Override\n",
    "    public final Stream<P_OUT> filter(Predicate<? super P_OUT> predicate) {\n",
    "        Objects.requireNonNull(predicate);\n",
    "        return new StatelessOp<P_OUT, P_OUT>(this, StreamShape.REFERENCE,\n",
    "                                     StreamOpFlag.NOT_SIZED) {\n",
    "            @Override\n",
    "            Sink<P_OUT> opWrapSink(int flags, Sink<P_OUT> sink) {\n",
    "                return new Sink.ChainedReference<P_OUT, P_OUT>(sink) {\n",
    "                    @Override\n",
    "                    public void begin(long size) {\n",
    "                        downstream.begin(-1);\n",
    "                    }\n",
    "\n",
    "                    @Override\n",
    "                    public void accept(P_OUT u) {\n",
    "                        if (predicate.test(u))\n",
    "                            downstream.accept(u);\n",
    "                        \n",
    "                    }\n",
    "                };\n",
    "            }\n",
    "        };\n",
    "    }\n",
    "```\n",
    "\n",
    "Same as for `map` which takes a function which takes a `Cat` and returns possible another type."
   ]
  },
  {
   "cell_type": "code",
   "execution_count": 33,
   "id": "14b550f9c8526a71",
   "metadata": {
    "ExecuteTime": {
     "end_time": "2024-01-03T08:15:46.420232Z",
     "start_time": "2024-01-03T08:15:46.363633Z"
    },
    "collapsed": false,
    "jupyter": {
     "outputs_hidden": false
    }
   },
   "outputs": [
    {
     "data": {
      "text/plain": [
       "[Cat[name=Felix, age=5], Cat[name=Tom, age=12]]"
      ]
     },
     "execution_count": 33,
     "metadata": {},
     "output_type": "execute_result"
    }
   ],
   "source": [
    "record Cat(String name, int age) {} \n",
    "\n",
    "List<Cat> cats = List.of(new Cat(\"Felix\", 5), new Cat(\"Tom\", 12));\n",
    "cats.stream().map(cat -> cat).toList();                             //returning itself is fine, called identity function."
   ]
  },
  {
   "cell_type": "markdown",
   "id": "d87dfb43222514ab",
   "metadata": {
    "collapsed": false,
    "jupyter": {
     "outputs_hidden": false
    }
   },
   "source": [
    "### Flat map \n",
    "\n",
    "The `flatMap` function is similar to the map function, but with an important difference. While `map` transforms each element of the stream into another single element, `flatMap` transforms each element into a stream of elements and then flattens the resulting streams into a single stream.\n",
    "\n",
    "- **Mapping Function:**\n",
    "  - `flatMap` takes a mapping function as an argument.\n",
    "  - This mapping function should return a stream for each input element.\n",
    "\n",
    "- **Flattening:**\n",
    "  - The output streams from the mapping function are then flattened into a single stream.\n",
    "  - This means that the elements of the individual streams are concatenated into one flat stream.\n",
    "    \n",
    "In summary, `flatMap` is a powerful operation that is useful when dealing with nested structures. It allows you to apply a transformation to each element of a stream, where the transformation results in a stream of values, and then flattens these streams into a single stream of values."
   ]
  },
  {
   "cell_type": "code",
   "execution_count": 29,
   "id": "c7f110226d5a54cb",
   "metadata": {
    "ExecuteTime": {
     "end_time": "2024-01-03T17:59:14.831500Z",
     "start_time": "2024-01-03T17:59:14.757267Z"
    },
    "collapsed": false,
    "jupyter": {
     "outputs_hidden": false
    }
   },
   "outputs": [
    {
     "ename": "CompilationException",
     "evalue": "",
     "output_type": "error",
     "traceback": [
      "\u001b[1m\u001b[30m|   \u001b[1m\u001b[30mStream<Integer> streamOfInts = \u001b[0m\u001b[1m\u001b[30m\u001b[41mstreamOfList.map(l -> l.stream())\u001b[0m\u001b[1m\u001b[30m;\u001b[0m",
      "\u001b[1m\u001b[31mincompatible types: inference variable R has incompatible bounds\u001b[0m",
      "\u001b[1m\u001b[31m    equality constraints: java.lang.Integer\u001b[0m",
      "\u001b[1m\u001b[31m    lower bounds: java.util.stream.Stream<java.lang.Integer>\u001b[0m",
      ""
     ]
    }
   ],
   "source": [
    "import java.util.*;\n",
    "\n",
    "//<R> Stream<R> flatMap(Function<? super T, ? extends Stream<? extends R>> mapper)\n",
    "\n",
    "\n",
    "List<List<Integer>> listOfLists = List.of(\n",
    "  List.of(1, 2, 3),\n",
    "  List.of(4, 5, 6),\n",
    "  List.of(7, 8, 9)\n",
    ");\n",
    "\n",
    "Stream<List<Integer>> streamOfList = listOfLists.stream();\n",
    "Stream<Integer> streamOfInts = streamOfList.flatMap(l -> l.stream());\n",
    "streamOfInts.toList();"
   ]
  },
  {
   "cell_type": "code",
   "execution_count": 53,
   "id": "57255d0a8c363320",
   "metadata": {
    "ExecuteTime": {
     "end_time": "2024-01-03T18:06:55.443447Z",
     "start_time": "2024-01-03T18:06:55.367148Z"
    },
    "collapsed": false,
    "jupyter": {
     "outputs_hidden": false
    }
   },
   "outputs": [
    {
     "data": {
      "text/plain": [
       "[Ca, ar, th, be]"
      ]
     },
     "execution_count": 53,
     "metadata": {},
     "output_type": "execute_result"
    }
   ],
   "source": [
    "List<String> words = List.of(\"Cats\", \"are\", \"the\", \"best\");\n",
    "\n",
    "words.stream().flatMap(str -> Stream.of(str.substring(0, 2))).toList();\n",
    "\n",
    "\n",
    "//which you can also write as\n",
    "words.stream().map(str -> str.substring(0,2)).toList();\n",
    "words.stream().map(str -> Stream.of(str.substring(0,2))).flatMap(s -> s).toList();\n"
   ]
  },
  {
   "cell_type": "markdown",
   "id": "86e88e35d2168d24",
   "metadata": {
    "collapsed": false,
    "jupyter": {
     "outputs_hidden": false
    }
   },
   "source": [
    "## Collectors\n",
    "\n",
    "Collectors provide a convenient way to transform the elements of a Stream into a different form, such as a List, Set, Map, or even a custom container. They encapsulate the logic for mutable reduction, making it easier to perform operations like grouping, partitioning, or summarizing data."
   ]
  },
  {
   "cell_type": "code",
   "execution_count": 56,
   "id": "d562378bc9732093",
   "metadata": {
    "ExecuteTime": {
     "end_time": "2024-01-03T18:29:33.584645Z",
     "start_time": "2024-01-03T18:29:33.523805Z"
    },
    "collapsed": false,
    "jupyter": {
     "outputs_hidden": false
    }
   },
   "outputs": [
    {
     "data": {
      "text/plain": [
       "{4=Cats}"
      ]
     },
     "execution_count": 56,
     "metadata": {},
     "output_type": "execute_result"
    }
   ],
   "source": [
    "import java.util.stream.*;\n",
    "\n",
    "Stream.of(\"Cats\").collect(Collectors.toMap(s -> s.length(), s -> s));"
   ]
  },
  {
   "cell_type": "code",
   "execution_count": 30,
   "id": "b8a662071a89fef0",
   "metadata": {
    "ExecuteTime": {
     "end_time": "2024-01-03T18:32:46.435725Z",
     "start_time": "2024-01-03T18:32:46.368508Z"
    },
    "collapsed": false,
    "jupyter": {
     "outputs_hidden": false
    }
   },
   "outputs": [
    {
     "data": {
      "text/plain": [
       "Cats, are, the, best"
      ]
     },
     "execution_count": 30,
     "metadata": {},
     "output_type": "execute_result"
    }
   ],
   "source": [
    "var words = List.of(\"Cats\", \"are\", \"the\", \"best\");\n",
    "words.stream().collect(Collectors.joining(\", \"));"
   ]
  },
  {
   "cell_type": "code",
   "execution_count": 32,
   "id": "76e7ad879b6886c",
   "metadata": {
    "ExecuteTime": {
     "end_time": "2024-01-03T19:15:16.703111Z",
     "start_time": "2024-01-03T19:15:16.632825Z"
    },
    "collapsed": false,
    "jupyter": {
     "outputs_hidden": false
    }
   },
   "outputs": [
    {
     "data": {
      "text/plain": [
       "{false=[1, 3], true=[2, 4]}"
      ]
     },
     "execution_count": 32,
     "metadata": {},
     "output_type": "execute_result"
    }
   ],
   "source": [
    "import java.util.stream.*;\n",
    "\n",
    "var numbers = List.of(1, 2, 3, 4);\n",
    "numbers.stream().collect(Collectors.groupingBy(number -> number % 2 == 0));\n",
    "\n",
    "// var words = List.of(\"Cats\", \"are\", \"the\", \"Cats\");\n",
    "// words.stream().collect(Collectors.groupingBy(s -> s.length()));\n",
    "// words.stream().collect(Collectors.groupingBy(s -> s));\n"
   ]
  },
  {
   "cell_type": "code",
   "execution_count": null,
   "id": "bd27e167-4e51-402d-a630-67dca434a893",
   "metadata": {},
   "outputs": [],
   "source": []
  },
  {
   "cell_type": "code",
   "execution_count": 9,
   "id": "efa788772ca1b998",
   "metadata": {
    "ExecuteTime": {
     "end_time": "2024-01-03T19:13:40.479827Z",
     "start_time": "2024-01-03T19:13:40.424913Z"
    },
    "collapsed": false,
    "jupyter": {
     "outputs_hidden": false
    }
   },
   "outputs": [
    {
     "data": {
      "text/plain": [
       "{false=[are, the], true=[Cats, Dogs]}"
      ]
     },
     "execution_count": 9,
     "metadata": {},
     "output_type": "execute_result"
    }
   ],
   "source": [
    "var words = List.of(\"Cats\", \"are\", \"the\", \"Dogs\");\n",
    "\n",
    "words.stream().collect(Collectors.partitioningBy(s -> s.length() > 3));\n"
   ]
  },
  {
   "cell_type": "markdown",
   "id": "ce4d51324c8d45df",
   "metadata": {
    "collapsed": false,
    "jupyter": {
     "outputs_hidden": false
    }
   },
   "source": [
    "## Short circuit operations\n",
    "\n",
    "Short-circuiting operations allow computations on infinite streams to complete in finite time. They are called short-circuiting operations because they may not have to process the entire stream to produce a result. For example, `limit(n)` doesn’t need to read the entire stream to produce a result with n elements. Similarly, `findFirst()` does not need to examine all the stream elements to find one."
   ]
  },
  {
   "cell_type": "code",
   "execution_count": 33,
   "id": "1448dd4cb406553a",
   "metadata": {
    "ExecuteTime": {
     "end_time": "2024-01-03T19:18:04.479826Z",
     "start_time": "2024-01-03T19:18:04.369410Z"
    },
    "collapsed": false,
    "jupyter": {
     "outputs_hidden": false
    }
   },
   "outputs": [
    {
     "data": {
      "text/plain": [
       "[0, 1, 2, 3, 4, 5, 6, 7, 8, 9, 10, 11, 12, 13, 14, 15, 16, 17, 18, 19]"
      ]
     },
     "execution_count": 33,
     "metadata": {},
     "output_type": "execute_result"
    }
   ],
   "source": [
    "import java.util.stream.*;\n",
    "import java.util.*;\n",
    "\n",
    "Stream<Integer> infiniteStream = Stream.iterate(0, i -> i + 1);\n",
    "infiniteStream.limit(20).collect(Collectors.toList());\n"
   ]
  },
  {
   "cell_type": "code",
   "execution_count": 35,
   "id": "f6a65ac705d19b01",
   "metadata": {
    "ExecuteTime": {
     "end_time": "2024-01-03T19:19:38.828104Z",
     "start_time": "2024-01-03T19:19:38.807506Z"
    },
    "collapsed": false,
    "jupyter": {
     "outputs_hidden": false
    }
   },
   "outputs": [
    {
     "data": {
      "text/plain": [
       "false"
      ]
     },
     "execution_count": 35,
     "metadata": {},
     "output_type": "execute_result"
    }
   ],
   "source": [
    "import java.util.stream.*;\n",
    "import java.util.*; \n",
    "\n",
    "Stream.of(\"Cats\", \"are\", \"the\", \"best\").anyMatch(s -> s.startsWith(\"c\"));"
   ]
  },
  {
   "cell_type": "code",
   "execution_count": 22,
   "id": "a939aeebf6c8a0fc",
   "metadata": {
    "ExecuteTime": {
     "end_time": "2024-01-03T19:21:16.450673Z",
     "start_time": "2024-01-03T19:21:16.405406Z"
    },
    "collapsed": false,
    "jupyter": {
     "outputs_hidden": false
    }
   },
   "outputs": [
    {
     "data": {
      "text/plain": [
       "Optional[Cats]"
      ]
     },
     "execution_count": 22,
     "metadata": {},
     "output_type": "execute_result"
    }
   ],
   "source": [
    "import java.util.stream.*;\n",
    "import java.util.*; \n",
    "\n",
    "Stream.of(\"Cats\", \"are\", \"the\", \"best\").filter(s -> s.startsWith(\"C\")).findFirst();"
   ]
  },
  {
   "cell_type": "markdown",
   "id": "f5312d22767fc2f9",
   "metadata": {
    "collapsed": false,
    "jupyter": {
     "outputs_hidden": false
    }
   },
   "source": [
    "## Optional\n",
    "\n",
    "The previous example leads us to the `Optional` type. Optional is a container object that may or may not contain a non-null value. Optional is not a functional interface, instead it is a final class with some useful methods. Let's look at some examples:"
   ]
  },
  {
   "cell_type": "code",
   "execution_count": 24,
   "id": "e5a02c691d068dcb",
   "metadata": {
    "ExecuteTime": {
     "end_time": "2024-01-03T19:22:25.422409Z",
     "start_time": "2024-01-03T19:22:25.331045Z"
    },
    "collapsed": false,
    "jupyter": {
     "outputs_hidden": false
    }
   },
   "outputs": [
    {
     "name": "stdout",
     "output_type": "stream",
     "text": [
      "Hello World\n",
      "true\n",
      "false\n"
     ]
    }
   ],
   "source": [
    "import java.util.*;\n",
    "\n",
    "\n",
    "Optional<String> optional = Optional.of(\"Hello World\"); \n",
    "System.out.println(optional.get());\n",
    "System.out.println(optional.isPresent());\n",
    "System.out.println(optional.isEmpty());"
   ]
  },
  {
   "cell_type": "code",
   "execution_count": 25,
   "id": "648160c7310d131b",
   "metadata": {
    "ExecuteTime": {
     "end_time": "2024-01-03T19:22:48.095453Z",
     "start_time": "2024-01-03T19:22:48.057330Z"
    },
    "collapsed": false,
    "jupyter": {
     "outputs_hidden": false
    }
   },
   "outputs": [
    {
     "name": "stdout",
     "output_type": "stream",
     "text": [
      "false\n",
      "true\n"
     ]
    }
   ],
   "source": [
    "import java.util.*;\n",
    "\n",
    "Optional<String> optional = Optional.empty();\n",
    "System.out.println(optional.isPresent());\n",
    "System.out.println(optional.isEmpty());"
   ]
  },
  {
   "cell_type": "markdown",
   "id": "587fbcc48007dafc",
   "metadata": {
    "collapsed": false,
    "jupyter": {
     "outputs_hidden": false
    }
   },
   "source": [
    "Optionals can be used to avoid null pointer exceptions. So instead of writing:\n",
    "\n",
    "```java\n",
    "public Optional<String> name(String optionalName) {\n",
    "  return null;\n",
    "}\n",
    "\n",
    "//you can write\n",
    "public Optional<String> name() {\n",
    "  return Optional.empty();\n",
    "}\n",
    "```\n",
    "\n",
    "Option\n",
    "\n",
    "For the caller it is now clear the method `name()` can return an empty value and the caller can decide what to do with it.\n"
   ]
  },
  {
   "cell_type": "code",
   "execution_count": 38,
   "id": "3a25921a0ea95ddb",
   "metadata": {
    "ExecuteTime": {
     "end_time": "2024-01-03T19:30:43.904591Z",
     "start_time": "2024-01-03T19:30:43.848639Z"
    },
    "collapsed": false,
    "jupyter": {
     "outputs_hidden": false
    }
   },
   "outputs": [
    {
     "name": "stdout",
     "output_type": "stream",
     "text": [
      "Hello World\n",
      "HELLO WORLD\n"
     ]
    }
   ],
   "source": [
    "import java.util.*;\n",
    "\n",
    "Optional<String> optional = Optional.of(\"Hello World\");\n",
    "optional.ifPresent(s -> System.out.println(s));\n",
    "Optional<String> s = optional.map(s -> s.toUpperCase()); \n",
    "s;\n",
    "s.ifPresent(s -> System.out.println(s));"
   ]
  },
  {
   "cell_type": "markdown",
   "id": "59420e483384e2be",
   "metadata": {
    "collapsed": false,
    "jupyter": {
     "outputs_hidden": false
    }
   },
   "source": [
    "## Optional flatMap\n",
    "\n",
    "Optional also has a `flatMap` method which is similar to the `flatMap` method on streams. Let's look at some examples:"
   ]
  },
  {
   "cell_type": "code",
   "execution_count": 43,
   "id": "4898aeef5ae416e1",
   "metadata": {
    "ExecuteTime": {
     "end_time": "2024-01-03T19:35:48.865195Z",
     "start_time": "2024-01-03T19:35:48.791305Z"
    },
    "collapsed": false,
    "jupyter": {
     "outputs_hidden": false
    }
   },
   "outputs": [
    {
     "name": "stdout",
     "output_type": "stream",
     "text": [
      "Optional[Optional[Amsterdam]]\n"
     ]
    },
    {
     "data": {
      "text/plain": [
       "Amsterdam"
      ]
     },
     "execution_count": 43,
     "metadata": {},
     "output_type": "execute_result"
    }
   ],
   "source": [
    "import java.util.*;\n",
    "\n",
    "record Person(String name, Optional<Address> address) {}\n",
    "record Address(String street, Optional<String> city) {}\n",
    "\n",
    "Person person = new Person(\"John\", Optional.of(new Address(\"Prinsengracht 23\", Optional.of(\"Amsterdam\"))));\n",
    "System.out.println(person.address().map(a -> a.city()));\n",
    "\n",
    "//With flatMap\n",
    "person.address().flatMap(a -> a.city()).orElse(\"No city\");"
   ]
  },
  {
   "cell_type": "markdown",
   "id": "bbc282d7f1b54add",
   "metadata": {
    "collapsed": false,
    "jupyter": {
     "outputs_hidden": false
    }
   },
   "source": [
    "### Optional with streams\n",
    "\n",
    "One of the most common use cases for Optional is to use it with streams. Let's look at some examples:"
   ]
  },
  {
   "cell_type": "code",
   "execution_count": null,
   "id": "89ddb97e9464d130",
   "metadata": {
    "collapsed": false,
    "jupyter": {
     "outputs_hidden": false
    }
   },
   "outputs": [],
   "source": [
    "import java.util.*;\n",
    "\n",
    "List<String> words = List.of(\"Cats\", \"are\", \"the\", \"best\");\n",
    "words."
   ]
  },
  {
   "cell_type": "markdown",
   "id": "85db6349f08248a4",
   "metadata": {
    "collapsed": false,
    "jupyter": {
     "outputs_hidden": false
    }
   },
   "source": []
  },
  {
   "cell_type": "code",
   "execution_count": 2,
   "id": "c185d5b13594d6de",
   "metadata": {
    "ExecuteTime": {
     "end_time": "2023-12-18T09:42:50.078154Z",
     "start_time": "2023-12-18T09:42:49.796082Z"
    },
    "collapsed": false,
    "jupyter": {
     "outputs_hidden": false
    }
   },
   "outputs": [
    {
     "name": "stdout",
     "output_type": "stream",
     "text": [
      "bool = true\n",
      "b = -15\n",
      "i = 1\n",
      "l = 1\n",
      "f = 1.0\n",
      "d = 3.1416\n",
      "c = Ω\n",
      "s = 1\n",
      "str = Hello, world! 😊\n"
     ]
    }
   ],
   "source": [
    "boolean bool = true;              // boolean is a primitive type, range is true or false\n",
    "byte b = -15;                     // byte is a primitive type, range is -128 to 127\n",
    "short s = 1;                      // short is a primitive type, range is -32768 to 32767\n",
    "int i = 1;                        // int is a primitive type, range is\n",
    "long l = 1L;                      // long is a primitive type, min value is -2^63, max value is 2^63-1\n",
    "float f = 1.0f;                   // float is a 32-bit floating-point number, min value is 1.4e-045, max value is 3.4e+038\n",
    "double pi = 3.1416;               // double is 64-bit floating-point number, min value is 4.9e-324, max value is 1.8e+308\n",
    "char letterOmega = 'Ω';           // 16-bit Unicode character\n",
    "String str = \"Hello, world! 😊\";\n",
    "int million = 1_000_000;\n",
    "\n",
    "System.out.println(\"bool = \" + bool);\n",
    "System.out.println(\"b = \" + b);\n",
    "System.out.println(\"i = \" + i);\n",
    "System.out.println(\"l = \" + l);\n",
    "System.out.println(\"f = \" + f);\n",
    "System.out.println(\"d = \" + pi);\n",
    "System.out.println(\"c = \" + letterOmega);\n",
    "System.out.println(\"s = \" + s);\n",
    "System.out.println(\"str = \" + str);"
   ]
  },
  {
   "cell_type": "markdown",
   "id": "9a67fb6a-d95d-4f53-968a-3ae0afd4c281",
   "metadata": {},
   "source": [
    "### Conversion\n",
    "\n",
    "We can also convert types from one to another like:"
   ]
  },
  {
   "cell_type": "markdown",
   "id": "5e2f077e-3a01-42d4-a666-6065131bddfe",
   "metadata": {},
   "source": [
    "<img src=\"https://static.javatpoint.com/core/images/type-casting-in-java.png\" />"
   ]
  },
  {
   "cell_type": "code",
   "execution_count": 3,
   "id": "5a6d9226-5a63-4b38-a34b-e08ef728557c",
   "metadata": {
    "ExecuteTime": {
     "end_time": "2023-12-18T09:42:53.915777Z",
     "start_time": "2023-12-18T09:42:53.861530Z"
    }
   },
   "outputs": [
    {
     "name": "stdout",
     "output_type": "stream",
     "text": [
      "d = 7\n"
     ]
    }
   ],
   "source": [
    "byte a = 2;\n",
    "byte b = 3;\n",
    "byte c = 1;\n",
    "\n",
    "int d = a * b + c;\n",
    "System.out.println(\"d = \" + d);\n",
    "\n",
    "long l = 30L;\n",
    "//int t = l; //Not without an explicit cast"
   ]
  },
  {
   "cell_type": "code",
   "execution_count": 4,
   "id": "d51e461d-fe17-4db7-b821-44159e1f2d34",
   "metadata": {
    "ExecuteTime": {
     "end_time": "2023-12-18T09:42:55.952512Z",
     "start_time": "2023-12-18T09:42:55.890770Z"
    }
   },
   "outputs": [
    {
     "data": {
      "text/plain": [
       "31.415926"
      ]
     },
     "execution_count": 4,
     "metadata": {},
     "output_type": "execute_result"
    }
   ],
   "source": [
    "float f = 1.2f;\n",
    "double __ = 10 * 2.5;\n",
    "f = (float) (Math.PI * 10);\n",
    "\n",
    "f;"
   ]
  },
  {
   "cell_type": "markdown",
   "id": "0790ca40-9f4c-46ca-bca9-5e116d82af1b",
   "metadata": {},
   "source": [
    "### Java Types \n",
    "\n",
    "These are the reference types a programmer can define and invoke methods on. These objects are always created on the heap. Let's look at some examples:\n",
    "\n",
    "#### Arrays"
   ]
  },
  {
   "cell_type": "code",
   "execution_count": 4,
   "id": "1874f96e-0903-4d27-8351-539177d88889",
   "metadata": {
    "ExecuteTime": {
     "end_time": "2023-12-18T09:42:59.291015Z",
     "start_time": "2023-12-18T09:42:59.262246Z"
    }
   },
   "outputs": [
    {
     "name": "stdout",
     "output_type": "stream",
     "text": [
      "2\n",
      "1 2 3 \n",
      "4 5 6 \n"
     ]
    }
   ],
   "source": [
    "int array[][] = {{1, 2, 3}, {4, 5, 6}};\n",
    "System.out.println(array.length);\n",
    "for (int i = 0; i < 2; i++) {\n",
    "  for (int j = 0; j < 3; j++) {\n",
    "    System.out.print(array[i][j] + \" \");\n",
    "  }\n",
    "  System.out.println();\n",
    "}\n",
    "\n"
   ]
  },
  {
   "cell_type": "code",
   "execution_count": null,
   "id": "05a4c1db-ebc9-452d-8d36-4e4907025232",
   "metadata": {},
   "outputs": [],
   "source": []
  },
  {
   "cell_type": "markdown",
   "id": "79c35652-4c09-4bcd-96d8-f82edc5c5ac3",
   "metadata": {},
   "source": [
    "#### Strings\n",
    "\n",
    "In Java a String is kind of a special type as you can define it as follows:"
   ]
  },
  {
   "cell_type": "code",
   "execution_count": 8,
   "id": "20550a1b-0e9f-446e-8b54-d08067bcf022",
   "metadata": {
    "is_executing": true
   },
   "outputs": [
    {
     "data": {
      "text/plain": [
       "Hello World!\n",
       "From the Java training\n"
      ]
     },
     "execution_count": 8,
     "metadata": {},
     "output_type": "execute_result"
    }
   ],
   "source": [
    "String hello = \"Hello World!\";\n",
    "\n",
    "String longHello = \"\"\"\n",
    "    Hello World!\n",
    "    From the Java training\n",
    "    \"\"\";\n",
    "hello;\n",
    "longHello;"
   ]
  },
  {
   "cell_type": "markdown",
   "id": "512175b5-9567-4f61-b150-2872e0755912",
   "metadata": {},
   "source": [
    "#### Null \n",
    "\n",
    "Null is a literal, to which you point if there is no value. \n",
    "\n"
   ]
  },
  {
   "cell_type": "code",
   "execution_count": 10,
   "id": "9c124e6c-d025-4614-b39c-a4ca9a2c3dcb",
   "metadata": {},
   "outputs": [
    {
     "name": "stdout",
     "output_type": "stream",
     "text": [
      "s = nullHello\n"
     ]
    },
    {
     "data": {
      "text/plain": [
       "null"
      ]
     },
     "execution_count": 10,
     "metadata": {},
     "output_type": "execute_result"
    }
   ],
   "source": [
    "String s = null;\n",
    "//System.out.println(s.length()); //NullPointerException\n",
    "\n",
    "//What will this print?\n",
    "s = s + \"Hello\";\n",
    "System.out.println(\"s = \" + s);\n",
    "\n",
    "String.valueOf((Object)null);"
   ]
  },
  {
   "cell_type": "markdown",
   "id": "6b693836-771c-48fd-aa71-da70b99618e7",
   "metadata": {},
   "source": [
    "#### Simple type\n",
    "\n",
    "Let's define our own type"
   ]
  },
  {
   "cell_type": "code",
   "execution_count": 11,
   "id": "6572787b-c843-4701-a95a-783045df5c27",
   "metadata": {},
   "outputs": [
    {
     "data": {
      "text/plain": [
       "John"
      ]
     },
     "execution_count": 11,
     "metadata": {},
     "output_type": "execute_result"
    }
   ],
   "source": [
    "class Person { \n",
    "    String name = \"John\";\n",
    "    int age = 32;\n",
    "}\n",
    "\n",
    "Person person = new Person();\n",
    "person.name;"
   ]
  },
  {
   "cell_type": "markdown",
   "id": "bdc96b57-b478-4c71-81c6-70d3327bbe39",
   "metadata": {},
   "source": [
    "Every type has implictly `java.lang.Object` as parent."
   ]
  },
  {
   "cell_type": "code",
   "execution_count": 1,
   "id": "8f447644-3302-4fac-a59e-44d5b94c31c0",
   "metadata": {},
   "outputs": [
    {
     "data": {
      "text/plain": [
       "true"
      ]
     },
     "execution_count": 1,
     "metadata": {},
     "output_type": "execute_result"
    }
   ],
   "source": [
    "String str = \"Test\";\n",
    "\n",
    "str instanceof Object"
   ]
  },
  {
   "cell_type": "code",
   "execution_count": null,
   "id": "829ee569-6b39-41a2-bbaa-7db03598f2fd",
   "metadata": {},
   "outputs": [],
   "source": [
    "person instanceof Person"
   ]
  },
  {
   "cell_type": "code",
   "execution_count": null,
   "id": "2f50686b-effb-4c12-bc1f-ab6f606acc59",
   "metadata": {},
   "outputs": [],
   "source": [
    "person instanceof Object"
   ]
  },
  {
   "cell_type": "markdown",
   "id": "8b897519-b214-4be9-be37-d19554de1916",
   "metadata": {},
   "source": [
    "#### Wrapper classes"
   ]
  },
  {
   "cell_type": "markdown",
   "id": "b3ecf974-0191-43a1-8aa6-629b02b5b6d2",
   "metadata": {},
   "source": [
    "Each Java primitive type has a wrapper class and Java support autoboxing and unboxing between the two"
   ]
  },
  {
   "cell_type": "code",
   "execution_count": 15,
   "id": "a284d339-16cf-4a34-9ac4-53496e738d3c",
   "metadata": {},
   "outputs": [
    {
     "data": {
      "text/plain": [
       "true"
      ]
     },
     "execution_count": 15,
     "metadata": {},
     "output_type": "execute_result"
    }
   ],
   "source": [
    "boolean primitive = true;\n",
    "\n",
    "Boolean wrapper = primitive;\n",
    "wrapper;"
   ]
  },
  {
   "cell_type": "code",
   "execution_count": 16,
   "id": "a9ca6bed-4857-4a68-8551-77378d73411f",
   "metadata": {},
   "outputs": [
    {
     "data": {
      "text/plain": [
       "true"
      ]
     },
     "execution_count": 16,
     "metadata": {},
     "output_type": "execute_result"
    }
   ],
   "source": [
    "Boolean wrapper = true;\n",
    "boolean primitive = wrapper;\n",
    "\n",
    "primitive;"
   ]
  },
  {
   "cell_type": "markdown",
   "id": "7eab4c0a-5713-468f-b23e-db5696b9909c",
   "metadata": {},
   "source": [
    "Primitives don't have concept of `null` so"
   ]
  },
  {
   "cell_type": "code",
   "execution_count": 18,
   "id": "20ad2076-dd9b-48de-b57a-f04521f3e430",
   "metadata": {},
   "outputs": [
    {
     "ename": "EvalException",
     "evalue": "Cannot invoke \"java.lang.Boolean.booleanValue()\" because \"REPL.$JShell$45C.wrapper\" is null",
     "output_type": "error",
     "traceback": [
      "\u001b[1m\u001b[31m---------------------------------------------------------------------------\u001b[0m",
      "\u001b[1m\u001b[31mjava.lang.NullPointerException: Cannot invoke \"java.lang.Boolean.booleanValue()\" because \"REPL.$JShell$45C.wrapper\" is null\u001b[0m",
      "\u001b[1m\u001b[31m\tat .(#50:1)\u001b[0m"
     ]
    }
   ],
   "source": [
    "Boolean wrapper = null;\n",
    "boolean primitive = wrapper; //crashes at runtime"
   ]
  },
  {
   "cell_type": "markdown",
   "id": "0a9c81db-bc05-4f0e-a8d4-170d3bbd57b0",
   "metadata": {},
   "source": [
    "# Operators\n",
    "\n",
    "On primitive types Java defines operators. On types we can define our own methods.\n",
    "\n",
    "https://www.startertutorials.com/corejava/wp-content/uploads/2014/10/Operators.jpg"
   ]
  },
  {
   "cell_type": "markdown",
   "id": "744e4dfa-73d6-47c3-b52f-adfb6cb961bb",
   "metadata": {},
   "source": [
    "<img src=\"https://www.startertutorials.com/corejava/wp-content/uploads/2014/10/Operators.jpg\"/>"
   ]
  },
  {
   "cell_type": "code",
   "execution_count": null,
   "id": "a013ab40-72c3-4b76-b45b-f824b5beb2c9",
   "metadata": {},
   "outputs": [],
   "source": [
    "int i = 10;\n",
    "\n",
    "System.out.println(\"i_1 = \" + i++);\n",
    "System.out.println(\"i_1 = \" + i);\n",
    "\n",
    "System.out.println(\"i_2 = \" + ++i);\n",
    "System.out.println(\"i_2 = \" + i);\n",
    "\n",
    "boolean a = true;\n",
    "boolean b = false;\n",
    "\n",
    "System.out.println(a && b);\n",
    "System.out.println(a || b);\n",
    "System.out.println(!a);\n",
    "System.out.println(a ^ !b);\n",
    "System.out.println(a ^ b);\n",
    "\n",
    "String a = \"a\";\n",
    "String b = \"b\";\n",
    "a + b"
   ]
  },
  {
   "cell_type": "markdown",
   "id": "834d42ef-34f7-4bb1-abac-eea8789e4552",
   "metadata": {},
   "source": [
    "## Control flow\n",
    "\n",
    "In this section we will look some of language control statements."
   ]
  },
  {
   "cell_type": "markdown",
   "id": "e3ea4699-d1e4-45db-b905-538fe08c5cd4",
   "metadata": {},
   "source": [
    "### If statement"
   ]
  },
  {
   "cell_type": "code",
   "execution_count": null,
   "id": "fef3dbba-05cc-4935-8431-2f817484ac20",
   "metadata": {},
   "outputs": [],
   "source": [
    " String str = \"Hello World\";\n",
    "\n",
    "if (str.startsWith(\"hello\")) {\n",
    "  System.out.println(\"Starts with hello\");\n",
    "} else if (str.startsWith(\"Hello\")) {\n",
    "  System.out.println(\"Starts with Hello\");\n",
    "} else {\n",
    "  System.out.println(\"No match found\");\n",
    "}"
   ]
  },
  {
   "cell_type": "markdown",
   "id": "edd117f2-ce45-4e84-a39b-87f639a7e163",
   "metadata": {},
   "source": [
    "<img src=\"https://scaler.com/topics/images/nesting-ternary-operator.webp\"/>"
   ]
  },
  {
   "cell_type": "code",
   "execution_count": null,
   "id": "1a7da02b-552b-4592-9125-c991e4cf42e0",
   "metadata": {},
   "outputs": [],
   "source": [
    "String str = \"Hello World\";\n",
    "String result = str.startsWith(\"hello\") ? \"Starts with hello\" : \"No match found\";\n",
    "System.out.println(result);"
   ]
  },
  {
   "cell_type": "markdown",
   "id": "007bf7a6-ca7a-451d-9c54-9cde69f31170",
   "metadata": {},
   "source": [
    "<img src=\"https://static.javatpoint.com/images/java-loops.png\"/>"
   ]
  },
  {
   "cell_type": "markdown",
   "id": "6e6ad6a4-6730-4656-9dfc-cec853b998ba",
   "metadata": {},
   "source": [
    "### For loops"
   ]
  },
  {
   "cell_type": "code",
   "execution_count": null,
   "id": "ddeb8088-3ae3-4646-bafd-2ca622c3fbd7",
   "metadata": {},
   "outputs": [],
   "source": [
    "String[] words = {\"Hello\", \"World\"};\n",
    "\n",
    "for (int i = 0; i < words.length; i++) {\n",
    "  System.out.println(\"#\" + i  + \" is \" + words[i]);\n",
    "}"
   ]
  },
  {
   "cell_type": "code",
   "execution_count": null,
   "id": "fbd66ce5-51bc-40f3-8c79-6c31b9e09895",
   "metadata": {},
   "outputs": [],
   "source": [
    "String[] words = {\"Hello\", \"World\"};\n",
    "\n",
    "//for each construct \n",
    "for (String word : words) {\n",
    "  System.out.println(word);\n",
    "}"
   ]
  },
  {
   "cell_type": "markdown",
   "id": "225e2bff-aaed-45ec-9d88-3f7d44916ff1",
   "metadata": {},
   "source": [
    "### While loops"
   ]
  },
  {
   "cell_type": "code",
   "execution_count": 7,
   "id": "13955bc5-2b44-44b7-9895-fe78152197a7",
   "metadata": {
    "ExecuteTime": {
     "end_time": "2023-12-18T09:44:35.099456Z",
     "start_time": "2023-12-18T09:44:35.068858Z"
    }
   },
   "outputs": [
    {
     "name": "stdout",
     "output_type": "stream",
     "text": [
      "#0 is Hello\n",
      "#1 is World\n"
     ]
    }
   ],
   "source": [
    "String[] words = {\"Hello\", \"World\"};\n",
    "\n",
    "int i = 0;\n",
    "while (i < words.length) {\n",
    "  System.out.println(\"#\" + i  + \" is \" + words[i]);\n",
    "  i = i + 1;\n",
    "}"
   ]
  },
  {
   "cell_type": "code",
   "execution_count": 8,
   "id": "eb846273-7b45-4971-a9eb-da0e4f268473",
   "metadata": {
    "ExecuteTime": {
     "end_time": "2023-12-18T09:44:43.834422Z",
     "start_time": "2023-12-18T09:44:43.807751Z"
    }
   },
   "outputs": [
    {
     "name": "stdout",
     "output_type": "stream",
     "text": [
      "#0 is Hello\n",
      "#1 is World\n"
     ]
    }
   ],
   "source": [
    "String[] words = {\"Hello\", \"World\"};\n",
    "\n",
    "//for loop as while --> not recommended\n",
    "int k = 0;\n",
    "for (; k < words.length; k++ ) {\n",
    "  System.out.println(\"#\" + k + \" is \" + words[k]);\n",
    "}\n"
   ]
  },
  {
   "cell_type": "code",
   "execution_count": 9,
   "id": "bd718b4c-0540-4333-85e1-9d0918b6f4ea",
   "metadata": {
    "ExecuteTime": {
     "end_time": "2023-12-18T09:44:55.496181Z",
     "start_time": "2023-12-18T09:44:55.460786Z"
    }
   },
   "outputs": [
    {
     "name": "stdout",
     "output_type": "stream",
     "text": [
      "#0 is Hello\n",
      "#1 is World\n"
     ]
    }
   ],
   "source": [
    "//do while loop\n",
    "String[] words = {\"Hello\", \"World\"};\n",
    "\n",
    "int l = 0;\n",
    "do {\n",
    "  System.out.println(\"#\" + l + \" is \" + words[l]);\n",
    "  l++;\n",
    "} while (l < words.length);"
   ]
  },
  {
   "cell_type": "markdown",
   "id": "4721831d-303f-47ac-9df6-e7eaa71cd000",
   "metadata": {},
   "source": [
    "### Switch statements"
   ]
  },
  {
   "cell_type": "code",
   "execution_count": 10,
   "id": "aaadea58-10f7-482c-8e55-2a90a4df6811",
   "metadata": {
    "ExecuteTime": {
     "end_time": "2023-12-18T09:45:36.517534Z",
     "start_time": "2023-12-18T09:45:36.483985Z"
    }
   },
   "outputs": [
    {
     "name": "stdout",
     "output_type": "stream",
     "text": [
      "Hello World\n"
     ]
    }
   ],
   "source": [
    "//Traditional switch statement \n",
    "\n",
    "String str = \"Hello World\";\n",
    "\n",
    "switch (str) {\n",
    "  case \"Hello World\":\n",
    "    System.out.println(\"Hello World\");\n",
    "    break;\n",
    " case \"Hello\":\n",
    "    System.out.println(\"Hello\");\n",
    "    break;\n",
    " default:\n",
    "    System.out.println(\"No match found\");\n",
    "}"
   ]
  },
  {
   "cell_type": "code",
   "execution_count": null,
   "id": "177becf0-9e34-4f8d-b167-17bc1c8c5c65",
   "metadata": {
    "is_executing": true
   },
   "outputs": [],
   "source": [
    "//more power\n",
    "String str = \"Hello World\";\n",
    "\n",
    "System.out.println(switch (str) {\n",
    "  case \"Hello World\" -> \"Hello World\";\n",
    "  case \"Hello\" -> \"Hello\";\n",
    "  default -> \"No match found\";     //default is mandatory\n",
    "});"
   ]
  },
  {
   "cell_type": "code",
   "execution_count": null,
   "id": "43bba234-7ed1-42c6-b1de-eae4bbfc8fe5",
   "metadata": {
    "is_executing": true
   },
   "outputs": [],
   "source": [
    "//more power\n",
    "//Object str = \"Hello World\";\n",
    "Object str = 1;\n",
    "\n",
    "System.out.println(switch (str) {\n",
    "  case String s -> s;\n",
    "  case Integer i -> i;\n",
    "  default -> \"No match found\";     //default is mandatory\n",
    "});"
   ]
  },
  {
   "cell_type": "code",
   "execution_count": 2,
   "id": "ab4908d9-6d55-4cd1-8cc0-4fb34b4c718a",
   "metadata": {
    "is_executing": true
   },
   "outputs": [
    {
     "ename": "CompilationException",
     "evalue": "",
     "output_type": "error",
     "traceback": [
      "\u001b[1m\u001b[30m|   \u001b[1m\u001b[30m  case \u001b[0m\u001b[1m\u001b[30m\u001b[41m\u001b[0m\u001b[1m\u001b[30mString s when s.isBlank() -> \"Blank\";\u001b[0m",
      "\u001b[1m\u001b[31mpatterns in switch statements are a preview feature and are disabled by default.\u001b[0m",
      "\u001b[1m\u001b[31m  (use --enable-preview to enable patterns in switch statements)\u001b[0m",
      "",
      "\u001b[1m\u001b[30m|   \u001b[1m\u001b[30m  case String s\u001b[0m\u001b[1m\u001b[30m\u001b[41m\u001b[0m\u001b[1m\u001b[30m when s.isBlank() -> \"Blank\";\u001b[0m",
      "\u001b[1m\u001b[31m: or -> expected\u001b[0m",
      "",
      "\u001b[1m\u001b[30m|   \u001b[1m\u001b[30m  case String s when s\u001b[0m\u001b[1m\u001b[30m\u001b[41m\u001b[0m\u001b[1m\u001b[30m.isBlank() -> \"Blank\";\u001b[0m",
      "\u001b[1m\u001b[31m';' expected\u001b[0m",
      "",
      "\u001b[1m\u001b[30m|   \u001b[1m\u001b[30m  case String s when s.isBlank()\u001b[0m\u001b[1m\u001b[30m\u001b[41m\u001b[0m\u001b[1m\u001b[30m -> \"Blank\";\u001b[0m",
      "\u001b[1m\u001b[31m';' expected\u001b[0m",
      ""
     ]
    }
   ],
   "source": [
    "Object o = null;\n",
    "//Object o = \"Hello World\";\n",
    "//Object o = \"\";\n",
    "//String o  = \"H\"\n",
    "\n",
    "System.out.println(switch (o) {\n",
    "  case null -> \"Null\";\n",
    "  case String s when s.isBlank() -> \"Blank\";\n",
    "  case String s -> s;\n",
    "  case Integer i -> i;\n",
    "  default -> \"No match found\";     //default is mandatory\n",
    "});"
   ]
  },
  {
   "cell_type": "code",
   "execution_count": null,
   "id": "5a39d1b7-a48f-401a-b6d2-b7c125fe3c36",
   "metadata": {
    "is_executing": true
   },
   "outputs": [],
   "source": [
    "// or write it with if statements like this\n",
    "\n",
    "if (o == null) {\n",
    "  System.out.println(\"Null\");\n",
    "} else if (o instanceof String s && s.isBlank()) {\n",
    "  System.out.println(\"Blank\");\n",
    "} else if (o instanceof String s) {\n",
    "  System.out.println(s);\n",
    "} else if (o instanceof Integer i) {\n",
    "  System.out.println(i);\n",
    "} else {\n",
    "  System.out.println(\"No match found\");\n",
    "}"
   ]
  },
  {
   "cell_type": "markdown",
   "id": "a9501eea-991f-45eb-b044-d84fc7f05f8a",
   "metadata": {},
   "source": [
    "### Continue / break"
   ]
  },
  {
   "cell_type": "markdown",
   "id": "3dc30e8f-f123-4ef5-9649-08139a83cd74",
   "metadata": {},
   "source": [
    "<img src=\"https://static.javatpoint.com/core/images/branching-statements-in-java.png\"/>"
   ]
  },
  {
   "cell_type": "code",
   "execution_count": null,
   "id": "3b8ead1e-c8b2-4f06-a0be-e1e80e110109",
   "metadata": {
    "is_executing": true
   },
   "outputs": [],
   "source": [
    "String[] words = {\"Hello\", \"World\"};\n",
    "for (int i = 0; i < words.length; i++) {\n",
    "  if (i == 0) {\n",
    "    System.out.println(\"Position %d contains word %s\".formatted(i, words[i]));\n",
    "    break;\n",
    "  }\n",
    "}"
   ]
  },
  {
   "cell_type": "code",
   "execution_count": null,
   "id": "3ed347e9-0df3-4e7a-a016-4cf54fa0757c",
   "metadata": {
    "is_executing": true
   },
   "outputs": [],
   "source": [
    "outerMost:\n",
    "  for (int j = 0; j < 5; j++) {\n",
    "\n",
    "  innerMost:\n",
    "    for (int k = 1; k < 3; k++) {\n",
    "      System.out.println(\"j = \" + j + \" and k = \" + k);\n",
    "\n",
    "      // Terminating the outerMost loop\n",
    "      if (j == 3)\n",
    "        break outerMost;\n",
    "      }\n",
    "    }"
   ]
  },
  {
   "cell_type": "markdown",
   "id": "6179c307-65dd-4184-aa7b-eccdbe3ac897",
   "metadata": {},
   "source": [
    "## Logical operators"
   ]
  },
  {
   "cell_type": "code",
   "execution_count": null,
   "id": "5f354271-29aa-47c8-a34e-be00db49969a",
   "metadata": {
    "is_executing": true
   },
   "outputs": [],
   "source": [
    "int i = 10;\n",
    "\n",
    "System.out.println(\"i_1 = \" + i++);\n",
    "System.out.println(\"i_1 = \" + i);\n"
   ]
  },
  {
   "cell_type": "code",
   "execution_count": null,
   "id": "caf3d629-1c27-4e0c-a0b5-eed8587d2a39",
   "metadata": {
    "is_executing": true
   },
   "outputs": [],
   "source": [
    "int j = 10;\n",
    "\n",
    "System.out.println(\"i_2 = \" + ++j);\n",
    "System.out.println(\"i_2 = \" + j);"
   ]
  },
  {
   "cell_type": "code",
   "execution_count": 3,
   "id": "3ae43283-f86a-4560-9431-aec2bd8ed097",
   "metadata": {
    "is_executing": true
   },
   "outputs": [
    {
     "name": "stdout",
     "output_type": "stream",
     "text": [
      "false\n",
      "true\n",
      "false\n",
      "false\n",
      "true\n"
     ]
    }
   ],
   "source": [
    "boolean a = true;\n",
    "boolean b = false;\n",
    "\n",
    "System.out.println(a && b);\n",
    "System.out.println(a || b);\n",
    "System.out.println(!a);\n",
    "System.out.println(a ^ !b);\n",
    "System.out.println(a ^ b);"
   ]
  },
  {
   "cell_type": "markdown",
   "id": "75ab3b2b-14fd-4f9f-b78c-2f751823fb78",
   "metadata": {
    "is_executing": true
   },
   "source": [
    "# Assignment 1"
   ]
  },
  {
   "cell_type": "markdown",
   "id": "7ed180b6-414b-4cb9-9a4c-6ee6cae30127",
   "metadata": {
    "is_executing": true
   },
   "source": [
    "- Sum\n",
    "- Triangle\n",
    "- Palindrome"
   ]
  }
 ],
 "metadata": {
  "kernelspec": {
   "display_name": "Java",
   "language": "java",
   "name": "java"
  },
  "language_info": {
   "codemirror_mode": "java",
   "file_extension": ".jshell",
   "mimetype": "text/x-java-source",
   "name": "Java",
   "pygments_lexer": "java",
   "version": "17.0.7+7"
  }
 },
 "nbformat": 4,
 "nbformat_minor": 5
}
