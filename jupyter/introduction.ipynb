{
 "cells": [
  {
   "cell_type": "markdown",
   "id": "eccea422-35a9-448b-8feb-4db062e99f90",
   "metadata": {},
   "source": [
    "# Introduction\n",
    "\n",
    "## Our first Java program\n",
    "\n",
    "Use https://github.com/SpencerPark/IJava to run Java in Jupyter.\n",
    "\n"
   ]
  },
  {
   "cell_type": "code",
   "execution_count": 1,
   "id": "a71627e6-eee3-4620-be03-48cf3bcb7fb5",
   "metadata": {
    "ExecuteTime": {
     "end_time": "2024-01-09T08:07:22.570611Z",
     "start_time": "2024-01-09T08:07:22.282194Z"
    }
   },
   "outputs": [
    {
     "name": "stdout",
     "output_type": "stream",
     "text": [
      "Hello World!\n"
     ]
    }
   ],
   "source": [
    "class Test {\n",
    "    public static void main(String[] args) {\n",
    "        System.out.println(\"Hello World!\");\n",
    "    }\n",
    "}\n",
    "\n",
    "Test.main(null); // Necessary to run it here"
   ]
  },
  {
   "cell_type": "markdown",
   "id": "e1d2577a-0881-47a3-bd9a-fc52eaa890f8",
   "metadata": {},
   "source": [
    "## Types\n",
    "\n",
    "In Java we have primitive types and non-primitive type. Primitive typs are predefined (already defined) in Java whereas non-primitive types are defined by the programmer. There is one exception which is String.\n",
    "\n",
    "### Primitive types\n",
    "\n",
    "We have primitive types and non-primitive types like String, Class etc\n",
    "Let's first have a look at primitive types.\n"
   ]
  },
  {
   "cell_type": "markdown",
   "id": "2900f7b8-8a50-4ed5-8dfc-11dd4c480cb2",
   "metadata": {},
   "source": [
    "<img src=\"https://cdn.ttgtmedia.com/rms/onlineImages/server_side-java_primitive_types-f.png\" />"
   ]
  },
  {
   "cell_type": "code",
   "execution_count": 2,
   "id": "c185d5b13594d6de",
   "metadata": {
    "ExecuteTime": {
     "end_time": "2023-12-18T09:42:50.078154Z",
     "start_time": "2023-12-18T09:42:49.796082Z"
    },
    "collapsed": false
   },
   "outputs": [
    {
     "name": "stdout",
     "output_type": "stream",
     "text": [
      "bool = true\n",
      "b = -15\n",
      "i = 1\n",
      "l = 1\n",
      "f = 1.0\n",
      "d = 3.1416\n",
      "c = Ω\n",
      "s = 1\n",
      "str = Hello, world! 😊\n"
     ]
    }
   ],
   "source": [
    "boolean bool = true;              // boolean is a primitive type, range is true or false\n",
    "byte b = -15;                     // byte is a primitive type, range is -128 to 127\n",
    "short s = 1;                      // short is a primitive type, range is -32768 to 32767\n",
    "int i = 1;                        // int is a primitive type, range is\n",
    "long l = 1L;                      // long is a primitive type, min value is -2^63, max value is 2^63-1\n",
    "float f = 1.0f;                   // float is a 32-bit floating-point number, min value is 1.4e-045, max value is 3.4e+038\n",
    "double pi = 3.1416;               // double is 64-bit floating-point number, min value is 4.9e-324, max value is 1.8e+308\n",
    "char letterOmega = 'Ω';           // 16-bit Unicode character\n",
    "String str = \"Hello, world! 😊\";\n",
    "int million = 1_000_000;\n",
    "\n",
    "System.out.println(\"bool = \" + bool);\n",
    "System.out.println(\"b = \" + b);\n",
    "System.out.println(\"i = \" + i);\n",
    "System.out.println(\"l = \" + l);\n",
    "System.out.println(\"f = \" + f);\n",
    "System.out.println(\"d = \" + pi);\n",
    "System.out.println(\"c = \" + letterOmega);\n",
    "System.out.println(\"s = \" + s);\n",
    "System.out.println(\"str = \" + str);"
   ]
  },
  {
   "cell_type": "markdown",
   "id": "9a67fb6a-d95d-4f53-968a-3ae0afd4c281",
   "metadata": {},
   "source": [
    "### Conversion\n",
    "\n",
    "We can also convert types from one to another like:"
   ]
  },
  {
   "cell_type": "markdown",
   "id": "5e2f077e-3a01-42d4-a666-6065131bddfe",
   "metadata": {},
   "source": [
    "<img src=\"https://static.javatpoint.com/core/images/type-casting-in-java.png\" />"
   ]
  },
  {
   "cell_type": "code",
   "execution_count": 5,
   "id": "5a6d9226-5a63-4b38-a34b-e08ef728557c",
   "metadata": {
    "ExecuteTime": {
     "end_time": "2023-12-18T09:42:53.915777Z",
     "start_time": "2023-12-18T09:42:53.861530Z"
    }
   },
   "outputs": [
    {
     "name": "stdout",
     "output_type": "stream",
     "text": [
      "d = 7\n"
     ]
    },
    {
     "ename": "CompilationException",
     "evalue": "",
     "output_type": "error",
     "traceback": [
      "\u001B[1m\u001B[30m|   \u001B[1m\u001B[30mint t = \u001B[0m\u001B[1m\u001B[30m\u001B[41ml\u001B[0m\u001B[1m\u001B[30m; //Not without an explicit cast\u001B[0m",
      "\u001B[1m\u001B[31mincompatible types: possible lossy conversion from long to int\u001B[0m",
      ""
     ]
    }
   ],
   "source": [
    "byte a = 2;\n",
    "byte b = 3;\n",
    "byte c = 1;\n",
    "\n",
    "int d = a * b + c;\n",
    "System.out.println(\"d = \" + d);\n",
    "\n",
    "long l = 30L;\n",
    "int t = l; //Not without an explicit cast"
   ]
  },
  {
   "cell_type": "code",
   "execution_count": null,
   "id": "8a3ad4c1-2717-4be3-961d-7f0082fd3609",
   "metadata": {},
   "outputs": [],
   "source": []
  },
  {
   "cell_type": "code",
   "execution_count": 4,
   "id": "d51e461d-fe17-4db7-b821-44159e1f2d34",
   "metadata": {
    "ExecuteTime": {
     "end_time": "2023-12-18T09:42:55.952512Z",
     "start_time": "2023-12-18T09:42:55.890770Z"
    }
   },
   "outputs": [
    {
     "data": {
      "text/plain": [
       "31.415926"
      ]
     },
     "execution_count": 4,
     "metadata": {},
     "output_type": "execute_result"
    }
   ],
   "source": [
    "float f = 1.2f;\n",
    "double __ = 10 * 2.5;\n",
    "f = (float) (Math.PI * 10);\n",
    "\n",
    "f;"
   ]
  },
  {
   "cell_type": "markdown",
   "id": "0790ca40-9f4c-46ca-bca9-5e116d82af1b",
   "metadata": {},
   "source": [
    "### Java Types \n",
    "\n",
    "These are the reference types a programmer can define and invoke methods on. These objects are always created on the heap.\n",
    "Reference types are also called non-primitive types. They are also called objects because their variables can reference objects.\n",
    "Objects are created on the heap. They are not created in a stack.\n",
    "\n",
    "Let's look at some examples:\n",
    "\n",
    "#### Arrays"
   ]
  },
  {
   "cell_type": "code",
   "execution_count": 6,
   "id": "1874f96e-0903-4d27-8351-539177d88889",
   "metadata": {
    "ExecuteTime": {
     "end_time": "2023-12-18T09:42:59.291015Z",
     "start_time": "2023-12-18T09:42:59.262246Z"
    }
   },
   "outputs": [
    {
     "name": "stdout",
     "output_type": "stream",
     "text": [
      "2\n",
      "1 2 3 \n",
      "4 5 6 \n"
     ]
    }
   ],
   "source": [
    "int array[][] = {{1, 2, 3}, {4, 5, 6}};\n",
    "System.out.println(array.length);\n",
    "for (int i = 0; i < 2; i++) {\n",
    "  for (int j = 0; j < 3; j++) {\n",
    "    System.out.print(array[i][j] + \" \");\n",
    "  }\n",
    "  System.out.println();\n",
    "}\n",
    "\n"
   ]
  },
  {
   "cell_type": "markdown",
   "id": "79c35652-4c09-4bcd-96d8-f82edc5c5ac3",
   "metadata": {},
   "source": [
    "#### Strings\n",
    "\n",
    "In Java a String is kind of a special type as you can define it as follows:"
   ]
  },
  {
   "cell_type": "code",
   "execution_count": 7,
   "id": "20550a1b-0e9f-446e-8b54-d08067bcf022",
   "metadata": {
    "ExecuteTime": {
     "end_time": "2024-01-08T15:59:31.372320Z",
     "start_time": "2024-01-08T15:59:31.061599Z"
    }
   },
   "outputs": [
    {
     "data": {
      "text/plain": [
       "Hello world"
      ]
     },
     "execution_count": 7,
     "metadata": {},
     "output_type": "execute_result"
    }
   ],
   "source": [
    "String hello = \"Hello World!\";\n",
    "String test = new String(\"Hello world\");\n",
    "\n",
    "\n",
    "String longHello = \"\"\"\n",
    "    Hello World!\n",
    "    From the Java training\n",
    "    \"\"\";\n",
    "hello;\n",
    "longHello;\n",
    "test;"
   ]
  },
  {
   "cell_type": "markdown",
   "id": "512175b5-9567-4f61-b150-2872e0755912",
   "metadata": {},
   "source": [
    "#### Null \n",
    "\n",
    "Null is a literal, to which you point if there is no value. \n",
    "\n"
   ]
  },
  {
   "cell_type": "code",
   "execution_count": 9,
   "id": "9c124e6c-d025-4614-b39c-a4ca9a2c3dcb",
   "metadata": {},
   "outputs": [
    {
     "name": "stdout",
     "output_type": "stream",
     "text": [
      "s = nullHello\n"
     ]
    },
    {
     "data": {
      "text/plain": [
       "null"
      ]
     },
     "execution_count": 9,
     "metadata": {},
     "output_type": "execute_result"
    }
   ],
   "source": [
    "String s = null;\n",
    "//System.out.println(s.length()); //NullPointerException\n",
    "\n",
    "//What will this print?\n",
    "s = s + \"Hello\";\n",
    "System.out.println(\"s = \" + s);\n",
    "\n",
    "String.valueOf((Object)null);"
   ]
  },
  {
   "cell_type": "markdown",
   "id": "6b693836-771c-48fd-aa71-da70b99618e7",
   "metadata": {},
   "source": [
    "#### Simple type\n",
    "\n",
    "Let's define our own type"
   ]
  },
  {
   "cell_type": "code",
   "execution_count": 10,
   "id": "6572787b-c843-4701-a95a-783045df5c27",
   "metadata": {},
   "outputs": [
    {
     "data": {
      "text/plain": [
       "John"
      ]
     },
     "execution_count": 10,
     "metadata": {},
     "output_type": "execute_result"
    }
   ],
   "source": [
    "class Person { \n",
    "    String name = \"John\";\n",
    "    int age = 32;\n",
    "}\n",
    "\n",
    "Person person = new Person();\n",
    "person.name;"
   ]
  },
  {
   "cell_type": "markdown",
   "id": "bdc96b57-b478-4c71-81c6-70d3327bbe39",
   "metadata": {},
   "source": [
    "Every type has implictly `java.lang.Object` as parent."
   ]
  },
  {
   "cell_type": "code",
   "execution_count": 12,
   "id": "8f447644-3302-4fac-a59e-44d5b94c31c0",
   "metadata": {},
   "outputs": [
    {
     "data": {
      "text/plain": [
       "true"
      ]
     },
     "execution_count": 12,
     "metadata": {},
     "output_type": "execute_result"
    }
   ],
   "source": [
    "String str = \"Test\";\n",
    "person instanceof Object;\n",
    "\n",
    "//str instanceof Object"
   ]
  },
  {
   "cell_type": "code",
   "execution_count": null,
   "id": "4bd43ab0-81c1-49b0-b5d2-13c72e1f3515",
   "metadata": {},
   "outputs": [],
   "source": []
  },
  {
   "cell_type": "code",
   "execution_count": 13,
   "id": "829ee569-6b39-41a2-bbaa-7db03598f2fd",
   "metadata": {},
   "outputs": [
    {
     "data": {
      "text/plain": [
       "true"
      ]
     },
     "execution_count": 13,
     "metadata": {},
     "output_type": "execute_result"
    }
   ],
   "source": [
    "person instanceof Person"
   ]
  },
  {
   "cell_type": "code",
   "execution_count": 14,
   "id": "2f50686b-effb-4c12-bc1f-ab6f606acc59",
   "metadata": {},
   "outputs": [
    {
     "data": {
      "text/plain": [
       "true"
      ]
     },
     "execution_count": 14,
     "metadata": {},
     "output_type": "execute_result"
    }
   ],
   "source": [
    "person instanceof Object"
   ]
  },
  {
   "cell_type": "markdown",
   "id": "8b897519-b214-4be9-be37-d19554de1916",
   "metadata": {},
   "source": [
    "#### Wrapper classes"
   ]
  },
  {
   "cell_type": "markdown",
   "id": "b3ecf974-0191-43a1-8aa6-629b02b5b6d2",
   "metadata": {},
   "source": [
    "Each Java primitive type has a wrapper class and Java support autoboxing and unboxing between the two"
   ]
  },
  {
   "cell_type": "code",
   "execution_count": 15,
   "id": "a284d339-16cf-4a34-9ac4-53496e738d3c",
   "metadata": {},
   "outputs": [
    {
     "data": {
      "text/plain": [
       "true"
      ]
     },
     "execution_count": 15,
     "metadata": {},
     "output_type": "execute_result"
    }
   ],
   "source": [
    "boolean primitive = true;\n",
    "\n",
    "Boolean wrapper = primitive;\n",
    "wrapper;"
   ]
  },
  {
   "cell_type": "code",
   "execution_count": 15,
   "id": "a9ca6bed-4857-4a68-8551-77378d73411f",
   "metadata": {},
   "outputs": [
    {
     "data": {
      "text/plain": [
       "true"
      ]
     },
     "execution_count": 15,
     "metadata": {},
     "output_type": "execute_result"
    }
   ],
   "source": [
    "Boolean wrapper = true;\n",
    "boolean primitive = wrapper;\n",
    "\n",
    "primitive;"
   ]
  },
  {
   "cell_type": "markdown",
   "id": "7eab4c0a-5713-468f-b23e-db5696b9909c",
   "metadata": {},
   "source": [
    "Primitives don't have concept of `null` so"
   ]
  },
  {
   "cell_type": "code",
   "execution_count": 16,
   "id": "20ad2076-dd9b-48de-b57a-f04521f3e430",
   "metadata": {},
   "outputs": [
    {
     "ename": "EvalException",
     "evalue": "Cannot invoke \"java.lang.Boolean.booleanValue()\" because \"REPL.$JShell$61B.wrapper\" is null",
     "output_type": "error",
     "traceback": [
      "\u001B[1m\u001B[31m---------------------------------------------------------------------------\u001B[0m",
      "\u001B[1m\u001B[31mjava.lang.NullPointerException: Cannot invoke \"java.lang.Boolean.booleanValue()\" because \"REPL.$JShell$61B.wrapper\" is null\u001B[0m",
      "\u001B[1m\u001B[31m\tat .(#62:1)\u001B[0m"
     ]
    }
   ],
   "source": [
    "Boolean wrapper = null;\n",
    "boolean primitive = wrapper; //crashes at runtime"
   ]
  },
  {
   "cell_type": "markdown",
   "id": "0a9c81db-bc05-4f0e-a8d4-170d3bbd57b0",
   "metadata": {},
   "source": [
    "# Operators\n",
    "\n",
    "On primitive types Java defines operators. On types we can define our own methods.\n",
    "\n",
    "https://www.startertutorials.com/corejava/wp-content/uploads/2014/10/Operators.jpg"
   ]
  },
  {
   "cell_type": "markdown",
   "id": "744e4dfa-73d6-47c3-b52f-adfb6cb961bb",
   "metadata": {},
   "source": [
    "<img src=\"https://www.startertutorials.com/corejava/wp-content/uploads/2014/10/Operators.jpg\"/>"
   ]
  },
  {
   "cell_type": "code",
   "execution_count": 17,
   "id": "a013ab40-72c3-4b76-b45b-f824b5beb2c9",
   "metadata": {},
   "outputs": [
    {
     "name": "stdout",
     "output_type": "stream",
     "text": [
      "i_1 = 10\n",
      "i_1 = 11\n",
      "i_2 = 12\n",
      "i_2 = 12\n",
      "false\n",
      "true\n",
      "false\n",
      "false\n",
      "true\n"
     ]
    },
    {
     "data": {
      "text/plain": [
       "ab"
      ]
     },
     "execution_count": 17,
     "metadata": {},
     "output_type": "execute_result"
    }
   ],
   "source": [
    "int i = 10;\n",
    "\n",
    "System.out.println(\"i_1 = \" + i++);\n",
    "i = i + 1;\n",
    "System.out.println(\"i_1 = \" + i);\n",
    "\n",
    "System.out.println(\"i_2 = \" + ++i);\n",
    "System.out.println(\"i_2 = \" + i);\n",
    "\n",
    "boolean a = true;\n",
    "boolean b = false;\n",
    "\n",
    "System.out.println(a && b);\n",
    "System.out.println(a || b);\n",
    "System.out.println(!a);\n",
    "System.out.println(a ^ !b);\n",
    "System.out.println(a ^ b);\n",
    "\n",
    "String a = \"a\";\n",
    "String b = \"b\";\n",
    "a + b"
   ]
  },
  {
   "cell_type": "markdown",
   "id": "834d42ef-34f7-4bb1-abac-eea8789e4552",
   "metadata": {},
   "source": [
    "## Control flow\n",
    "\n",
    "In this section we will look some of language control statements."
   ]
  },
  {
   "cell_type": "markdown",
   "id": "e3ea4699-d1e4-45db-b905-538fe08c5cd4",
   "metadata": {},
   "source": [
    "### If statement"
   ]
  },
  {
   "cell_type": "code",
   "execution_count": 18,
   "id": "fef3dbba-05cc-4935-8431-2f817484ac20",
   "metadata": {},
   "outputs": [
    {
     "name": "stdout",
     "output_type": "stream",
     "text": [
      "Starts with Hello\n"
     ]
    }
   ],
   "source": [
    " String str = \"Hello World\";\n",
    "\n",
    "if (str.startsWith(\"hello\")) {\n",
    "  System.out.println(\"Starts with hello\");\n",
    "} else if (str.startsWith(\"Hello\")) {\n",
    "  System.out.println(\"Starts with Hello\");\n",
    "} else {\n",
    "  System.out.println(\"No match found\");\n",
    "}"
   ]
  },
  {
   "cell_type": "markdown",
   "id": "edd117f2-ce45-4e84-a39b-87f639a7e163",
   "metadata": {},
   "source": [
    "<img src=\"https://scaler.com/topics/images/nesting-ternary-operator.webp\"/>"
   ]
  },
  {
   "cell_type": "code",
   "execution_count": 19,
   "id": "1a7da02b-552b-4592-9125-c991e4cf42e0",
   "metadata": {},
   "outputs": [
    {
     "name": "stdout",
     "output_type": "stream",
     "text": [
      "No match found\n"
     ]
    }
   ],
   "source": [
    "String str = \"Hello World\";\n",
    "String result = str.startsWith(\"hello\") ? \"Starts with hello\" : \"No match found\";\n",
    "return a ? d : c;\n",
    "System.out.println(result);"
   ]
  },
  {
   "cell_type": "markdown",
   "id": "007bf7a6-ca7a-451d-9c54-9cde69f31170",
   "metadata": {},
   "source": [
    "<img src=\"https://static.javatpoint.com/images/java-loops.png\"/>"
   ]
  },
  {
   "cell_type": "markdown",
   "id": "6e6ad6a4-6730-4656-9dfc-cec853b998ba",
   "metadata": {},
   "source": [
    "### For loops"
   ]
  },
  {
   "cell_type": "code",
   "execution_count": 20,
   "id": "ddeb8088-3ae3-4646-bafd-2ca622c3fbd7",
   "metadata": {},
   "outputs": [
    {
     "name": "stdout",
     "output_type": "stream",
     "text": [
      "#0 is Hello\n",
      "#1 is World\n"
     ]
    }
   ],
   "source": [
    "String[] words = {\"Hello\", \"World\"};\n",
    "\n",
    "for (int i = 0; i < words.length; i++) {\n",
    "  System.out.println(\"#\" + i  + \" is \" + words[i]);\n",
    "}"
   ]
  },
  {
   "cell_type": "code",
   "execution_count": 21,
   "id": "fbd66ce5-51bc-40f3-8c79-6c31b9e09895",
   "metadata": {},
   "outputs": [
    {
     "name": "stdout",
     "output_type": "stream",
     "text": [
      "Hello\n",
      "World\n"
     ]
    }
   ],
   "source": [
    "String[] words = {\"Hello\", \"World\"};\n",
    "\n",
    "//for each construct \n",
    "for (String word : words) {\n",
    "  System.out.println(word);\n",
    "}"
   ]
  },
  {
   "cell_type": "markdown",
   "id": "225e2bff-aaed-45ec-9d88-3f7d44916ff1",
   "metadata": {},
   "source": [
    "### While loops"
   ]
  },
  {
   "cell_type": "code",
   "execution_count": 7,
   "id": "13955bc5-2b44-44b7-9895-fe78152197a7",
   "metadata": {
    "ExecuteTime": {
     "end_time": "2023-12-18T09:44:35.099456Z",
     "start_time": "2023-12-18T09:44:35.068858Z"
    }
   },
   "outputs": [
    {
     "name": "stdout",
     "output_type": "stream",
     "text": [
      "#0 is Hello\n",
      "#1 is World\n"
     ]
    }
   ],
   "source": [
    "String[] words = {\"Hello\", \"World\"};\n",
    "\n",
    "int i = 0;\n",
    "while (i < words.length) {\n",
    "  System.out.println(\"#\" + i  + \" is \" + words[i]);\n",
    "  i = i + 1;\n",
    "}"
   ]
  },
  {
   "cell_type": "code",
   "execution_count": 8,
   "id": "eb846273-7b45-4971-a9eb-da0e4f268473",
   "metadata": {
    "ExecuteTime": {
     "end_time": "2023-12-18T09:44:43.834422Z",
     "start_time": "2023-12-18T09:44:43.807751Z"
    }
   },
   "outputs": [
    {
     "name": "stdout",
     "output_type": "stream",
     "text": [
      "#0 is Hello\n",
      "#1 is World\n"
     ]
    }
   ],
   "source": [
    "String[] words = {\"Hello\", \"World\"};\n",
    "\n",
    "//for loop as while --> not recommended\n",
    "int k = 0;\n",
    "for (; k < words.length; k++ ) {\n",
    "  System.out.println(\"#\" + k + \" is \" + words[k]);\n",
    "}\n"
   ]
  },
  {
   "cell_type": "code",
   "execution_count": 22,
   "id": "bd718b4c-0540-4333-85e1-9d0918b6f4ea",
   "metadata": {
    "ExecuteTime": {
     "end_time": "2023-12-18T09:44:55.496181Z",
     "start_time": "2023-12-18T09:44:55.460786Z"
    }
   },
   "outputs": [
    {
     "name": "stdout",
     "output_type": "stream",
     "text": [
      "#0 is Hello\n",
      "#1 is World\n"
     ]
    }
   ],
   "source": [
    "//do while loop\n",
    "String[] words = {\"Hello\", \"World\"};\n",
    "\n",
    "int l = 0;\n",
    "do {\n",
    "  System.out.println(\"#\" + l + \" is \" + words[l]);\n",
    "  l++;\n",
    "} while (l < words.length);"
   ]
  },
  {
   "cell_type": "markdown",
   "id": "4721831d-303f-47ac-9df6-e7eaa71cd000",
   "metadata": {},
   "source": [
    "### Switch statements"
   ]
  },
  {
   "cell_type": "code",
   "execution_count": 23,
   "id": "aaadea58-10f7-482c-8e55-2a90a4df6811",
   "metadata": {
    "ExecuteTime": {
     "end_time": "2023-12-18T09:45:36.517534Z",
     "start_time": "2023-12-18T09:45:36.483985Z"
    }
   },
   "outputs": [
    {
     "name": "stdout",
     "output_type": "stream",
     "text": [
      "Hello World\n"
     ]
    }
   ],
   "source": [
    "//Switch statement \n",
    "\n",
    "String str = \"Hello World\";\n",
    "\n",
    "switch (str) {\n",
    "  case \"Hello World\":\n",
    "    System.out.println(\"Hello World\");\n",
    "    break;\n",
    " case \"Hello\":\n",
    "    System.out.println(\"Hello\");\n",
    "    break;\n",
    " default:\n",
    "    System.out.println(\"No match found\");\n",
    "}"
   ]
  },
  {
   "cell_type": "code",
   "execution_count": 24,
   "id": "177becf0-9e34-4f8d-b167-17bc1c8c5c65",
   "metadata": {
    "is_executing": true
   },
   "outputs": [
    {
     "name": "stdout",
     "output_type": "stream",
     "text": [
      "Hello World\n"
     ]
    }
   ],
   "source": [
    "//more power\n",
    "String str = \"Hello World\";\n",
    "System.out.println(switch (str) {\n",
    "  case \"Hello World\" -> \"Hello World\";\n",
    "  case \"Hello\" -> \"Hello\";\n",
    "  default -> \"No match found\";     //default is mandatory\n",
    "});"
   ]
  },
  {
   "cell_type": "code",
   "execution_count": null,
   "id": "43bba234-7ed1-42c6-b1de-eae4bbfc8fe5",
   "metadata": {
    "is_executing": true
   },
   "outputs": [],
   "source": [
    "//more power\n",
    "Object str = \"Hello World\";\n",
    "Object str = 1;\n",
    "\n",
    "System.out.println(switch (str) {\n",
    "  case String s -> s;\n",
    "  case Integer i -> i;\n",
    "  default -> \"No match found\";     //default is mandatory\n",
    "});"
   ]
  },
  {
   "cell_type": "code",
   "execution_count": 2,
   "id": "ab4908d9-6d55-4cd1-8cc0-4fb34b4c718a",
   "metadata": {
    "is_executing": true
   },
   "outputs": [
    {
     "ename": "CompilationException",
     "evalue": "",
     "output_type": "error",
     "traceback": [
      "\u001B[1m\u001B[30m|   \u001B[1m\u001B[30m  case \u001B[0m\u001B[1m\u001B[30m\u001B[41m\u001B[0m\u001B[1m\u001B[30mString s when s.isBlank() -> \"Blank\";\u001B[0m",
      "\u001B[1m\u001B[31mpatterns in switch statements are a preview feature and are disabled by default.\u001B[0m",
      "\u001B[1m\u001B[31m  (use --enable-preview to enable patterns in switch statements)\u001B[0m",
      "",
      "\u001B[1m\u001B[30m|   \u001B[1m\u001B[30m  case String s\u001B[0m\u001B[1m\u001B[30m\u001B[41m\u001B[0m\u001B[1m\u001B[30m when s.isBlank() -> \"Blank\";\u001B[0m",
      "\u001B[1m\u001B[31m: or -> expected\u001B[0m",
      "",
      "\u001B[1m\u001B[30m|   \u001B[1m\u001B[30m  case String s when s\u001B[0m\u001B[1m\u001B[30m\u001B[41m\u001B[0m\u001B[1m\u001B[30m.isBlank() -> \"Blank\";\u001B[0m",
      "\u001B[1m\u001B[31m';' expected\u001B[0m",
      "",
      "\u001B[1m\u001B[30m|   \u001B[1m\u001B[30m  case String s when s.isBlank()\u001B[0m\u001B[1m\u001B[30m\u001B[41m\u001B[0m\u001B[1m\u001B[30m -> \"Blank\";\u001B[0m",
      "\u001B[1m\u001B[31m';' expected\u001B[0m",
      ""
     ]
    }
   ],
   "source": [
    "Object o = new Person();\n",
    "//Object o = \"Hello World\";\n",
    "//Object o = \"\";\n",
    "//String o  = \"H\"\n",
    "\n",
    "\n",
    "System.out.println(switch (o) {\n",
    "  case null -> \"Null\";\n",
    "  case String s when s.isBlank() -> \"Blank\";\n",
    "  case String s -> s;\n",
    "  case Integer i -> i;\n",
    "  default -> \"No match found\";     //default is mandatory\n",
    "});"
   ]
  },
  {
   "cell_type": "code",
   "execution_count": null,
   "id": "5a39d1b7-a48f-401a-b6d2-b7c125fe3c36",
   "metadata": {
    "is_executing": true
   },
   "outputs": [],
   "source": [
    "// or write it with if statements like this\n",
    "\n",
    "if (o == null) {\n",
    "  System.out.println(\"Null\");\n",
    "} else if (o instanceof String s && s.isBlank()) {\n",
    "  System.out.println(\"Blank\");\n",
    "} else if (o instanceof String s) {\n",
    "  System.out.println(s);\n",
    "} else if (o instanceof Integer i) {\n",
    "  System.out.println(i);\n",
    "} else {\n",
    "  System.out.println(\"No match found\");\n",
    "}"
   ]
  },
  {
   "cell_type": "markdown",
   "id": "a9501eea-991f-45eb-b044-d84fc7f05f8a",
   "metadata": {},
   "source": [
    "### Continue / break"
   ]
  },
  {
   "cell_type": "markdown",
   "id": "3dc30e8f-f123-4ef5-9649-08139a83cd74",
   "metadata": {},
   "source": [
    "<img src=\"https://static.javatpoint.com/core/images/branching-statements-in-java.png\"/>"
   ]
  },
  {
   "cell_type": "code",
   "execution_count": 30,
   "id": "3b8ead1e-c8b2-4f06-a0be-e1e80e110109",
   "metadata": {
    "is_executing": true
   },
   "outputs": [
    {
     "name": "stdout",
     "output_type": "stream",
     "text": [
      "Position 0 contains word Hello\n",
      "Test\n"
     ]
    }
   ],
   "source": [
    "String[] words = {\"Hello\", \"World\"};\n",
    "for (int i = 0; i < words.length; i++) {\n",
    "  if (i == 0) {\n",
    "    System.out.println(\"Position %d contains word %s\".formatted(i, words[i]));\n",
    "    break;\n",
    "  }\n",
    "    System.out.println(\"\" + i);\n",
    "}\n",
    "System.out.println(\"Test\");"
   ]
  },
  {
   "cell_type": "code",
   "execution_count": null,
   "id": "1ad2cd61-2b1a-4428-81ec-a35e5c727c03",
   "metadata": {},
   "outputs": [],
   "source": []
  },
  {
   "cell_type": "code",
   "execution_count": 33,
   "id": "3ed347e9-0df3-4e7a-a016-4cf54fa0757c",
   "metadata": {
    "is_executing": true
   },
   "outputs": [
    {
     "name": "stdout",
     "output_type": "stream",
     "text": [
      "j = 0 and k = 1\n",
      "j = 0 and k = 2\n",
      "j = 1 and k = 1\n",
      "j = 1 and k = 2\n",
      "j = 2 and k = 1\n",
      "j = 2 and k = 2\n",
      "j = 3 and k = 1\n"
     ]
    }
   ],
   "source": [
    "j:\n",
    "  for (int j = 0; j < 5; j++) {\n",
    "\n",
    "  innerMost:\n",
    "    for (int k = 1; k < 3; k++) {\n",
    "      System.out.println(\"j = \" + j + \" and k = \" + k);\n",
    "\n",
    "      // Terminating the outerMost loop\n",
    "      if (j == 3)\n",
    "        break j;\n",
    "      }\n",
    "    }"
   ]
  },
  {
   "cell_type": "code",
   "execution_count": null,
   "id": "85f18b61-79d9-4488-a500-de6b1702c436",
   "metadata": {},
   "outputs": [],
   "source": []
  },
  {
   "cell_type": "markdown",
   "id": "6179c307-65dd-4184-aa7b-eccdbe3ac897",
   "metadata": {},
   "source": [
    "## Logical operators"
   ]
  },
  {
   "cell_type": "code",
   "execution_count": 34,
   "id": "5f354271-29aa-47c8-a34e-be00db49969a",
   "metadata": {
    "is_executing": true
   },
   "outputs": [
    {
     "name": "stdout",
     "output_type": "stream",
     "text": [
      "i_1 = 10\n",
      "i_1 = 11\n"
     ]
    }
   ],
   "source": [
    "int i = 10;\n",
    "\n",
    "System.out.println(\"i_1 = \" + i++);\n",
    "System.out.println(\"i_1 = \" + i);\n"
   ]
  },
  {
   "cell_type": "code",
   "execution_count": null,
   "id": "caf3d629-1c27-4e0c-a0b5-eed8587d2a39",
   "metadata": {
    "is_executing": true
   },
   "outputs": [],
   "source": [
    "int j = 10;\n",
    "\n",
    "System.out.println(\"i_2 = \" + ++j);\n",
    "System.out.println(\"i_2 = \" + j);"
   ]
  },
  {
   "cell_type": "markdown",
   "id": "d6c1c6bdfc0cadb",
   "metadata": {
    "collapsed": false
   },
   "source": [
    "boolean a = true;\n",
    "boolean b = false;\n",
    "\n",
    "System.out.println(a && b);\n",
    "System.out.println(a || b);\n",
    "System.out.println(!a);\n",
    "System.out.println(a ^ !b);\n",
    "System.out.println(a ^ b);"
   ]
  },
  {
   "cell_type": "code",
   "execution_count": null,
   "id": "e738e8f613959f80",
   "metadata": {
    "collapsed": false
   },
   "outputs": [],
   "source": [
    "### String \n",
    "\n",
    "String is a special type in Java. It is not a primitive type but it is a reference type. It is also immutable. Java encodes strings in UTF-16.\n",
    "\n",
    "String offers a lot of methods to work with strings. Let's look at some of them.\n"
   ]
  },
  {
   "cell_type": "code",
   "execution_count": 35,
   "id": "6dd8e32a75d0d19e",
   "metadata": {
    "ExecuteTime": {
     "end_time": "2024-01-08T16:01:17.788763Z",
     "start_time": "2024-01-08T16:01:17.726621Z"
    },
    "collapsed": false
   },
   "outputs": [
    {
     "data": {
      "text/plain": [
       "11"
      ]
     },
     "execution_count": 35,
     "metadata": {},
     "output_type": "execute_result"
    }
   ],
   "source": [
    "String str = \"Hello World\";\n",
    "str.length();"
   ]
  },
  {
   "cell_type": "code",
   "execution_count": 39,
   "id": "8d10e9670bb1def5",
   "metadata": {
    "ExecuteTime": {
     "end_time": "2024-01-08T16:01:31.247403Z",
     "start_time": "2024-01-08T16:01:31.229765Z"
    },
    "collapsed": false
   },
   "outputs": [
    {
     "data": {
      "text/plain": [
       "H"
      ]
     },
     "execution_count": 39,
     "metadata": {},
     "output_type": "execute_result"
    }
   ],
   "source": [
    "String str = \"Hello World\";\n",
    "Character c = str.charAt(0);\n",
    "c;"
   ]
  },
  {
   "cell_type": "code",
   "execution_count": 40,
   "id": "7e5e1594ed2b5399",
   "metadata": {
    "ExecuteTime": {
     "end_time": "2024-01-08T16:01:41.604977Z",
     "start_time": "2024-01-08T16:01:41.575059Z"
    },
    "collapsed": false
   },
   "outputs": [
    {
     "data": {
      "text/plain": [
       "Hello"
      ]
     },
     "execution_count": 40,
     "metadata": {},
     "output_type": "execute_result"
    }
   ],
   "source": [
    "String str = \"Hello World\";\n",
    "str.substring(0, 5);"
   ]
  },
  {
   "cell_type": "code",
   "execution_count": 41,
   "id": "e9f909c446d88bb9",
   "metadata": {
    "ExecuteTime": {
     "end_time": "2024-01-08T16:01:56.118087Z",
     "start_time": "2024-01-08T16:01:56.078009Z"
    },
    "collapsed": false
   },
   "outputs": [
    {
     "data": {
      "text/plain": [
       "true"
      ]
     },
     "execution_count": 41,
     "metadata": {},
     "output_type": "execute_result"
    }
   ],
   "source": [
    "String str = \"Hello World\";\n",
    "str.startsWith(\"Hello\");"
   ]
  },
  {
   "cell_type": "code",
   "execution_count": 42,
   "id": "7dba7e62b935f916",
   "metadata": {
    "ExecuteTime": {
     "end_time": "2024-01-08T16:02:10.014914Z",
     "start_time": "2024-01-08T16:02:09.962138Z"
    },
    "collapsed": false
   },
   "outputs": [
    {
     "data": {
      "text/plain": [
       "true"
      ]
     },
     "execution_count": 42,
     "metadata": {},
     "output_type": "execute_result"
    }
   ],
   "source": [
    "String str = \"Hello World\";\n",
    "str.endsWith(\"World\");"
   ]
  },
  {
   "cell_type": "code",
   "execution_count": 45,
   "id": "552c82d902b85b16",
   "metadata": {
    "ExecuteTime": {
     "end_time": "2024-01-08T16:02:23.838918Z",
     "start_time": "2024-01-08T16:02:23.801129Z"
    },
    "collapsed": false
   },
   "outputs": [
    {
     "data": {
      "text/plain": [
       "false"
      ]
     },
     "execution_count": 45,
     "metadata": {},
     "output_type": "execute_result"
    }
   ],
   "source": [
    "String str = \"Hello World\";\n",
    "str.contains(\"World\");\n",
    "str.isBlank()\n",
    "isEmpty(str);\n",
    "hasText(str);"
   ]
  },
  {
   "cell_type": "code",
   "execution_count": 44,
   "id": "e13ca08f0ca13535",
   "metadata": {
    "ExecuteTime": {
     "end_time": "2024-01-08T16:02:34.405267Z",
     "start_time": "2024-01-08T16:02:34.389435Z"
    },
    "collapsed": false
   },
   "outputs": [
    {
     "data": {
      "text/plain": [
       "6"
      ]
     },
     "execution_count": 44,
     "metadata": {},
     "output_type": "execute_result"
    }
   ],
   "source": [
    "String str = \"Hello World\";\n",
    "str.indexOf(\"World\");"
   ]
  },
  {
   "cell_type": "markdown",
   "id": "d6935b1317411ec4",
   "metadata": {
    "collapsed": false
   },
   "source": [
    "<img src=\"https://i0.wp.com/javaconceptoftheday.com/wp-content/uploads/2022/02/JavaNewStringMethods.png?ssl=1\"/>"
   ]
  },
  {
   "cell_type": "code",
   "execution_count": 46,
   "id": "81d45ad4ac4833e3",
   "metadata": {
    "ExecuteTime": {
     "end_time": "2024-01-08T18:23:14.199141Z",
     "start_time": "2024-01-08T18:23:14.143174Z"
    },
    "collapsed": false
   },
   "outputs": [
    {
     "data": {
      "text/plain": [
       "Hello World Hello World Hello World Hello World Hello World Hello World "
      ]
     },
     "execution_count": 46,
     "metadata": {},
     "output_type": "execute_result"
    }
   ],
   "source": [
    "String str = \"Hello World \";\n",
    "str.repeat(6);"
   ]
  },
  {
   "cell_type": "code",
   "execution_count": 47,
   "id": "8175ce821f295af8",
   "metadata": {
    "ExecuteTime": {
     "end_time": "2024-01-08T18:23:56.409215Z",
     "start_time": "2024-01-08T18:23:56.383677Z"
    },
    "collapsed": false
   },
   "outputs": [
    {
     "data": {
      "text/plain": [
       "Hello World"
      ]
     },
     "execution_count": 47,
     "metadata": {},
     "output_type": "execute_result"
    }
   ],
   "source": [
    "String str = \" Hello World \";\n",
    "str.strip();"
   ]
  },
  {
   "cell_type": "code",
   "execution_count": 48,
   "id": "27c360855449db8b",
   "metadata": {
    "ExecuteTime": {
     "end_time": "2024-01-08T18:24:54.387705Z",
     "start_time": "2024-01-08T18:24:54.364485Z"
    },
    "collapsed": false
   },
   "outputs": [
    {
     "data": {
      "text/plain": [
       "true"
      ]
     },
     "execution_count": 48,
     "metadata": {},
     "output_type": "execute_result"
    }
   ],
   "source": [
    "String str = \"Hello World\";\n",
    "str.matches(\"(H[a-z])* (World)$\");"
   ]
  },
  {
   "cell_type": "code",
   "execution_count": 23,
   "id": "5ad193ee02aa42ff",
   "metadata": {
    "ExecuteTime": {
     "end_time": "2024-01-08T18:29:36.035761Z",
     "start_time": "2024-01-08T18:29:35.996347Z"
    },
    "collapsed": false
   },
   "outputs": [
    {
     "data": {
      "text/plain": [
       "false"
      ]
     },
     "execution_count": 23,
     "metadata": {},
     "output_type": "execute_result"
    }
   ],
   "source": [
    "Pattern pattern = Pattern.compile(\"H[a-z]* World$\");\n",
    "Matcher matcher = pattern.matcher(\"Hello World\");\n",
    "matcher.group(0);\n",
    "matcher.group(1);\n",
    "matcher.matches();\n"
   ]
  },
  {
   "cell_type": "code",
   "execution_count": 50,
   "id": "ccb7b0787dd802ea",
   "metadata": {
    "ExecuteTime": {
     "end_time": "2024-01-08T18:41:37.407235Z",
     "start_time": "2024-01-08T18:41:37.377536Z"
    },
    "collapsed": false
   },
   "outputs": [
    {
     "name": "stdout",
     "output_type": "stream",
     "text": [
      "4\n",
      "3\n"
     ]
    }
   ],
   "source": [
    "String str = \"𝔸BC\";\n",
    "System.out.println(str.length());\n",
    "System.out.println(str.codePointCount(0, str.length()));"
   ]
  },
  {
   "cell_type": "markdown",
   "id": "513417d9f6e4401",
   "metadata": {
    "collapsed": false
   },
   "source": [
    "Characters (Code Points) from the first plane 0 are encoded in one 16-bit Code Unit with the same value. Supplementary characters (Code Points) are encoded in two Code Units.\n",
    " \n",
    "Code Units may be required to encode a Code Point (character)."
   ]
  },
  {
   "cell_type": "code",
   "execution_count": 53,
   "id": "eda2434256c0f830",
   "metadata": {
    "ExecuteTime": {
     "end_time": "2024-01-08T18:45:15.400616Z",
     "start_time": "2024-01-08T18:45:15.382497Z"
    },
    "collapsed": false
   },
   "outputs": [
    {
     "data": {
      "text/plain": [
       "?"
      ]
     },
     "execution_count": 53,
     "metadata": {},
     "output_type": "execute_result"
    }
   ],
   "source": [
    "String str = \"𝔸BC\";\n",
    "str.charAt(3); //starts at 0 so 4th character\n",
    "str.charAt(1);"
   ]
  },
  {
   "cell_type": "code",
   "execution_count": 55,
   "id": "fb825f29edb9ed0d",
   "metadata": {
    "ExecuteTime": {
     "end_time": "2024-01-08T18:40:20.180444Z",
     "start_time": "2024-01-08T18:40:20.157060Z"
    },
    "collapsed": false
   },
   "outputs": [
    {
     "data": {
      "text/plain": [
       "CB??"
      ]
     },
     "execution_count": 55,
     "metadata": {},
     "output_type": "execute_result"
    }
   ],
   "source": [
    "String reverse(String original) {\n",
    "    String reversed = \"\";\n",
    "    for (int i = original.length() - 1;  0 <= i; i--) {\n",
    "        reversed += original.charAt(i);\n",
    "    }\n",
    "\n",
    "    return reversed;\n",
    "}\n",
    "\n",
    "\n",
    "reverse(\"𝔸BC\");"
   ]
  },
  {
   "cell_type": "code",
   "execution_count": 56,
   "id": "95112f1b02954ffd",
   "metadata": {
    "ExecuteTime": {
     "end_time": "2024-01-08T18:41:10.066164Z",
     "start_time": "2024-01-08T18:41:10.031595Z"
    },
    "collapsed": false
   },
   "outputs": [
    {
     "data": {
      "text/plain": [
       "CB𝔸"
      ]
     },
     "execution_count": 56,
     "metadata": {},
     "output_type": "execute_result"
    }
   ],
   "source": [
    "new StringBuilder(\"𝔸BC\").reverse().toString()\n"
   ]
  },
  {
   "cell_type": "markdown",
   "id": "75ab3b2b-14fd-4f9f-b78c-2f751823fb78",
   "metadata": {
    "is_executing": true
   },
   "source": [
    "# Assignment 1"
   ]
  },
  {
   "cell_type": "markdown",
   "id": "7ed180b6-414b-4cb9-9a4c-6ee6cae30127",
   "metadata": {
    "is_executing": true
   },
   "source": [
    "- Sum\n",
    "- Triangle\n",
    "- Palindrome"
   ]
  }
 ],
 "metadata": {
  "kernelspec": {
   "display_name": "Java",
   "language": "java",
   "name": "java"
  },
  "language_info": {
   "codemirror_mode": "java",
   "file_extension": ".jshell",
   "mimetype": "text/x-java-source",
   "name": "Java",
   "pygments_lexer": "java",
   "version": "17.0.7+7"
  }
 },
 "nbformat": 4,
 "nbformat_minor": 5
}
